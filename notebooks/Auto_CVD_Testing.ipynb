{
 "cells": [
  {
   "cell_type": "code",
   "execution_count": null,
   "metadata": {},
   "outputs": [],
   "source": [
    "from collections import OrderedDict\n",
    "from qtpy import QtCore\n",
    "import datetime\n",
    "import numpy as np\n",
    "import time\n",
    "import os"
   ]
  },
  {
   "cell_type": "code",
   "execution_count": 2,
   "metadata": {},
   "outputs": [
    {
     "name": "stdout",
     "output_type": "stream",
     "text": [
      "Available interfaces:\n",
      "  ftdi://ftdi:2232:0:1/1   (Dual RS232)\n",
      "  ftdi://ftdi:2232:0:1/2   (Dual RS232)\n",
      "\n"
     ]
    }
   ],
   "source": [
    "try:\n",
    "    Keithlay_DMM6500\n",
    "except NameError:\n",
    "    manager.startModule('hardware', 'Keithlay_DMM6500')\n",
    "\n",
    "try:\n",
    "    DIY_DAQ\n",
    "except NameError:\n",
    "    manager.startModule('hardware', 'DIY_DAQ')\n",
    "\n",
    "try:\n",
    "    multimetercounterlogic\n",
    "except NameError:\n",
    "    manager.startModule('logic', 'multimetercounterlogic')"
   ]
  },
  {
   "cell_type": "code",
   "execution_count": null,
   "metadata": {},
   "outputs": [],
   "source": []
  },
  {
   "cell_type": "code",
   "execution_count": 3,
   "metadata": {},
   "outputs": [],
   "source": [
    "Keithlay_DMM6500.dmm6500.SetMeasure_Range(300)"
   ]
  },
  {
   "cell_type": "code",
   "execution_count": null,
   "metadata": {},
   "outputs": [],
   "source": []
  },
  {
   "cell_type": "code",
   "execution_count": 4,
   "metadata": {},
   "outputs": [
    {
     "name": "stdout",
     "output_type": "stream",
     "text": [
      "Available interfaces:\n",
      "  ftdi://ftdi:2232:0:1/1   (Dual RS232)\n",
      "  ftdi://ftdi:2232:0:1/2   (Dual RS232)\n",
      "\n"
     ]
    }
   ],
   "source": [
    "from pyftdi.ftdi import Ftdi\n",
    "Ftdi.show_devices()"
   ]
  },
  {
   "cell_type": "code",
   "execution_count": null,
   "metadata": {},
   "outputs": [],
   "source": []
  },
  {
   "cell_type": "code",
   "execution_count": 23,
   "metadata": {},
   "outputs": [],
   "source": [
    "def set_bias(var):\n",
    "    DIY_DAQ.set_control_value(value=var, channel=0)\n",
    "\n",
    "def set_CH4(var):\n",
    "    DIY_DAQ.set_control_value(value=var, channel=3)\n",
    "\n",
    "class Worker(QtCore.QThread):\n",
    "    sigStart = QtCore.Signal()\n",
    "    \n",
    "    sigStopCounter = QtCore.Signal()\n",
    "\n",
    "    def __init__(self, parent = None):\n",
    "        super(Worker, self).__init__(parent)\n",
    "        \n",
    "        self.sigStart.connect(self.test)\n",
    "        self.sigStopCounter.connect(multimetercounterlogic.stopCount)\n",
    "    \n",
    "    def test(self):\n",
    "        multimetercounterlogic.start_saving()\n",
    "        \n",
    "        time.sleep(1)\n",
    "        print(\"start\")\n",
    "        set_CH4(5.0)\n",
    "        time.sleep(13)\n",
    "        set_bias(5)\n",
    "        time.sleep(10)\n",
    "        set_bias(5)\n",
    "        set_CH4(0)\n",
    "        print(\"end\")\n",
    "        \n",
    "        self.sigStopCounter.emit()\n",
    "        multimetercounterlogic.save_data()\n",
    "\n",
    "work = Worker()"
   ]
  },
  {
   "cell_type": "code",
   "execution_count": 24,
   "metadata": {},
   "outputs": [
    {
     "name": "stdout",
     "output_type": "stream",
     "text": [
      "start\n",
      "end\n"
     ]
    }
   ],
   "source": [
    "work.sigStart.emit()"
   ]
  },
  {
   "cell_type": "code",
   "execution_count": 22,
   "metadata": {},
   "outputs": [],
   "source": [
    "set_CH4(0.0)"
   ]
  },
  {
   "cell_type": "code",
   "execution_count": null,
   "metadata": {},
   "outputs": [],
   "source": []
  }
 ],
 "metadata": {
  "kernelspec": {
   "display_name": "Qudi",
   "language": "python",
   "name": "qudi"
  },
  "language_info": {
   "codemirror_mode": {
    "name": "ipython",
    "version": 3
   },
   "file_extension": ".py",
   "mimetype": "text/x-python",
   "name": "python",
   "nbconvert_exporter": "python",
   "pygments_lexer": "ipython3",
   "version": "3.6.12"
  }
 },
 "nbformat": 4,
 "nbformat_minor": 4
}
