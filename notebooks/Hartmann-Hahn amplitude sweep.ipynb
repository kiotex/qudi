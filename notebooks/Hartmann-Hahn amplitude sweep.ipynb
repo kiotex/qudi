{
 "cells": [
  {
   "cell_type": "markdown",
   "metadata": {},
   "source": [
    "# Spin-Locking amplitude sweep"
   ]
  },
  {
   "cell_type": "code",
   "execution_count": 1,
   "metadata": {},
   "outputs": [],
   "source": [
    "from collections import OrderedDict\n",
    "import datetime\n",
    "import numpy as np\n",
    "import time\n",
    "import os\n",
    "\n",
    "try: \n",
    "    pulsedmasterlogic\n",
    "except NameError:\n",
    "    manager.startModule('logic', 'pulsedmasterlogic')\n",
    "try: \n",
    "    scannerlogic\n",
    "except NameError:\n",
    "    manager.startModule('logic', 'scannerlogic')\n",
    "try: \n",
    "    optimizer\n",
    "except NameError:\n",
    "    manager.startModule('logic', 'optimizer')\n",
    "try:\n",
    "    sequencegenerator\n",
    "except NameError:\n",
    "    manager.startModule('logic', 'sequencegenerator')\n",
    "try:\n",
    "    pulsedmeasurementlogic\n",
    "except NameError:\n",
    "    manager.startModule('gui', 'pulsedmeasurementlogic')   \n",
    "try:\n",
    "    poimanager\n",
    "except NameError:\n",
    "    manager.startModule('logic', 'poimaganer')  \n",
    "    \n",
    "def write_to_logfile(nametag, timestamp, name, **kwargs):\n",
    "    \"\"\" Write parameters to custom logfile with name nametag \"\"\"\n",
    "    if type(timestamp) is not str:\n",
    "        timestamp = str(timestamp)\n",
    "    parameters = list(kwargs)\n",
    "    if len(parameters) == 1 and type(kwargs[parameters[0]]) is OrderedDict:\n",
    "        param_dict = kwargs[parameters[0]]\n",
    "        parameters = list(param_dict)\n",
    "        kwargs = param_dict\n",
    "    log_dir = pulsedmeasurementlogic.savelogic().get_path_for_module('CustomLogfiles')\n",
    "    log_path = os.path.join(log_dir, nametag + '.txt')\n",
    "    if not os.path.isfile(log_path):\n",
    "        with open(log_path, 'w') as logfile:\n",
    "            logfile.write('# timestamp\\t')\n",
    "            logfile.write('# Name\\t')\n",
    "            for param in parameters:\n",
    "                logfile.write(param + '\\t')\n",
    "            logfile.write('\\n#\\n')\n",
    "    with open(log_path, 'a') as logfile:\n",
    "        logfile.write(timestamp + '\\t')\n",
    "        logfile.write(name + '\\t')\n",
    "        for param in parameters:\n",
    "            logfile.write('{0:3.6e}\\t'.format(kwargs[param]))\n",
    "        logfile.write('\\n')\n",
    "    return"
   ]
  },
  {
   "cell_type": "code",
   "execution_count": 29,
   "metadata": {},
   "outputs": [],
   "source": [
    "# Get the dictionary containing the default parameters for the desired sequence and alter the values as needed.\n",
    "# generate_params = pulsedmasterlogic.generate_method_params['rabi']\n",
    "generate_params=OrderedDict()\n",
    "generate_params['name'] = 'HHampsweep'\n",
    "generate_params['spinlock_length'] = 50.0e-6\n",
    "generate_params['spinlock_amp_start'] = 0.12\n",
    "generate_params['spinlock_amp_end'] = 0.106\n",
    "generate_params['num_of_points'] = 60\n",
    "generate_params['alternating'] = True\n",
    "\n",
    "# Call the actual generation method using a wrapper method and pass the parameter set\n",
    "pulsedmasterlogic.generate_predefined_sequence('HHampsweep', generate_params)\n",
    "# Give it a moment to generate\n",
    "time.sleep(0.5)\n",
    "\n",
    "# The created object is a PulseBlockEnsemble instance, a recipe to create a waveform.\n",
    "# You can get all created PulseBlockEnsembles using this property (keys are ensemble names, values are the object instances):\n",
    "#for ensemble_name in pulsedmasterlogic.saved_pulse_block_ensembles.keys():\n",
    "#    print(ensemble_name)\n",
    "\n",
    "# The \"with_load\" flag can be used to also load the waveform into the channels after creating it\n",
    "pulsedmasterlogic.sample_sequence('HHampsweep', with_load=True)\n",
    "# Wait for the sampling to finish. There is a status dictionary that can be used to check for process status.\n",
    "while pulsedmasterlogic.status_dict['sampload_busy']:\n",
    "    time.sleep(0.1)\n",
    "    \n",
    "pulsedmasterlogic.set_measurement_settings(invoke_settings=False, \n",
    "                                           controlled_variable= np.linspace(generate_params['spinlock_amp_start'],\n",
    "                                           generate_params['spinlock_amp_end'], generate_params['num_of_points']),\n",
    "                                           number_of_lasers=2*generate_params['num_of_points'], \n",
    "                                           laser_ignore_list=[], \n",
    "                                           alternating=True, \n",
    "                                           units=('V', 'arb. u.'))\n",
    "time.sleep(0.5)\n",
    "\n",
    "pulsedmasterlogic.set_fast_counter_settings(record_length=4.0e-6, number_of_gates=generate_params['num_of_points'])\n",
    "time.sleep(0.5)\n",
    "\n",
    "import winsound\n",
    "frequency = 300  # Set Frequency To 2500 Hertz\n",
    "duration = 1000  # Set Duration To 1000 ms == 1 second\n",
    "winsound.Beep(frequency, duration)\n",
    "# You can get a read-only view of the current measurement settings by using this property:\n",
    "# for setting, value in pulsedmasterlogic.measurement_settings.items():\n",
    "#     print('{0}:\\n  {1}'.format(setting, value))"
   ]
  },
  {
   "cell_type": "code",
   "execution_count": 4,
   "metadata": {},
   "outputs": [],
   "source": [
    "poi=poimanager.active_poi.get_key()\n",
    "NV_name =poimanager.poi_list[poi]._name"
   ]
  },
  {
   "cell_type": "code",
   "execution_count": 25,
   "metadata": {
    "scrolled": true
   },
   "outputs": [
    {
     "name": "stdout",
     "output_type": "stream",
     "text": [
      "133924.66666666666 6.644034631762162e-08\n"
     ]
    },
    {
     "data": {
      "text/plain": [
       "True"
      ]
     },
     "execution_count": 25,
     "metadata": {},
     "output_type": "execute_result"
    }
   ],
   "source": [
    "refocus_poi(poi)"
   ]
  },
  {
   "cell_type": "code",
   "execution_count": 6,
   "metadata": {},
   "outputs": [],
   "source": [
    "pulsedmasterlogic.set_timer_interval(3)"
   ]
  },
  {
   "cell_type": "code",
   "execution_count": 30,
   "metadata": {},
   "outputs": [],
   "source": [
    "measurement_time = 3*60*60\n",
    "refocus_interval = 2*60"
   ]
  },
  {
   "cell_type": "code",
   "execution_count": 31,
   "metadata": {},
   "outputs": [
    {
     "name": "stdout",
     "output_type": "stream",
     "text": [
      "131233.83333333334 3.657480453711913e-10\n",
      "131233.83333333334 1.5746033698577005e-08\n",
      "131233.83333333334 8.916037801668907e-09\n",
      "131233.83333333334 3.202794758700963e-09\n",
      "131233.83333333334 1.5515395311287302e-08\n",
      "131233.83333333334 8.532419447631473e-10\n",
      "131233.83333333334 9.390216860059834e-09\n",
      "131233.83333333334 1.6616385030887495e-08\n",
      "131233.83333333334 6.066764140251677e-09\n",
      "131233.83333333334 4.175560836885667e-09\n",
      "131233.83333333334 1.0366861649503913e-08\n",
      "131233.83333333334 5.563578070298878e-09\n",
      "131233.83333333334 1.7519583372097163e-08\n",
      "131233.83333333334 4.9687363351379475e-09\n",
      "131233.83333333334 1.1189270872732174e-08\n",
      "131233.83333333334 1.91810156339415e-08\n",
      "131233.83333333334 2.7051841102269304e-08\n",
      "131233.83333333334 1.972564566493755e-08\n",
      "131233.83333333334 2.014442652192903e-08\n",
      "131233.83333333334 2.142571499388243e-08\n",
      "131233.83333333334 1.938561117728715e-08\n",
      "131233.83333333334 5.122228594525561e-09\n",
      "131233.83333333334 1.840248640576311e-08\n",
      "131233.83333333334 1.0658362889953911e-08\n",
      "131233.83333333334 2.9081026877508196e-08\n",
      "131233.83333333334 4.904502419251845e-09\n",
      "131233.83333333334 1.527209743707026e-08\n",
      "131233.83333333334 4.3973100460388835e-10\n",
      "131233.83333333334 1.7999519409821782e-08\n",
      "131233.83333333334 3.6078564918279557e-09\n",
      "131233.83333333334 7.3285449318676504e-09\n",
      "131233.83333333334 1.3340678537212763e-08\n",
      "131233.83333333334 1.1258636512385144e-08\n",
      "131233.83333333334 3.3412189355807657e-09\n",
      "131233.83333333334 2.8148444282821513e-09\n",
      "131233.83333333334 1.2108890660168285e-08\n",
      "131233.83333333334 1.0927574255855242e-09\n",
      "131233.83333333334 4.3419038393615475e-09\n",
      "131233.83333333334 6.1399600420449565e-09\n",
      "131233.83333333334 7.219012223645971e-09\n",
      "131233.83333333334 3.3658863952356998e-09\n",
      "131233.83333333334 1.2183546772465983e-08\n"
     ]
    },
    {
     "data": {
      "text/plain": [
       "True"
      ]
     },
     "execution_count": 31,
     "metadata": {},
     "output_type": "execute_result"
    }
   ],
   "source": [
    "do_hh_amp_sweep_refocus(poi, measurement_time, refocus_interval)"
   ]
  },
  {
   "cell_type": "code",
   "execution_count": 32,
   "metadata": {},
   "outputs": [],
   "source": [
    "# save measurement\n",
    "pulsedmasterlogic.save_measurement_data(tag='HH_AmpSweep_'+str(generate_params['spinlock_length'])+'_'+NV_name, with_error=True)"
   ]
  },
  {
   "cell_type": "code",
   "execution_count": 2,
   "metadata": {},
   "outputs": [],
   "source": [
    "def refocus_poi(poi=None, max_drift=0.5, min_counts=10e+3):\n",
    "    if poi==None:\n",
    "        return False\n",
    "    scannerlogic.stop_scanning()\n",
    "    poimanager.go_to_poi(poi)\n",
    "    pos_start = scannerlogic.get_position()\n",
    "    NV_name =poimanager.poi_list[poi]._name\n",
    "    poimanager.optimise_poi(poi)\n",
    "    while optimizer.module_state() == 'idle':\n",
    "        time.sleep(0.2)\n",
    "    while optimizer.module_state() != 'idle':\n",
    "        time.sleep(0.2)\n",
    "    time.sleep(5)\n",
    "    pos_end=scannerlogic.get_position()\n",
    "    print(counterlogic.countdata.mean(),abs(pos_end[0]-pos_start[0]))\n",
    "    if (abs(pos_end[0]-pos_start[0])>max_drift or abs(pos_end[1]-pos_start[1])>max_drift or \n",
    "       abs(pos_end[2]-pos_start[2])>max_drift or counterlogic.countdata.mean()<min_counts):\n",
    "        scannerlogic.set_position('',x=pos_start[0],y=pos_start[1],z=pos_start[2])\n",
    "        poimanager.set_new_position(poi,pos_start)\n",
    "        print(abs(pos_end[0]-pos_start[0])>max_drift or abs(pos_end[1]-pos_start[1])>max_drift or \n",
    "       abs(pos_end[2]-pos_start[2])>max_drift or counterlogic.countdata.mean()<min_counts)\n",
    "        return False\n",
    "        write_to_logfile('PositionRefocus_log', str(datetime.datetime.now()),name= NV_name, \n",
    "                     x_pos=pos_start[0], y_pos=pos_start[1], z_pos=pos_start[2],sucess=0)\n",
    "    write_to_logfile('PositionRefocus_log', str(datetime.datetime.now()),name= NV_name, \n",
    "                     x_pos=pos_end[0], y_pos=pos_end[1], z_pos=pos_end[2],sucess=1)\n",
    "    return True\n",
    "\n",
    "def do_hh_amp_sweep(m_time, save_tag='', stash_raw_data_tag = ''):\n",
    "    \n",
    "    pulsedmeasurementlogic.measurement_tag = save_tag\n",
    "    \n",
    "    # If everything is properly set, we can start a measurement simply by calling:\n",
    "    pulsedmasterlogic.toggle_pulsed_measurement(True, stash_raw_data_tag)\n",
    "    # Wait until the pulsedmeasurementlogic is actually busy and the measurement is running\n",
    "    while pulsedmeasurementlogic.module_state() != 'locked':\n",
    "        time.sleep(0.2)\n",
    "        \n",
    "    user_terminated = False\n",
    "    start_time = time.time()\n",
    "    while time.time() - start_time < m_time:\n",
    "        if pulsedmeasurementlogic.module_state()=='idle':\n",
    "            user_terminated = True\n",
    "            time.sleep(0.2)    \n",
    "            break\n",
    "        time.sleep(0.5)\n",
    "        \n",
    "    pulsedmasterlogic.toggle_pulsed_measurement(False, stash_raw_data_tag)\n",
    "    # Wait until the pulsedmeasurementlogic is actually idle and the measurement is stopped\n",
    "    while pulsedmeasurementlogic.module_state() == 'locked':\n",
    "        time.sleep(0.2)\n",
    "    \n",
    "    if save_tag=='':\n",
    "        pulsedmasterlogic.save_measurement_data(tag='HH_AmpSweep_'+str(generate_params['spinlock_length'])+'_'+NV_name, with_error=True)\n",
    "    time.sleep(2)\n",
    "    return user_terminated\n",
    "\n",
    "def do_hh_amp_sweep_refocus(poi, measurement_time, refocus_interval):\n",
    "    pulsedmeasurementlogic._saved_raw_data.clear()\n",
    "    end_measure=False\n",
    "    xy16_total_time = measurement_time\n",
    "    xy16_runtime = 0.0\n",
    "    measurement_time = refocus_interval\n",
    "    end_measure = do_hh_amp_sweep(refocus_interval, 'HHtauseq', 'HHtauseq')\n",
    "    xy16_runtime += refocus_interval\n",
    "    while xy16_total_time > xy16_runtime:\n",
    "        for i in range(1):\n",
    "            end_measure = not refocus_poi(poi)\n",
    "            if not end_measure:\n",
    "                break\n",
    "        if end_measure:\n",
    "            break\n",
    "        end_measure = do_hh_amp_sweep(refocus_interval, 'HHtauseq', 'HHtauseq')\n",
    "        xy16_runtime += refocus_interval\n",
    "        if end_measure:\n",
    "            break\n",
    "    write_to_logfile('HH_AmpSweep_', str(datetime.datetime.now()),name= NV_name, runtime=xy16_runtime)\n",
    "    time.sleep(2)\n",
    "    return end_measure"
   ]
  },
  {
   "cell_type": "code",
   "execution_count": null,
   "metadata": {},
   "outputs": [],
   "source": []
  }
 ],
 "metadata": {
  "kernelspec": {
   "display_name": "Qudi",
   "language": "python",
   "name": "qudi"
  },
  "language_info": {
   "codemirror_mode": {
    "name": "ipython",
    "version": "3.6.5"
   },
   "file_extension": ".py",
   "mimetype": "text/x-python",
   "name": "python",
   "nbconvert_exporter": "python",
   "pygments_lexer": "ipython3",
   "version": "3.6.5"
  }
 },
 "nbformat": 4,
 "nbformat_minor": 2
}
