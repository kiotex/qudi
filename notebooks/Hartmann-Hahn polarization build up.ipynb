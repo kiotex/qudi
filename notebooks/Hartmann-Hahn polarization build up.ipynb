{
 "cells": [
  {
   "cell_type": "markdown",
   "metadata": {},
   "source": [
    "# Hartmann Hahn polarization build up"
   ]
  },
  {
   "cell_type": "code",
   "execution_count": 1,
   "metadata": {
    "collapsed": true
   },
   "outputs": [],
   "source": [
    "from collections import OrderedDict\n",
    "import datetime\n",
    "import numpy as np\n",
    "import time\n",
    "import os"
   ]
  },
  {
   "cell_type": "code",
   "execution_count": 2,
   "metadata": {},
   "outputs": [],
   "source": [
    "try: \n",
    "    pulsedmasterlogic\n",
    "except NameError:\n",
    "    manager.startModule('logic', 'pulsedmasterlogic')\n",
    "try: \n",
    "    scannerlogic\n",
    "except NameError:\n",
    "    manager.startModule('logic', 'scannerlogic')\n",
    "try: \n",
    "    optimizerlogic\n",
    "except NameError:\n",
    "    manager.startModule('logic', 'optimizerlogic')\n",
    "try:\n",
    "    sequencegeneratorlogic\n",
    "except NameError:\n",
    "    manager.startModule('logic', 'sequencegeneratorlogic')\n",
    "try:\n",
    "    pulsedmeasurement\n",
    "except NameError:\n",
    "    manager.startModule('gui', 'pulsedmeasurement')   \n",
    "try:\n",
    "    poimanagerlogic\n",
    "except NameError:\n",
    "    manager.startModule('logic', 'poimaganerlogic')    "
   ]
  },
  {
   "cell_type": "code",
   "execution_count": 3,
   "metadata": {
    "collapsed": true
   },
   "outputs": [],
   "source": [
    "def write_to_logfile(nametag, timestamp, name, **kwargs):\n",
    "    \"\"\" Write parameters to custom logfile with name nametag \"\"\"\n",
    "    if type(timestamp) is not str:\n",
    "        timestamp = str(timestamp)\n",
    "    parameters = list(kwargs)\n",
    "    if len(parameters) == 1 and type(kwargs[parameters[0]]) is OrderedDict:\n",
    "        param_dict = kwargs[parameters[0]]\n",
    "        parameters = list(param_dict)\n",
    "        kwargs = param_dict\n",
    "    log_dir = pulsedmeasurement._save_logic.get_path_for_module('CustomLogfiles')\n",
    "    log_path = os.path.join(log_dir, nametag + '.txt')\n",
    "    if not os.path.isfile(log_path):\n",
    "        with open(log_path, 'w') as logfile:\n",
    "            logfile.write('# timestamp\\t')\n",
    "            logfile.write('# Name\\t')\n",
    "            for param in parameters:\n",
    "                logfile.write(param + '\\t')\n",
    "            logfile.write('\\n#\\n')\n",
    "    with open(log_path, 'a') as logfile:\n",
    "        logfile.write(timestamp + '\\t')\n",
    "        logfile.write(name + '\\t')\n",
    "        for param in parameters:\n",
    "            logfile.write('{0:3.6e}\\t'.format(kwargs[param]))\n",
    "        logfile.write('\\n')\n",
    "    return"
   ]
  },
  {
   "cell_type": "code",
   "execution_count": 37,
   "metadata": {},
   "outputs": [],
   "source": [
    "# static hardware parameters:\n",
    "setup = OrderedDict()\n",
    "setup['sampling_freq'] = pulsedmeasurementlogic.sample_rate\n",
    "setup['fc_binwidth'] = pulsedmeasurementlogic.fast_counter_binwidth\n",
    "setup['wait_length'] = 1.5e-6\n",
    "setup['aom_delay'] = 500e-9\n",
    "#setup['channel_config_name'] = pulsedmeasurement.current_channel_config_name\n",
    "setup['seq_trig']=''\n",
    "setup['gate']='d_ch2'\n",
    "setup['NV_name']='NV3'\n",
    "setup['poi'] = poimanagerlogic.active_poi.get_key()\n",
    "setup['laser_length'] = 3.0e-6\n",
    "setup[\"min_counts\"] = 10000 # if after a refocus only 40kcounts are measured the refocus is repeated up to max 3 times\n",
    "# Set amplitude in logic and pulser hardware:\n",
    "amp_dict = OrderedDict()\n",
    "amp_dict['a_ch1'] = 0.25\n",
    "amp_dict['a_ch2'] = 0.0\n",
    "AWG5014C.amplitude_dict = amp_dict\n",
    "#pulsedmaster.pulse_generator_settings_changed(setup['sampling_freq'], setup['channel_config_name'], amp_dict, False)"
   ]
  },
  {
   "cell_type": "code",
   "execution_count": 38,
   "metadata": {
    "collapsed": true
   },
   "outputs": [],
   "source": [
    "# for single frequency XY8-N:\n",
    "hh_build_up = OrderedDict()\n",
    "hh_build_up['mw_amp'] = 0.25\n",
    "hh_build_up['spinlock_amp'] = 0.1122\n",
    "hh_build_up['mw_freq'] = 100e6\n",
    "hh_build_up['tau_start'] = 1*1e-6\n",
    "hh_build_up['tau_incr'] = 18.0*1e-6\n",
    "hh_build_up['full_time'] = 450.0*1e-6\n",
    "hh_build_up['points'] = 25\n",
    "hh_build_up['measurement_time'] = 90*60\n",
    "hh_build_up['refocus_interval'] = 2*60\n",
    "hh_build_up['alternating']=True\n",
    "hh_build_up['rabi_period']=160.5*1e-9"
   ]
  },
  {
   "cell_type": "code",
   "execution_count": 39,
   "metadata": {},
   "outputs": [
    {
     "name": "stdout",
     "output_type": "stream",
     "text": [
      "<logic.pulse_objects.PulseSequence object at 0x00000272ADA01240>\n"
     ]
    }
   ],
   "source": [
    "# generate new HH sequence\n",
    "sequencegeneratorlogic.delete_sequence('pol_buildup')    \n",
    "sequencegeneratorlogic.generate_HH_polarization_build_up('pol_buildup', hh_build_up['rabi_period'],\n",
    "                    hh_build_up['spinlock_amp'], 100e6, 0.25, hh_build_up['tau_start'], hh_build_up['tau_incr'],  \n",
    "                    hh_build_up['points'], hh_build_up['full_time'], 'a_ch1', 3.0e-6, 2.0, 0.7e-6, 1.0e-6, '',\n",
    "                                                         'd_ch2', True)\n",
    "# sample, upload and load waveform\n",
    "if 'pol_buildup' not in sequencegeneratorlogic.saved_pulse_sequences:\n",
    "    sequencegeneratorlogic.log.error('Sequence generation of HH_pol_buildup in notebook timed out.')\n",
    "pulsedmasterlogic.sample_sequence('pol_buildup', True)\n",
    "\n",
    "while pulsedmasterlogic.status_dict['sauplo_sequence_busy'] or pulsedmasterlogic.status_dict['loading_busy']:\n",
    "        time.sleep(5)\n",
    "\n",
    "import winsound\n",
    "frequency = 300  # Set Frequency To 2500 Hertz\n",
    "duration = 1000  # Set Duration To 1000 ms == 1 second\n",
    "winsound.Beep(frequency, duration)"
   ]
  },
  {
   "cell_type": "code",
   "execution_count": 40,
   "metadata": {
    "scrolled": false
   },
   "outputs": [
    {
     "name": "stdout",
     "output_type": "stream",
     "text": [
      "179971.333333 9.85398661947697e-09\n"
     ]
    },
    {
     "data": {
      "text/plain": [
       "True"
      ]
     },
     "execution_count": 40,
     "metadata": {},
     "output_type": "execute_result"
    }
   ],
   "source": [
    "refocus_poi(setup['poi'])"
   ]
  },
  {
   "cell_type": "code",
   "execution_count": 41,
   "metadata": {
    "scrolled": true
   },
   "outputs": [
    {
     "name": "stdout",
     "output_type": "stream",
     "text": [
      "179971.333333 1.1538468316800497e-08\n",
      "179971.333333 6.988540537580931e-09\n",
      "179971.333333 1.1314355239413739e-08\n",
      "179971.333333 5.0407875842212754e-09\n",
      "179971.333333 7.554519890639493e-09\n",
      "179971.333333 3.7856144480477995e-09\n",
      "179971.333333 3.8510382520225085e-10\n",
      "179971.333333 8.401561823659755e-09\n",
      "179971.333333 2.6617127138090792e-09\n",
      "179971.333333 5.235586789873988e-09\n",
      "179971.333333 8.359749264493866e-10\n",
      "179971.333333 4.569875647534682e-09\n",
      "179971.333333 7.1303942478031265e-09\n",
      "179971.333333 3.328458173013397e-09\n",
      "179971.333333 2.822602167593764e-09\n",
      "179971.333333 4.056411078006707e-10\n",
      "179971.333333 2.0919882032291437e-09\n",
      "179971.333333 1.4683932167658094e-09\n",
      "179971.333333 2.499850450527998e-09\n",
      "179971.333333 4.2695614660529e-10\n",
      "179971.333333 3.794043718895879e-09\n",
      "179971.333333 4.8537587995160076e-09\n",
      "179971.333333 5.157132460791323e-09\n",
      "179971.333333 2.0590749974379763e-09\n",
      "179971.333333 8.533020612494534e-10\n",
      "179971.333333 2.140354177730387e-09\n",
      "179971.333333 3.949481177112368e-10\n",
      "179971.333333 2.435179648943277e-09\n",
      "179971.333333 2.4808137392947412e-09\n",
      "179971.333333 9.672498900451995e-09\n",
      "179971.333333 5.922083572318962e-09\n",
      "179971.333333 3.0474109399470013e-09\n",
      "179971.333333 2.322026911265177e-09\n",
      "179971.333333 4.5952696967672035e-09\n",
      "179971.333333 2.4899478773343176e-09\n",
      "179971.333333 6.805170553771925e-09\n",
      "179971.333333 2.057942715835649e-09\n",
      "179971.333333 1.3967259679837241e-09\n",
      "179971.333333 8.619694211253282e-09\n",
      "179971.333333 6.084770951122554e-09\n",
      "179971.333333 5.227319968781298e-09\n",
      "179971.333333 1.2624225764691806e-09\n",
      "179971.333333 1.157769406506039e-09\n",
      "179971.333333 2.9300568948523826e-09\n"
     ]
    },
    {
     "data": {
      "text/plain": [
       "False"
      ]
     },
     "execution_count": 41,
     "metadata": {},
     "output_type": "execute_result"
    }
   ],
   "source": [
    "do_hh_build_up_refocus(setup['poi'])"
   ]
  },
  {
   "cell_type": "code",
   "execution_count": 5,
   "metadata": {
    "collapsed": true
   },
   "outputs": [],
   "source": [
    "def refocus_poi(poi=None, max_drift=0.3,min_counts=setup[\"min_counts\"]):\n",
    "    if poi==None:\n",
    "        return False\n",
    "#     pulsedmasterlogic.load_asset_into_channels('Laser_On')\n",
    "#     while pulsedmasterlogic.status_dict['loading_busy']:\n",
    "#         time.sleep(0.5)\n",
    "#     pulsedmasterlogic.toggle_pulse_generator(False)\n",
    "#     time.sleep(0.5)\n",
    "    # perform refocus\n",
    "    scannerlogic.stop_scanning()\n",
    "    poimanagerlogic.go_to_poi(poi)\n",
    "    pos_start = scannerlogic.get_position()\n",
    "    setup['NV_name']=poimanagerlogic.poi_list[poi]._name\n",
    "    poimanagerlogic.optimise_poi(poi)\n",
    "    while optimizerlogic.getState() == 'idle':\n",
    "        time.sleep(0.2)\n",
    "    while optimizerlogic.getState() != 'idle':\n",
    "        time.sleep(0.2)\n",
    "    time.sleep(5)\n",
    "    pos_end=scannerlogic.get_position()\n",
    "    print(counterlogic.countdata.mean(),abs(pos_end[0]-pos_start[0]))\n",
    "    if (abs(pos_end[0]-pos_start[0])>max_drift or abs(pos_end[1]-pos_start[1])>max_drift or \n",
    "       abs(pos_end[2]-pos_start[2])>max_drift or counterlogic.countdata.mean()<min_counts):\n",
    "        scannerlogic.set_position('',x=pos_start[0],y=pos_start[1],z=pos_start[2])\n",
    "        poimanagerlogic.set_new_position(poi,pos_start)\n",
    "        print(abs(pos_end[0]-pos_start[0])>max_drift or abs(pos_end[1]-pos_start[1])>max_drift or \n",
    "       abs(pos_end[2]-pos_start[2])>max_drift or counterlogic.countdata.mean()<min_counts)\n",
    "        return False\n",
    "        write_to_logfile('PositionRefocus_log', str(datetime.datetime.now()),name= setup['NV_name'], \n",
    "                     x_pos=pos_start[0], y_pos=pos_start[1], z_pos=pos_start[2],sucess=0)\n",
    "    write_to_logfile('PositionRefocus_log', str(datetime.datetime.now()),name= setup['NV_name'], \n",
    "                     x_pos=pos_end[0], y_pos=pos_end[1], z_pos=pos_end[2],sucess=1)\n",
    "    return True\n",
    "\n",
    "def do_hh_build_up(save_tag='',load_tag=''):\n",
    "    \n",
    "    pulsedmasterlogic.do_fit('No Fit')\n",
    "    tau_arr = hh_build_up['tau_start'] + np.arange(hh_build_up['points']) * hh_build_up['tau_incr']\n",
    "    # set parameters in analysis tab\n",
    "    if hh_build_up['alternating']:\n",
    "        pulsedmasterlogic.measurement_sequence_settings_changed(tau_arr, 2*hh_build_up['points'], 100e-6, [], hh_build_up['alternating'])\n",
    "    else:\n",
    "        pulsedmasterlogic.measurement_sequence_settings_changed(tau_arr, hh_build_up['points'], 100e-6, [], hh_build_up['alternating'])\n",
    "    pulsedmasterlogic.fast_counter_settings_changed(setup['fc_binwidth'], setup['laser_length']+0.2e-6)\n",
    "    pulsedmasterlogic.analysis_interval_changed(1)\n",
    "    pulsedmeasurementlogic.measurement_tag = save_tag\n",
    "    # perform measurement\n",
    "    pulsedmasterlogic.start_measurement(load_tag)\n",
    "    while not pulsedmasterlogic.status_dict['measurement_running']:\n",
    "        time.sleep(0.5)\n",
    "    user_terminated = False\n",
    "    start_time = time.time()\n",
    "    while time.time() - start_time < hh_build_up['measurement_time']:\n",
    "        if not pulsedmasterlogic.status_dict['measurement_running']:\n",
    "            user_terminated = True\n",
    "            break\n",
    "        time.sleep(0.5)\n",
    "    pulsedmasterlogic.stop_measurement(save_tag)\n",
    "    while pulsedmasterlogic.status_dict['measurement_running']:\n",
    "        time.sleep(0.5)\n",
    "#     if save_tag=='':\n",
    "#         pulsedmasterlogic.save_measurement_data('s','SpinLocking-'+str(hh_tau['order'])+'_'+setup['NV_name'],True)\n",
    "    \n",
    "    time.sleep(2)\n",
    "    return user_terminated\n",
    "\n",
    "def do_hh_build_up_refocus(poi):\n",
    "    end_measure=False\n",
    "    #refocus_poi(poi)\n",
    "    hh_tau_total_time = hh_build_up['measurement_time']\n",
    "    hh_tau_runtime = 0.0\n",
    "    hh_build_up['measurement_time'] = hh_build_up['refocus_interval']\n",
    "    end_measure = do_hh_build_up('hh_build_up','')\n",
    "    hh_tau_runtime += hh_build_up['refocus_interval']\n",
    "    while hh_tau_total_time > hh_tau_runtime:\n",
    "        for i in range(1):\n",
    "            end_measure= not refocus_poi(poi)\n",
    "            if not end_measure:\n",
    "                break\n",
    "        if end_measure:\n",
    "            break\n",
    "        end_measure = do_hh_build_up('hh_build_up', 'hh_build_up')\n",
    "        hh_tau_runtime += hh_build_up['refocus_interval']\n",
    "        if end_measure:\n",
    "            break\n",
    "    hh_build_up['measurement_time'] = hh_tau_total_time\n",
    "    # save measurement\n",
    "    pulsedmasterlogic.save_measurement_data('s','Polarization_build_up'+'_'+str(hh_build_up['spinlock_amp'])+'_'+setup['NV_name'],True)\n",
    "    write_to_logfile('hh_build_up_log', str(datetime.datetime.now()),name= setup['NV_name'],runtime=hh_tau_runtime)\n",
    "    time.sleep(2)\n",
    "    return end_measure"
   ]
  },
  {
   "cell_type": "code",
   "execution_count": 6,
   "metadata": {
    "collapsed": true
   },
   "outputs": [],
   "source": [
    "mw_freq = 1392.82e+6 # in MHz\n",
    "mw_power = -15\n",
    "\n",
    "pulsedmeasurement._pa.ext_control_mw_freq_DoubleSpinBox.setValue(mw_freq-0.1e+9)\n",
    "pulsedmeasurement._pa.ext_control_mw_power_DoubleSpinBox.setValue(mw_power)\n",
    "pulsedmeasurement.ext_mw_params_changed()"
   ]
  },
  {
   "cell_type": "code",
   "execution_count": null,
   "metadata": {
    "collapsed": true
   },
   "outputs": [],
   "source": []
  }
 ],
 "metadata": {
  "kernelspec": {
   "display_name": "Qudi",
   "language": "python",
   "name": "qudi"
  },
  "language_info": {
   "codemirror_mode": {
    "name": "ipython",
    "version": "3.6.5"
   },
   "file_extension": ".py",
   "mimetype": "text/x-python",
   "name": "python",
   "nbconvert_exporter": "python",
   "pygments_lexer": "ipython3",
   "version": "3.6.5"
  }
 },
 "nbformat": 4,
 "nbformat_minor": 2
}
