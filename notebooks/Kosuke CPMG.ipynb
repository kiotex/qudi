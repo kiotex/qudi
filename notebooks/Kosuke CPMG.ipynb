{
 "cells": [
  {
   "cell_type": "markdown",
   "metadata": {},
   "source": [
    "# CPMG"
   ]
  },
  {
   "cell_type": "code",
   "execution_count": 5,
   "metadata": {},
   "outputs": [],
   "source": [
    "from collections import OrderedDict\n",
    "import datetime\n",
    "import numpy as np\n",
    "import time\n",
    "import os\n",
    "\n",
    "try: \n",
    "    pulsedmasterlogic\n",
    "except NameError:\n",
    "    manager.startModule('logic', 'pulsedmasterlogic')\n",
    "try: \n",
    "    scannerlogic\n",
    "except NameError:\n",
    "    manager.startModule('logic', 'scannerlogic')\n",
    "try: \n",
    "    optimizer\n",
    "except NameError:\n",
    "    manager.startModule('logic', 'optimizer')\n",
    "try:\n",
    "    sequencegenerator\n",
    "except NameError:\n",
    "    manager.startModule('logic', 'sequencegenerator')\n",
    "try:\n",
    "    pulsedmeasurementlogic\n",
    "except NameError:\n",
    "    manager.startModule('gui', 'pulsedmeasurementlogic')   \n",
    "try:\n",
    "    poimanager\n",
    "except NameError:\n",
    "    manager.startModule('logic', 'poimaganer')    "
   ]
  },
  {
   "cell_type": "code",
   "execution_count": 18,
   "metadata": {},
   "outputs": [
    {
     "name": "stdout",
     "output_type": "stream",
     "text": [
      "1.8766e-07\n"
     ]
    }
   ],
   "source": [
    "# Get the dictionary containing the default parameters for the desired sequence and alter the values as needed.\n",
    "# generate_params = pulsedmasterlogic.generate_method_params['rabi']\n",
    "generate_params=OrderedDict()\n",
    "generate_params['name'] = 'cpmg_tau_seq'\n",
    "generate_params['tau_start'] = 250.0e-9\n",
    "generate_params['tau_step'] = 1.0e-9\n",
    "generate_params['num_of_points'] = 22\n",
    "generate_params['pulse_num'] = 300\n",
    "generate_params['alternating'] = True\n",
    "\n",
    "# Call the actual generation method using a wrapper method and pass the parameter set\n",
    "pulsedmasterlogic.generate_predefined_sequence('cpmg_tau_seq', generate_params)\n",
    "# Give it a moment to generate\n",
    "time.sleep(0.5)\n",
    "\n",
    "# The created object is a PulseBlockEnsemble instance, a recipe to create a waveform.\n",
    "# You can get all created PulseBlockEnsembles using this property (keys are ensemble names, values are the object instances):\n",
    "#for ensemble_name in pulsedmasterlogic.saved_pulse_block_ensembles.keys():\n",
    "#    print(ensemble_name)\n",
    "\n",
    "# The \"with_load\" flag can be used to also load the waveform into the channels after creating it\n",
    "pulsedmasterlogic.sample_sequence('cpmg_tau_seq', with_load=True)\n",
    "# Wait for the sampling to finish. There is a status dictionary that can be used to check for process status.\n",
    "while pulsedmasterlogic.status_dict['sampload_busy']:\n",
    "    time.sleep(0.1)\n",
    "    \n",
    "pulsedmasterlogic.set_measurement_settings(invoke_settings=False, \n",
    "                                           controlled_variable= generate_params['tau_start'] + \n",
    "                                           np.arange(generate_params['num_of_points'])*generate_params['tau_step'],\n",
    "                                           number_of_lasers=2*generate_params['num_of_points'], \n",
    "                                           laser_ignore_list=[], \n",
    "                                           alternating=True, \n",
    "                                           units=('s', 'arb. u.'))\n",
    "time.sleep(0.5)\n",
    "\n",
    "pulsedmasterlogic.set_fast_counter_settings(record_length=4.0e-6, number_of_gates=generate_params['num_of_points'])\n",
    "time.sleep(0.5)\n",
    "\n",
    "import winsound\n",
    "frequency = 300  # Set Frequency To 2500 Hertz\n",
    "duration = 1000  # Set Duration To 1000 ms == 1 second\n",
    "winsound.Beep(frequency, duration)\n",
    "# You can get a read-only view of the current measurement settings by using this property:\n",
    "# for setting, value in pulsedmasterlogic.measurement_settings.items():\n",
    "#     print('{0}:\\n  {1}'.format(setting, value))"
   ]
  },
  {
   "cell_type": "code",
   "execution_count": 11,
   "metadata": {
    "scrolled": false
   },
   "outputs": [],
   "source": [
    "poi=poimanager.active_poi.get_key()\n",
    "NV_name =poimanager.poi_list[poi]._name"
   ]
  },
  {
   "cell_type": "code",
   "execution_count": 19,
   "metadata": {
    "scrolled": true
   },
   "outputs": [
    {
     "name": "stdout",
     "output_type": "stream",
     "text": [
      "146831.33333333334 5.5480568931788295e-08\n"
     ]
    },
    {
     "data": {
      "text/plain": [
       "True"
      ]
     },
     "execution_count": 19,
     "metadata": {},
     "output_type": "execute_result"
    }
   ],
   "source": [
    "refocus_poi(poi)"
   ]
  },
  {
   "cell_type": "code",
   "execution_count": 13,
   "metadata": {},
   "outputs": [],
   "source": [
    "pulsedmasterlogic.set_timer_interval(3)"
   ]
  },
  {
   "cell_type": "code",
   "execution_count": 14,
   "metadata": {},
   "outputs": [],
   "source": [
    "measurement_time = 120*60\n",
    "refocus_interval = 2*60"
   ]
  },
  {
   "cell_type": "code",
   "execution_count": 20,
   "metadata": {
    "scrolled": false
   },
   "outputs": [
    {
     "name": "stdout",
     "output_type": "stream",
     "text": [
      "146831.33333333334 1.388969942309041e-08\n",
      "146831.33333333334 2.301986031009884e-08\n",
      "146831.33333333334 1.2217625811759478e-08\n",
      "146831.33333333334 8.676781137117659e-09\n"
     ]
    },
    {
     "data": {
      "text/plain": [
       "True"
      ]
     },
     "execution_count": 20,
     "metadata": {},
     "output_type": "execute_result"
    }
   ],
   "source": [
    "do_xy16_refocus(poi, measurement_time, refocus_interval)"
   ]
  },
  {
   "cell_type": "code",
   "execution_count": 52,
   "metadata": {},
   "outputs": [],
   "source": [
    "# save measurement\n",
    "pulsedmasterlogic.save_measurement_data(tag='CPMG-'+str(generate_params['pulse_num'])+'_'+NV_name, with_error=True)"
   ]
  },
  {
   "cell_type": "code",
   "execution_count": 7,
   "metadata": {},
   "outputs": [],
   "source": [
    "def write_to_logfile(nametag, timestamp, name, **kwargs):\n",
    "    \"\"\" Write parameters to custom logfile with name nametag \"\"\"\n",
    "    if type(timestamp) is not str:\n",
    "        timestamp = str(timestamp)\n",
    "    parameters = list(kwargs)\n",
    "    if len(parameters) == 1 and type(kwargs[parameters[0]]) is OrderedDict:\n",
    "        param_dict = kwargs[parameters[0]]\n",
    "        parameters = list(param_dict)\n",
    "        kwargs = param_dict\n",
    "    log_dir = pulsedmeasurementlogic.savelogic().get_path_for_module('CustomLogfiles')\n",
    "    log_path = os.path.join(log_dir, nametag + '.txt')\n",
    "    if not os.path.isfile(log_path):\n",
    "        with open(log_path, 'w') as logfile:\n",
    "            logfile.write('# timestamp\\t')\n",
    "            logfile.write('# Name\\t')\n",
    "            for param in parameters:\n",
    "                logfile.write(param + '\\t')\n",
    "            logfile.write('\\n#\\n')\n",
    "    with open(log_path, 'a') as logfile:\n",
    "        logfile.write(timestamp + '\\t')\n",
    "        logfile.write(name + '\\t')\n",
    "        for param in parameters:\n",
    "            logfile.write('{0:3.6e}\\t'.format(kwargs[param]))\n",
    "        logfile.write('\\n')\n",
    "    return"
   ]
  },
  {
   "cell_type": "code",
   "execution_count": 8,
   "metadata": {},
   "outputs": [],
   "source": [
    "def refocus_poi(poi=None, max_drift=0.5, min_counts=10e+3):\n",
    "    if poi==None:\n",
    "        return False\n",
    "    scannerlogic.stop_scanning()\n",
    "    poimanager.go_to_poi(poi)\n",
    "    pos_start = scannerlogic.get_position()\n",
    "    NV_name =poimanager.poi_list[poi]._name\n",
    "    poimanager.optimise_poi(poi)\n",
    "    while optimizer.module_state() == 'idle':\n",
    "        time.sleep(0.2)\n",
    "    while optimizer.module_state() != 'idle':\n",
    "        time.sleep(0.2)\n",
    "    time.sleep(5)\n",
    "    pos_end=scannerlogic.get_position()\n",
    "    print(counterlogic.countdata.mean(),abs(pos_end[0]-pos_start[0]))\n",
    "    if (abs(pos_end[0]-pos_start[0])>max_drift or abs(pos_end[1]-pos_start[1])>max_drift or \n",
    "       abs(pos_end[2]-pos_start[2])>max_drift or counterlogic.countdata.mean()<min_counts):\n",
    "        scannerlogic.set_position('',x=pos_start[0],y=pos_start[1],z=pos_start[2])\n",
    "        poimanager.set_new_position(poi,pos_start)\n",
    "        print(abs(pos_end[0]-pos_start[0])>max_drift or abs(pos_end[1]-pos_start[1])>max_drift or \n",
    "       abs(pos_end[2]-pos_start[2])>max_drift or counterlogic.countdata.mean()<min_counts)\n",
    "        return False\n",
    "        write_to_logfile('PositionRefocus_log', str(datetime.datetime.now()),name= NV_name, \n",
    "                     x_pos=pos_start[0], y_pos=pos_start[1], z_pos=pos_start[2],sucess=0)\n",
    "    write_to_logfile('PositionRefocus_log', str(datetime.datetime.now()),name= NV_name, \n",
    "                     x_pos=pos_end[0], y_pos=pos_end[1], z_pos=pos_end[2],sucess=1)\n",
    "    return True\n",
    "\n",
    "def do_xy16(m_time, save_tag='', stash_raw_data_tag = ''):\n",
    "    \n",
    "    pulsedmeasurementlogic.measurement_tag = save_tag\n",
    "    \n",
    "    # If everything is properly set, we can start a measurement simply by calling:\n",
    "    pulsedmasterlogic.toggle_pulsed_measurement(True, stash_raw_data_tag)\n",
    "    # Wait until the pulsedmeasurementlogic is actually busy and the measurement is running\n",
    "    while pulsedmeasurementlogic.module_state() != 'locked':\n",
    "        time.sleep(0.2)\n",
    "        \n",
    "    user_terminated = False\n",
    "    start_time = time.time()\n",
    "    while time.time() - start_time < m_time:\n",
    "        if pulsedmeasurementlogic.module_state()=='idle':\n",
    "            user_terminated = True\n",
    "            time.sleep(0.2)    \n",
    "            break\n",
    "        time.sleep(0.5)\n",
    "        \n",
    "    pulsedmasterlogic.toggle_pulsed_measurement(False, stash_raw_data_tag)\n",
    "    # Wait until the pulsedmeasurementlogic is actually idle and the measurement is stopped\n",
    "    while pulsedmeasurementlogic.module_state() == 'locked':\n",
    "        time.sleep(0.2)\n",
    "    \n",
    "    if save_tag=='':\n",
    "        pulsedmasterlogic.save_measurement_data(tag='XY16-'+str(generate_params['xy16_order'])+'_'+NV_name, with_error=True)\n",
    "    time.sleep(2)\n",
    "    return user_terminated\n",
    "\n",
    "def do_xy16_refocus(poi, measurement_time, refocus_interval):\n",
    "    pulsedmeasurementlogic._saved_raw_data.clear()\n",
    "    end_measure=False\n",
    "    xy16_total_time = measurement_time\n",
    "    xy16_runtime = 0.0\n",
    "    measurement_time = refocus_interval\n",
    "    end_measure = do_xy16(refocus_interval, 'xy16_refocus', 'xy16_refocus')\n",
    "    xy16_runtime += refocus_interval\n",
    "    while xy16_total_time > xy16_runtime:\n",
    "        for i in range(1):\n",
    "            end_measure = not refocus_poi(poi)\n",
    "            if not end_measure:\n",
    "                break\n",
    "        if end_measure:\n",
    "            break\n",
    "        end_measure = do_xy16(refocus_interval, 'xy16_refocus', 'xy16_refocus')\n",
    "        xy16_runtime += refocus_interval\n",
    "        if end_measure:\n",
    "            break\n",
    "    write_to_logfile('xy16_log', str(datetime.datetime.now()),name= NV_name,runtime=xy16_runtime)\n",
    "    time.sleep(2)\n",
    "    return end_measure"
   ]
  },
  {
   "cell_type": "code",
   "execution_count": null,
   "metadata": {},
   "outputs": [],
   "source": []
  }
 ],
 "metadata": {
  "kernelspec": {
   "display_name": "Qudi",
   "language": "python",
   "name": "qudi"
  },
  "language_info": {
   "codemirror_mode": {
    "name": "ipython",
    "version": "3.6.5"
   },
   "file_extension": ".py",
   "mimetype": "text/x-python",
   "name": "python",
   "nbconvert_exporter": "python",
   "pygments_lexer": "ipython3",
   "version": "3.6.5"
  }
 },
 "nbformat": 4,
 "nbformat_minor": 2
}
