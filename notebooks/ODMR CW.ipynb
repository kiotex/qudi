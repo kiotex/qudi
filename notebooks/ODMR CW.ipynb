{
 "cells": [
  {
   "cell_type": "markdown",
   "metadata": {},
   "source": [
    "   # CW ODMR with AWG5014C"
   ]
  },
  {
   "cell_type": "markdown",
   "metadata": {},
   "source": [
    "   ## Load modules and set parameters"
   ]
  },
  {
   "cell_type": "code",
   "execution_count": 1,
   "metadata": {},
   "outputs": [],
   "source": [
    "from collections import OrderedDict\n",
    "import datetime\n",
    "import numpy as np\n",
    "import time\n",
    "import os\n",
    "\n",
    "try: \n",
    "    pulsedmasterlogic\n",
    "except NameError:\n",
    "    manager.startModule('logic', 'pulsedmasterlogic')\n",
    "try:\n",
    "    sequencegenerator\n",
    "except NameError:\n",
    "    manager.startModule('logic', 'sequencegenerator')\n",
    "try:\n",
    "    pulsedmeasurement\n",
    "except NameError:\n",
    "    manager.startModule('gui', 'pulsedmeasurement')  "
   ]
  },
  {
   "cell_type": "code",
   "execution_count": 6,
   "metadata": {},
   "outputs": [],
   "source": [
    "odmrlogic.mw_start = 1.495e+9\n",
    "odmrlogic.mw_stop = 1.52e+9\n",
    "odmrlogic.mw_step =0.5e+6\n",
    "odmrlogic.run_time = 20.0\n",
    "odmrlogic.sweep_mw_power = -23\n",
    "\n",
    "odmrlogic.cw_mw_frequency = odmrlogic.mw_start\n",
    "odmrlogic.cw_mw_power = odmrlogic.sweep_mw_power\n",
    "\n",
    "odmr._mw.cw_frequency_DoubleSpinBox.setValue(odmrlogic.cw_mw_frequency)\n",
    "odmr._mw.start_freq_DoubleSpinBox.setValue(odmrlogic.mw_start)\n",
    "odmr._mw.stop_freq_DoubleSpinBox.setValue(odmrlogic.mw_stop)\n",
    "odmr._mw.step_freq_DoubleSpinBox.setValue(odmrlogic.mw_step)\n",
    "odmr._mw.cw_power_DoubleSpinBox.setValue(odmrlogic.cw_mw_power)\n",
    "odmr._mw.sweep_power_DoubleSpinBox.setValue(odmrlogic.sweep_mw_power)\n",
    "odmr._mw.runtime_DoubleSpinBox.setValue(odmrlogic.run_time)\n",
    "\n",
    " # load Laser_MW_On sequence to AWG\n",
    "pulsedmasterlogic.clear_pulse_generator()\n",
    "time.sleep(5)\n",
    "\n",
    "pulsedmasterlogic.generate_predefined_sequence('laser_mw_on')\n",
    "time.sleep(0.5)\n",
    "pulsedmasterlogic.sample_ensemble('laser_mw_on', with_load=True)"
   ]
  },
  {
   "cell_type": "code",
   "execution_count": 6,
   "metadata": {
    "collapsed": true
   },
   "outputs": [],
   "source": [
    "def do_cw_odmr(save_data=False):\n",
    "    \n",
    "    # perform measurement\n",
    "    odmrlogic.start_odmr_scan()\n",
    "    \n",
    "    time.sleep(odmrlogic.run_time+0.5)\n",
    "    \n",
    "    odmrlogic.do_fit('Lorentzian dip')\n",
    "    \n",
    "    if save_data:\n",
    "        odmr.save_data()\n",
    "        \n",
    "    pulsedmeasurement.laser_on()\n",
    "    \n",
    "    print('finish')"
   ]
  },
  {
   "cell_type": "code",
   "execution_count": 7,
   "metadata": {
    "scrolled": true
   },
   "outputs": [
    {
     "name": "stdout",
     "output_type": "stream",
     "text": [
      "finish\n"
     ]
    }
   ],
   "source": [
    "do_cw_odmr()"
   ]
  },
  {
   "cell_type": "code",
   "execution_count": null,
   "metadata": {
    "collapsed": true
   },
   "outputs": [],
   "source": []
  }
 ],
 "metadata": {
  "kernelspec": {
   "display_name": "Qudi",
   "language": "python",
   "name": "qudi"
  },
  "language_info": {
   "codemirror_mode": {
    "name": "ipython",
    "version": "3.6.5"
   },
   "file_extension": ".py",
   "mimetype": "text/x-python",
   "name": "python",
   "nbconvert_exporter": "python",
   "pygments_lexer": "ipython3",
   "version": "3.6.5"
  }
 },
 "nbformat": 4,
 "nbformat_minor": 2
}
