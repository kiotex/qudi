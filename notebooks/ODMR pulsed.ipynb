{
 "cells": [
  {
   "cell_type": "markdown",
   "metadata": {},
   "source": [
    "# Rabi measurement and pulsed ODMR"
   ]
  },
  {
   "cell_type": "code",
   "execution_count": 1,
   "metadata": {
    "collapsed": true
   },
   "outputs": [],
   "source": [
    "from collections import OrderedDict\n",
    "import datetime\n",
    "import numpy as np\n",
    "import time\n",
    "import os"
   ]
  },
  {
   "cell_type": "code",
   "execution_count": 2,
   "metadata": {
    "collapsed": true
   },
   "outputs": [],
   "source": [
    "try: \n",
    "    pulsedmasterlogic\n",
    "except NameError:\n",
    "    manager.startModule('logic', 'pulsedmasterlogic')\n",
    "try: \n",
    "    scannerlogic\n",
    "except NameError:\n",
    "    manager.startModule('logic', 'scannerlogic')\n",
    "try: \n",
    "    optimizerlogic\n",
    "except NameError:\n",
    "    manager.startModule('logic', 'optimizerlogic')\n",
    "try:\n",
    "    sequencegeneratorlogic\n",
    "except NameError:\n",
    "    manager.startModule('logic', 'sequencegeneratorlogic')\n",
    "try:\n",
    "    pulsedmeasurement\n",
    "except NameError:\n",
    "    manager.startModule('gui', 'pulsedmeasurement')    "
   ]
  },
  {
   "cell_type": "code",
   "execution_count": 3,
   "metadata": {
    "collapsed": true
   },
   "outputs": [],
   "source": [
    "def write_to_logfile(nametag, timestamp, name, **kwargs):\n",
    "    \"\"\" Write parameters to custom logfile with name nametag \"\"\"\n",
    "    if type(timestamp) is not str:\n",
    "        timestamp = str(timestamp)\n",
    "    parameters = list(kwargs)\n",
    "    if len(parameters) == 1 and type(kwargs[parameters[0]]) is OrderedDict:\n",
    "        param_dict = kwargs[parameters[0]]\n",
    "        parameters = list(param_dict)\n",
    "        kwargs = param_dict\n",
    "    log_dir = pulsedmeasurement._save_logic.get_path_for_module('CustomLogfiles')\n",
    "    log_path = os.path.join(log_dir, nametag + '.txt')\n",
    "    if not os.path.isfile(log_path):\n",
    "        with open(log_path, 'w') as logfile:\n",
    "            logfile.write('# timestamp\\t')\n",
    "            logfile.write('# Name\\t')\n",
    "            for param in parameters:\n",
    "                logfile.write(param + '\\t')\n",
    "            logfile.write('\\n#\\n')\n",
    "    with open(log_path, 'a') as logfile:\n",
    "        logfile.write(timestamp + '\\t')\n",
    "        logfile.write(name + '\\t')\n",
    "        for param in parameters:\n",
    "            logfile.write('{0:3.6e}\\t'.format(kwargs[param]))\n",
    "        logfile.write('\\n')\n",
    "    return"
   ]
  },
  {
   "cell_type": "code",
   "execution_count": 4,
   "metadata": {
    "collapsed": false
   },
   "outputs": [],
   "source": [
    "# static hardware parameters:\n",
    "setup = OrderedDict()\n",
    "setup['sampling_freq'] = pulsedmeasurementlogic.sample_rate\n",
    "setup['fc_binwidth'] = pulsedmeasurementlogic.fast_counter_binwidth\n",
    "setup['wait_length'] = 1.5e-6\n",
    "setup['aom_delay'] = 500e-9\n",
    "#setup['channel_config_name'] = pulsedmeasurement.current_channel_config_name\n",
    "setup['seq_trig']=''\n",
    "setup['gate']='d_ch2'\n",
    "setup['NV_name']='NV1'\n",
    "setup['poi']='poi_20170908_1920_43_092302'\n",
    "setup['laser_length'] = 3.0e-6\n",
    "setup[\"min_counts\"] = 40000 # if after a refocus only 40kcounts are measured the refocus is repeated up to max 3 times\n",
    "# Set amplitude in logic and pulser hardware:\n",
    "amp_dict = OrderedDict()\n",
    "amp_dict['a_ch1'] = 0.25\n",
    "amp_dict['a_ch2'] = 0.0\n",
    "AWG5014C.amplitude_dict = amp_dict\n",
    "#pulsedmaster.pulse_generator_settings_changed(setup['sampling_freq'], setup['channel_config_name'], amp_dict, False)"
   ]
  },
  {
   "cell_type": "code",
   "execution_count": 5,
   "metadata": {
    "collapsed": true
   },
   "outputs": [],
   "source": [
    "# for pulsed ODMR:\n",
    "odmr_dict = OrderedDict()\n",
    "odmr_dict['pi_length'] = 123e-9\n",
    "odmr_dict['freq_res'] = 3e+5\n",
    "odmr_dict['points'] = 100\n",
    "odmr_dict['measurement_time'] = 20\n",
    "odmr_dict['fit_function']='Pulsed ODMR'\n",
    "\n",
    "mw_freq = 1368.16e+6 # in MHz\n",
    "mw_power = -13\n",
    "\n",
    "freq =  (mw_freq-0.1e+9)-odmr_dict['points']*odmr_dict['freq_res']/2\n",
    "\n",
    "pulsedmeasurement._pa.ext_control_mw_freq_DoubleSpinBox.setValue(freq)\n",
    "pulsedmeasurement._pa.ext_control_mw_power_DoubleSpinBox.setValue(mw_power)\n",
    "pulsedmeasurement.ext_mw_params_changed()"
   ]
  },
  {
   "cell_type": "code",
   "execution_count": 9,
   "metadata": {
    "collapsed": true
   },
   "outputs": [],
   "source": [
    "mw_freq = 1608.9e+6 # in MHz\n",
    "mw_power = -9\n",
    "pulsedmeasurement._pa.ext_control_mw_freq_DoubleSpinBox.setValue(mw_freq-0.1e+9)\n",
    "pulsedmeasurement._pa.ext_control_mw_power_DoubleSpinBox.setValue(mw_power)\n",
    "pulsedmeasurement.ext_mw_params_changed()"
   ]
  },
  {
   "cell_type": "code",
   "execution_count": 33,
   "metadata": {
    "collapsed": true
   },
   "outputs": [],
   "source": [
    "# for Rabi:\n",
    "rabi = OrderedDict()\n",
    "rabi['mw_amp'] = 0.111\n",
    "rabi['mw_freq'] = 100.0e6 \n",
    "rabi['tau_start'] = 300.0e-9\n",
    "rabi['tau_step'] =  25.0e-9\n",
    "rabi['number_of_taus'] = 100\n",
    "rabi['measurement_time'] = 60\n",
    "rabi['refocus_interval'] = 2*60"
   ]
  },
  {
   "cell_type": "code",
   "execution_count": 31,
   "metadata": {
    "collapsed": false,
    "scrolled": true
   },
   "outputs": [
    {
     "name": "stdout",
     "output_type": "stream",
     "text": [
      "2D gaussian fit not successfull\n",
      "118340.0 0.0\n"
     ]
    },
    {
     "data": {
      "text/plain": [
       "True"
      ]
     },
     "execution_count": 31,
     "metadata": {},
     "output_type": "execute_result"
    }
   ],
   "source": [
    "setup['poi'] = poimanagerlogic.active_poi.get_key()\n",
    "refocus_poi(setup['poi'])"
   ]
  },
  {
   "cell_type": "code",
   "execution_count": 34,
   "metadata": {
    "collapsed": false,
    "scrolled": false
   },
   "outputs": [
    {
     "data": {
      "text/plain": [
       "(False, 5.2306788674027365e-07, 28.522823671285114, 1911797.7328563172, 0.81606813291014346)"
      ]
     },
     "execution_count": 34,
     "metadata": {},
     "output_type": "execute_result"
    }
   ],
   "source": [
    "do_rabi()"
   ]
  },
  {
   "cell_type": "code",
   "execution_count": 35,
   "metadata": {
    "collapsed": false,
    "scrolled": false
   },
   "outputs": [
    {
     "data": {
      "text/plain": [
       "'G:\\\\\\\\data\\\\\\\\QudiData\\\\2018\\\\07\\\\20180711\\\\PulsedMeasurement'"
      ]
     },
     "execution_count": 35,
     "metadata": {},
     "output_type": "execute_result"
    }
   ],
   "source": [
    "pulsedmasterlogic.save_measurement_data('s','Rabi_'+setup['NV_name']+'_'+str(rabi['mw_amp'])+'V',True, False)"
   ]
  },
  {
   "cell_type": "code",
   "execution_count": 6,
   "metadata": {
    "collapsed": true
   },
   "outputs": [],
   "source": [
    "def do_rabi(generate_new=True, save_tag='', load_tag=''):\n",
    "    \n",
    "    length = rabi['number_of_taus'] * rabi['tau_step']\n",
    "            \n",
    "    # sanity check for long sequences:\n",
    "    if length > 3e-3:\n",
    "        print(\"Rabi exceeds 3 ms too long for AWG5014C\")\n",
    "        return True,0,0,0,0\n",
    "    # generate ensemble object\n",
    "#     rabi['tau_res'] = rabi['length'] / (rabi['points'] - 1)\n",
    "    tau_arr = np.arange(rabi['number_of_taus']) * rabi['tau_step']+rabi['tau_start']\n",
    "    if generate_new:\n",
    "        sequencegeneratorlogic.delete_ensemble('Rabi')\n",
    "        sequencegeneratorlogic.generate_rabi('Rabi', rabi['tau_start'], rabi['tau_step'], rabi['number_of_taus'], rabi['mw_freq'], \n",
    "                                        rabi['mw_amp'], 'a_ch1', setup['laser_length'] , 1.0, setup['aom_delay'], \n",
    "                                        setup['wait_length'], setup['seq_trig'], setup['gate'])\n",
    "        if 'Rabi' not in sequencegeneratorlogic.saved_pulse_block_ensembles:\n",
    "            sequencegeneratorlogic.log.error('Ensemble generation of Rabi in notebook timed out.')\n",
    "            return\n",
    "        pulsedmasterlogic.sample_block_ensemble('Rabi', True)\n",
    "    else:\n",
    "        pulsedmasterlogic.load_asset_into_channels('Rabi')\n",
    "    while pulsedmasterlogic.status_dict['sauplo_ensemble_busy'] or pulsedmasterlogic.status_dict['loading_busy']:\n",
    "        time.sleep(0.2)\n",
    "    pulsedmasterlogic.do_fit('No Fit')\n",
    "    # set parameters in analysis tab\n",
    "    pulsedmasterlogic.measurement_sequence_settings_changed(tau_arr, rabi['number_of_taus'], 100e-6, [], False)\n",
    "    pulsedmasterlogic.fast_counter_settings_changed(setup['fc_binwidth'], setup['laser_length']+1e-6, rabi['number_of_taus'])\n",
    "    pulsedmasterlogic.analysis_interval_changed(1)\n",
    "    pulsedmeasurementlogic.measurement_tag = save_tag\n",
    "    # perform measurement\n",
    "    pulsedmasterlogic.start_measurement(load_tag)\n",
    "    while not pulsedmasterlogic.status_dict['measurement_running']:\n",
    "        time.sleep(0.2)\n",
    "    user_terminated = False\n",
    "    start_time = time.time()\n",
    "    while time.time() - start_time < rabi['measurement_time']:\n",
    "        if not pulsedmasterlogic.status_dict['measurement_running']:\n",
    "            user_terminated = True\n",
    "            break\n",
    "        time.sleep(0.5)\n",
    "    pulsedmasterlogic.manually_pull_data() \n",
    "    time.sleep(1)\n",
    "    pulsedmasterlogic.stop_measurement(save_tag)\n",
    "    while pulsedmasterlogic.status_dict['measurement_running']:\n",
    "        time.sleep(0.2)\n",
    "        time.sleep(2)\n",
    "    # do fit\n",
    "    x, y, param_dict = pulsedmeasurementlogic.do_fit('Rabi')\n",
    "    new_freq = param_dict.params['frequency'].value\n",
    "    contrast = 2.*param_dict.params['amplitude'].value\n",
    "    offset = param_dict.params['offset'].value\n",
    "    period = 1./new_freq\n",
    "    \n",
    "#     # save data\n",
    "#     if save_tag is None:\n",
    "#         pulsedmasterlogic.save_measurement_data('s','Rabi_'+setup['NV_name']+'_'+str(rabi['mw_amp'])+'V',True)\n",
    "#     else:\n",
    "#         pulsedmasterlogic.save_measurement_data('s','Rabi_'+setup['NV_name']+'_'+str(rabi['mw_amp'])+'V',True)\n",
    "    \n",
    "    # write logfile\n",
    "    write_to_logfile('Rabi_log', str(datetime.datetime.now()),name= setup['NV_name'], amplitude=rabi['mw_amp'], period=period,\n",
    "                     frequency=new_freq, contrast=contrast, offset= offset)\n",
    "    return user_terminated, period, contrast*100, new_freq, offset"
   ]
  },
  {
   "cell_type": "code",
   "execution_count": 9,
   "metadata": {
    "collapsed": true
   },
   "outputs": [],
   "source": [
    "def do_odmr(generate_new=True,save_data=False):\n",
    "    # generate ensemble object\n",
    "    if odmr_dict['pi_length']>3e-3:\n",
    "        print(\"Pulsed ODMR exceeds length of 3ms\")\n",
    "        return\n",
    "        \n",
    "    freq_arr = (mw_freq-odmr_dict['points']*odmr_dict['freq_res']/2) + np.arange(odmr_dict['points']) * odmr_dict['freq_res']    \n",
    "        \n",
    "    if generate_new:\n",
    "        sequencegeneratorlogic.delete_ensemble('PulsedODMR')\n",
    "        sequencegeneratorlogic.generate_pulsed_odmr('PulsedODMR', odmr_dict['pi_length'], 100.0e6, odmr_dict['freq_res'], \n",
    "                                              odmr_dict['points'], 0.25, 'a_ch1', setup['laser_length'] , \n",
    "                                              1.0, setup['aom_delay'], setup['wait_length'], setup['seq_trig'], setup['gate'])\n",
    "        if 'PulsedODMR' not in sequencegeneratorlogic.saved_pulse_block_ensembles:\n",
    "            sequencegeneratorlogic.log.error('Ensemble generation of PulsedODMR from notebook did not work.')\n",
    "            return\n",
    "        pulsedmasterlogic.sample_block_ensemble('PulsedODMR', True)\n",
    "    else:\n",
    "        pulsedmasterlogic.load_asset_into_channels('PulsedODMR')\n",
    "    while pulsedmasterlogic.status_dict['sauplo_ensemble_busy'] or pulsedmasterlogic.status_dict['loading_busy']:\n",
    "        time.sleep(0.5)\n",
    "    # delete old fit\n",
    "    pulsedmasterlogic.do_fit('No Fit')\n",
    "    # set parameters in analysis tab\n",
    "    pulsedmasterlogic.measurement_sequence_settings_changed(freq_arr, odmr_dict['points'], 100e-6, [], False)\n",
    "    pulsedmasterlogic.fast_counter_settings_changed(setup['fc_binwidth'], setup['laser_length']+0.2e-6)\n",
    "    pulsedmasterlogic.analysis_interval_changed(1)\n",
    "    # perform measurement\n",
    "    pulsedmasterlogic.start_measurement()\n",
    "    while not pulsedmasterlogic.status_dict['measurement_running']:\n",
    "        time.sleep(0.5)\n",
    "    user_terminated = False\n",
    "    start_time = time.time()\n",
    "    while time.time() - start_time < odmr_dict['measurement_time']:\n",
    "        if not pulsedmasterlogic.status_dict['measurement_running']:\n",
    "            user_terminated = True\n",
    "            break\n",
    "        time.sleep(1)\n",
    "    pulsedmasterlogic.manually_pull_data() \n",
    "    time.sleep(1)\n",
    "    pulsedmasterlogic.stop_measurement()\n",
    "    while pulsedmasterlogic.status_dict['measurement_running']:\n",
    "        time.sleep(0.5)\n",
    "#    pulsedmaster.save_measurement_data('Hz','PulsedODMR'+setup['NV_name'])\n",
    "    time.sleep(2)\n",
    "    if odmr_dict['fit_function']=='Pulsed ODMR':\n",
    "        x, y, param_dict= pulsedmeasurementlogic.do_fit('Pulsed ODMR')\n",
    "        new_freq = param_dict.params['center'].value\n",
    "        contrast = param_dict.params['contrast'].value\n",
    "        linewidth = param_dict.params['fwhm'].value\n",
    "            \n",
    "    if save_data:\n",
    "        pulsedmasterlogic.save_measurement_data('Hz','ODMR_'+setup['NV_name'],True)\n",
    "    # write logfile\n",
    "    write_to_logfile('PulsedODMR_log', str(datetime.datetime.now()),name= setup['NV_name'], frequency=new_freq,\n",
    "                     contrast=contrast,linewidth=linewidth)\n",
    "    return user_terminated, new_freq, contrast, linewidth"
   ]
  },
  {
   "cell_type": "code",
   "execution_count": 40,
   "metadata": {
    "collapsed": false
   },
   "outputs": [
    {
     "data": {
      "text/plain": [
       "(False, 1374669168.3132148, -6.2424458658378565, 1134429.0873497562)"
      ]
     },
     "execution_count": 40,
     "metadata": {},
     "output_type": "execute_result"
    }
   ],
   "source": [
    "do_odmr()"
   ]
  },
  {
   "cell_type": "code",
   "execution_count": 9,
   "metadata": {
    "collapsed": true
   },
   "outputs": [],
   "source": [
    "def refocus_poi(poi=None, max_drift=0.5, min_counts=setup[\"min_counts\"]):\n",
    "    if poi==None:\n",
    "        return False\n",
    "#     pulsedmasterlogic.load_asset_into_channels('Laser_On')\n",
    "#     while pulsedmasterlogic.status_dict['loading_busy']:\n",
    "#         time.sleep(0.5)\n",
    "#     pulsedmasterlogic.toggle_pulse_generator(False)\n",
    "#     time.sleep(0.5)\n",
    "    # perform refocus\n",
    "    scannerlogic.stop_scanning()\n",
    "    poimanagerlogic.go_to_poi(poi)\n",
    "    pos_start = scannerlogic.get_position()\n",
    "    setup['NV_name']=poimanagerlogic.poi_list[poi]._name\n",
    "    poimanagerlogic.optimise_poi(poi)\n",
    "    while optimizerlogic.getState() == 'idle':\n",
    "        time.sleep(0.2)\n",
    "    while optimizerlogic.getState() != 'idle':\n",
    "        time.sleep(0.2)\n",
    "    time.sleep(5)\n",
    "    pos_end=scannerlogic.get_position()\n",
    "    print(counterlogic.countdata.mean(),abs(pos_end[0]-pos_start[0]))\n",
    "    if (abs(pos_end[0]-pos_start[0])>max_drift or abs(pos_end[1]-pos_start[1])>max_drift or \n",
    "       abs(pos_end[2]-pos_start[2])>max_drift or counterlogic.countdata.mean()<min_counts):\n",
    "        scannerlogic.set_position('',x=pos_start[0],y=pos_start[1],z=pos_start[2])\n",
    "        poimanagerlogic.set_new_position(poi,pos_start)\n",
    "        print(abs(pos_end[0]-pos_start[0])>max_drift or abs(pos_end[1]-pos_start[1])>max_drift or \n",
    "       abs(pos_end[2]-pos_start[2])>max_drift or counterlogic.countdata.mean()<min_counts)\n",
    "        return False\n",
    "        write_to_logfile('PositionRefocus_log', str(datetime.datetime.now()),name= setup['NV_name'], \n",
    "                     x_pos=pos_start[0], y_pos=pos_start[1], z_pos=pos_start[2],sucess=0)\n",
    "    write_to_logfile('PositionRefocus_log', str(datetime.datetime.now()),name= setup['NV_name'], \n",
    "                     x_pos=pos_end[0], y_pos=pos_end[1], z_pos=pos_end[2],sucess=1)\n",
    "    return True\n",
    "def do_rabi_refocus(poi):\n",
    "    end_measure=False\n",
    "    #refocus_poi(poi)\n",
    "    rabi_total_time = rabi['measurement_time']\n",
    "    rabi_runtime = 0.0\n",
    "    rabi['measurement_time'] = rabi['refocus_interval']\n",
    "    end_measure = do_rabi(True, 'rabi_refocus','')[0]\n",
    "    rabi_runtime += rabi['refocus_interval']\n",
    "    while rabi_total_time > rabi_runtime:\n",
    "        for i in range(1):\n",
    "            end_measure = not refocus_poi(poi)\n",
    "            if not end_measure:\n",
    "                break\n",
    "        if end_measure:\n",
    "            break\n",
    "        end_measure = do_rabi(False, 'rabi_refocus', 'rabi_refocus')[0]\n",
    "        rabi_runtime += rabi['refocus_interval']\n",
    "        print(rabi_runtime)\n",
    "        if end_measure:\n",
    "            break\n",
    "    rabi['measurement_time'] = rabi_total_time\n",
    "    write_to_logfile('rabi_log', str(datetime.datetime.now()),name= setup['NV_name'],runtime=rabi_runtime)\n",
    "    time.sleep(2)\n",
    "    return end_measure"
   ]
  },
  {
   "cell_type": "code",
   "execution_count": 101,
   "metadata": {
    "collapsed": false
   },
   "outputs": [
    {
     "name": "stdout",
     "output_type": "stream",
     "text": [
      "102822.0 4.217838294151262e-09\n",
      "240.0\n",
      "102822.0 2.0188477992466656e-08\n",
      "360.0\n",
      "102822.0 1.1847903645553727e-08\n",
      "480.0\n",
      "102822.0 1.435833759302744e-09\n",
      "600.0\n",
      "102822.0 2.943735344569133e-09\n",
      "720.0\n",
      "102822.0 5.085913480455933e-10\n",
      "840.0\n",
      "102822.0 6.9467061522733445e-09\n",
      "960.0\n",
      "102822.0 3.0328482435274277e-09\n",
      "1080.0\n",
      "102822.0 1.7584658497108905e-08\n",
      "1200.0\n",
      "102822.0 5.258200258941113e-10\n",
      "1320.0\n",
      "102822.0 2.6078308261895953e-09\n",
      "1440.0\n",
      "102822.0 1.2716049301855423e-09\n",
      "1560.0\n",
      "102822.0 1.6214762570867093e-08\n",
      "1680.0\n",
      "102822.0 2.0383019902689968e-08\n",
      "1800.0\n",
      "102822.0 2.120365207063579e-10\n",
      "1920.0\n",
      "102822.0 4.572655596101491e-09\n",
      "2040.0\n",
      "102822.0 4.450085645289824e-09\n",
      "2160.0\n",
      "102822.0 1.4133175336715248e-08\n",
      "2280.0\n",
      "102822.0 1.3217873570423402e-08\n",
      "2400.0\n",
      "102822.0 1.515454457482932e-08\n",
      "2520.0\n",
      "102822.0 1.5413117518132523e-09\n",
      "2640.0\n",
      "2D gaussian fit not successfull\n",
      "102822.0 0.0\n",
      "2760.0\n",
      "102822.0 1.680851099042477e-08\n",
      "2880.0\n",
      "102822.0 2.105654879531484e-08\n",
      "3000.0\n",
      "2D gaussian fit not successfull\n",
      "102822.0 0.0\n",
      "3120.0\n",
      "102822.0 2.3656201577840078e-09\n",
      "3240.0\n",
      "102822.0 1.4036253364300717e-08\n",
      "3360.0\n",
      "102822.0 3.727092960024688e-09\n",
      "3480.0\n",
      "102822.0 9.007814577130144e-09\n",
      "3600.0\n",
      "102822.0 7.692455219088668e-09\n",
      "3720.0\n",
      "102822.0 2.5609918755028225e-09\n",
      "3840.0\n",
      "102822.0 9.351700274771546e-09\n",
      "3960.0\n",
      "102822.0 3.959194981925781e-09\n",
      "4080.0\n",
      "102822.0 7.485323458059057e-09\n",
      "4200.0\n",
      "102822.0 8.713503219320525e-09\n",
      "4320.0\n",
      "102822.0 2.3723398297084784e-09\n",
      "4440.0\n",
      "102822.0 3.667148498683352e-09\n",
      "4560.0\n",
      "102822.0 5.865585176245756e-09\n",
      "4680.0\n",
      "102822.0 1.1533558836731108e-08\n",
      "4800.0\n",
      "102822.0 7.2159966049760394e-09\n",
      "4920.0\n",
      "102822.0 3.7009723636162017e-09\n",
      "5040.0\n",
      "102822.0 1.7394186876170791e-09\n",
      "5160.0\n",
      "102822.0 1.0059026304441786e-08\n",
      "5280.0\n",
      "102822.0 3.8974985760477365e-10\n",
      "5400.0\n",
      "102822.0 2.088960431094163e-09\n",
      "5520.0\n",
      "102822.0 3.7144629901330337e-09\n",
      "5640.0\n",
      "102822.0 9.102348252437937e-10\n",
      "5760.0\n",
      "102822.0 7.628703797303831e-09\n",
      "5880.0\n",
      "102822.0 9.255812213676204e-10\n",
      "6000.0\n",
      "102822.0 4.323697850257594e-09\n",
      "6120.0\n",
      "102822.0 9.942587232583504e-10\n",
      "6240.0\n",
      "102822.0 7.96832830323108e-09\n",
      "6360.0\n",
      "102822.0 9.272660080785334e-09\n",
      "6480.0\n",
      "102822.0 3.693503380515473e-09\n",
      "6600.0\n",
      "102822.0 1.1882714161704118e-08\n",
      "6720.0\n",
      "102822.0 3.6626733900180968e-09\n",
      "6840.0\n",
      "102822.0 1.1326436096534623e-08\n",
      "6960.0\n",
      "102822.0 1.272965921984403e-08\n",
      "7080.0\n",
      "102822.0 2.496650901059991e-09\n",
      "7200.0\n"
     ]
    },
    {
     "data": {
      "text/plain": [
       "False"
      ]
     },
     "execution_count": 101,
     "metadata": {},
     "output_type": "execute_result"
    }
   ],
   "source": [
    "setup['poi'] = poimanagerlogic.active_poi.get_key()\n",
    "do_rabi_refocus(setup['poi'])"
   ]
  },
  {
   "cell_type": "code",
   "execution_count": null,
   "metadata": {
    "collapsed": true
   },
   "outputs": [],
   "source": []
  }
 ],
 "metadata": {
  "kernelspec": {
   "display_name": "Qudi",
   "language": "python",
   "name": "qudi"
  },
  "language_info": {
   "codemirror_mode": {
    "name": "ipython",
    "version": "3.6.0"
   },
   "file_extension": ".py",
   "mimetype": "text/x-python",
   "name": "python",
   "nbconvert_exporter": "python",
   "pygments_lexer": "ipython3",
   "version": "3.6.0"
  }
 },
 "nbformat": 4,
 "nbformat_minor": 2
}
