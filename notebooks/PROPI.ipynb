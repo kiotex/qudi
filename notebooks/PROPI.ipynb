{
 "cells": [
  {
   "cell_type": "markdown",
   "metadata": {},
   "source": [
    "# PROPI"
   ]
  },
  {
   "cell_type": "code",
   "execution_count": 2,
   "metadata": {
    "collapsed": true
   },
   "outputs": [],
   "source": [
    "from collections import OrderedDict\n",
    "import datetime\n",
    "import numpy as np\n",
    "import time\n",
    "import os"
   ]
  },
  {
   "cell_type": "code",
   "execution_count": 3,
   "metadata": {
    "collapsed": false
   },
   "outputs": [],
   "source": [
    "try: \n",
    "    pulsedmasterlogic\n",
    "except NameError:\n",
    "    manager.startModule('logic', 'pulsedmasterlogic')\n",
    "try: \n",
    "    scannerlogic\n",
    "except NameError:\n",
    "    manager.startModule('logic', 'scannerlogic')\n",
    "try: \n",
    "    optimizerlogic\n",
    "except NameError:\n",
    "    manager.startModule('logic', 'optimizerlogic')\n",
    "try:\n",
    "    sequencegeneratorlogic\n",
    "except NameError:\n",
    "    manager.startModule('logic', 'sequencegeneratorlogic')\n",
    "try:\n",
    "    pulsedmeasurement\n",
    "except NameError:\n",
    "    manager.startModule('gui', 'pulsedmeasurement')   \n",
    "try:\n",
    "    poimanagerlogic\n",
    "except NameError:\n",
    "    manager.startModule('logic', 'poimaganerlogic')    "
   ]
  },
  {
   "cell_type": "code",
   "execution_count": 4,
   "metadata": {
    "collapsed": true
   },
   "outputs": [],
   "source": [
    "def write_to_logfile(nametag, timestamp, name, **kwargs):\n",
    "    \"\"\" Write parameters to custom logfile with name nametag \"\"\"\n",
    "    if type(timestamp) is not str:\n",
    "        timestamp = str(timestamp)\n",
    "    parameters = list(kwargs)\n",
    "    if len(parameters) == 1 and type(kwargs[parameters[0]]) is OrderedDict:\n",
    "        param_dict = kwargs[parameters[0]]\n",
    "        parameters = list(param_dict)\n",
    "        kwargs = param_dict\n",
    "    log_dir = pulsedmeasurement._save_logic.get_path_for_module('CustomLogfiles')\n",
    "    log_path = os.path.join(log_dir, nametag + '.txt')\n",
    "    if not os.path.isfile(log_path):\n",
    "        with open(log_path, 'w') as logfile:\n",
    "            logfile.write('# timestamp\\t')\n",
    "            logfile.write('# Name\\t')\n",
    "            for param in parameters:\n",
    "                logfile.write(param + '\\t')\n",
    "            logfile.write('\\n#\\n')\n",
    "    with open(log_path, 'a') as logfile:\n",
    "        logfile.write(timestamp + '\\t')\n",
    "        logfile.write(name + '\\t')\n",
    "        for param in parameters:\n",
    "            logfile.write('{0:3.6e}\\t'.format(kwargs[param]))\n",
    "        logfile.write('\\n')\n",
    "    return"
   ]
  },
  {
   "cell_type": "code",
   "execution_count": 12,
   "metadata": {
    "collapsed": false
   },
   "outputs": [],
   "source": [
    "# static hardware parameters:\n",
    "setup = OrderedDict()\n",
    "setup['sampling_freq'] = pulsedmeasurementlogic.sample_rate\n",
    "setup['fc_binwidth'] = pulsedmeasurementlogic.fast_counter_binwidth\n",
    "setup['wait_length'] = 1.5e-6\n",
    "setup['aom_delay'] = 500e-9\n",
    "#setup['channel_config_name'] = pulsedmeasurement.current_channel_config_name\n",
    "setup['seq_trig']=''\n",
    "setup['gate']='d_ch2'\n",
    "setup['NV_name']='NV4'\n",
    "setup['poi'] = poimanagerlogic.active_poi.get_key()\n",
    "setup['laser_length'] = 4.0e-6\n",
    "setup[\"min_counts\"] = 10000 # if after a refocus only 40kcounts are measured the refocus is repeated up to max 3 times\n",
    "# Set amplitude in logic and pulser hardware:\n",
    "amp_dict = OrderedDict()\n",
    "amp_dict['a_ch1'] = 0.25\n",
    "amp_dict['a_ch2'] = 0.0\n",
    "AWG5014C.amplitude_dict = amp_dict\n",
    "#pulsedmaster.pulse_generator_settings_changed(setup['sampling_freq'], setup['channel_config_name'], amp_dict, False)"
   ]
  },
  {
   "cell_type": "code",
   "execution_count": 13,
   "metadata": {
    "collapsed": true
   },
   "outputs": [],
   "source": [
    "# for single frequency XY8-N:\n",
    "propi = OrderedDict()\n",
    "propi['mw_amp'] = 0.25\n",
    "propi['spinlock_amp'] = 0.111\n",
    "propi['mw_freq'] = 100e6\n",
    "propi['tau'] = 52.0*1e-6\n",
    "propi['N'] = 2\n",
    "propi['M'] = 1000\n",
    "propi['step_M'] = 1\n",
    "propi['measurement_time'] = 240*60\n",
    "propi['refocus_interval'] = 2*60\n",
    "propi['alternating']=True\n",
    "propi['rabi_period']=186.5*1e-9"
   ]
  },
  {
   "cell_type": "code",
   "execution_count": 9,
   "metadata": {
    "collapsed": false
   },
   "outputs": [
    {
     "name": "stdout",
     "output_type": "stream",
     "text": [
      "<logic.pulse_objects.PulseSequence object at 0x000001E0B50E3710>\n"
     ]
    }
   ],
   "source": [
    "# generate new HH sequence\n",
    "sequencegeneratorlogic.delete_sequence('propi')    \n",
    "sequencegeneratorlogic.generate_PROPI('propi', propi['rabi_period'], propi['spinlock_amp'], 100e6, 0.25, \n",
    "                                      propi['tau'], propi['N'], propi['M'], propi['step_M'], 'a_ch1', 3.0e-6, \n",
    "                                      2.0, 0.7e-6, 1.0e-6, '', 'd_ch2', True)\n",
    "# sample, upload and load waveform\n",
    "if 'propi' not in sequencegeneratorlogic.saved_pulse_sequences:\n",
    "    sequencegeneratorlogic.log.error('Sequence generation of propi in notebook timed out.')\n",
    "pulsedmasterlogic.sample_sequence('propi', True)\n",
    "\n",
    "while pulsedmasterlogic.status_dict['sauplo_sequence_busy'] or pulsedmasterlogic.status_dict['loading_busy']:\n",
    "        time.sleep(5)\n",
    "\n",
    "import winsound\n",
    "frequency = 300  # Set Frequency To 2500 Hertz\n",
    "duration = 1000  # Set Duration To 1000 ms == 1 second\n",
    "winsound.Beep(frequency, duration)"
   ]
  },
  {
   "cell_type": "code",
   "execution_count": 10,
   "metadata": {
    "collapsed": false,
    "scrolled": false
   },
   "outputs": [
    {
     "name": "stdout",
     "output_type": "stream",
     "text": [
      "118340.0 2.278588552806867e-08\n"
     ]
    },
    {
     "data": {
      "text/plain": [
       "True"
      ]
     },
     "execution_count": 10,
     "metadata": {},
     "output_type": "execute_result"
    }
   ],
   "source": [
    "refocus_poi(setup['poi'])"
   ]
  },
  {
   "cell_type": "code",
   "execution_count": 14,
   "metadata": {
    "collapsed": false,
    "scrolled": false
   },
   "outputs": [
    {
     "name": "stdout",
     "output_type": "stream",
     "text": [
      "118340.0 9.29861568055266e-09\n",
      "118340.0 9.22548182994009e-09\n",
      "118340.0 5.6855908871054775e-09\n",
      "118340.0 2.2552076503288144e-09\n",
      "118340.0 2.3466698327135954e-09\n",
      "2D gaussian fit not successfull\n",
      "118340.0 0.0\n",
      "2D gaussian fit not successfull\n",
      "118340.0 0.0\n",
      "118340.0 7.660176325751408e-09\n",
      "118340.0 1.3613718896125456e-08\n",
      "118340.0 3.698159426666859e-11\n",
      "118340.0 7.709492707126892e-09\n",
      "118340.0 6.014635902102229e-09\n",
      "118340.0 1.7312732931900406e-09\n",
      "2D gaussian fit not successfull\n",
      "118340.0 0.0\n",
      "118340.0 6.498477711794972e-09\n",
      "118340.0 1.2667594281917844e-09\n",
      "118340.0 9.246556054096349e-10\n",
      "118340.0 1.4411064432645507e-09\n",
      "118340.0 1.2182866808473428e-10\n",
      "2D gaussian fit not successfull\n",
      "118340.0 0.0\n",
      "118340.0 1.5604061999543474e-08\n",
      "118340.0 4.720873817265611e-09\n",
      "118340.0 9.409622800108839e-10\n",
      "118340.0 4.683914070963596e-09\n",
      "118340.0 2.579798766849813e-10\n",
      "2D gaussian fit not successfull\n",
      "118340.0 0.0\n",
      "118340.0 1.8855002250892826e-08\n",
      "118340.0 3.1320082781250487e-09\n",
      "118340.0 4.843315733985432e-09\n",
      "118340.0 9.57598307965127e-09\n",
      "118340.0 1.6052258192755873e-09\n",
      "118340.0 2.8017774756303735e-09\n",
      "118340.0 1.0400661432648868e-08\n",
      "118340.0 3.8619818704061025e-09\n",
      "118340.0 2.2853395390935196e-09\n",
      "118340.0 5.102900437730637e-09\n",
      "2D gaussian fit not successfull\n",
      "118340.0 0.0\n",
      "118340.0 8.993943419872524e-09\n",
      "118340.0 1.74094666798789e-08\n",
      "118340.0 7.4324248119801955e-09\n",
      "2D gaussian fit not successfull\n",
      "118340.0 0.0\n",
      "118340.0 1.6373368785190564e-08\n",
      "118340.0 3.1226224402302596e-09\n",
      "118340.0 4.801301495156718e-10\n",
      "118340.0 6.740900314643943e-09\n",
      "118340.0 1.682004590472454e-10\n",
      "118340.0 1.256475440270015e-09\n",
      "118340.0 3.186619851994107e-09\n",
      "118340.0 9.61620933092954e-10\n",
      "118340.0 8.862771187247414e-13\n",
      "118340.0 9.63052402605649e-10\n",
      "118340.0 1.4810291797814836e-09\n",
      "118340.0 1.3907339756809994e-09\n",
      "118340.0 8.399767462565855e-10\n",
      "118340.0 9.483978492684953e-09\n",
      "118340.0 9.342601893990669e-09\n",
      "118340.0 7.6523392676954e-09\n",
      "118340.0 2.1394912278854773e-10\n",
      "118340.0 4.8064628488552114e-09\n",
      "118340.0 2.1828090785144046e-10\n",
      "118340.0 6.179110236417769e-09\n",
      "118340.0 7.524138374953143e-09\n",
      "118340.0 3.5570891148152517e-09\n",
      "118340.0 6.434474051689301e-09\n",
      "118340.0 2.909292170927692e-09\n",
      "118340.0 1.990697814741266e-09\n",
      "118340.0 2.563222437571694e-09\n",
      "118340.0 7.491823127598755e-09\n",
      "118340.0 3.1026162410827108e-09\n",
      "118340.0 3.750439213259359e-09\n",
      "118340.0 2.746667878555253e-09\n",
      "118340.0 5.877842199970189e-09\n",
      "118340.0 4.248393753525164e-09\n",
      "118340.0 2.421710954101671e-09\n",
      "118340.0 2.22151761925115e-09\n",
      "118340.0 3.823587029249721e-09\n",
      "118340.0 2.829109709023993e-09\n",
      "118340.0 1.2601083445704824e-09\n",
      "2D gaussian fit not successfull\n",
      "118340.0 0.0\n",
      "118340.0 1.8800729390296828e-09\n",
      "118340.0 1.0177454378910956e-08\n",
      "118340.0 4.641650294944519e-09\n",
      "118340.0 1.3297404620727607e-09\n",
      "118340.0 8.251085936219484e-10\n",
      "118340.0 3.6920609465542994e-10\n",
      "118340.0 2.781620317986362e-09\n",
      "118340.0 3.0749540953932853e-09\n",
      "118340.0 2.9990361764387736e-09\n",
      "118340.0 1.2543951473245954e-13\n",
      "118340.0 5.356254891910348e-09\n",
      "118340.0 1.2872227216084524e-09\n",
      "118340.0 2.398092171766882e-09\n",
      "2D gaussian fit not successfull\n",
      "118340.0 0.0\n",
      "118340.0 1.7943299561763173e-09\n",
      "118340.0 1.6113530260700962e-09\n",
      "118340.0 3.0796521107329415e-09\n",
      "118340.0 1.2363048577941464e-09\n",
      "118340.0 1.1409136823802761e-09\n",
      "118340.0 3.5106256003760534e-10\n",
      "118340.0 4.1771068185621175e-09\n",
      "118340.0 1.0123036982093451e-08\n",
      "118340.0 1.4296016706525391e-09\n",
      "118340.0 7.1470791278601526e-09\n",
      "118340.0 2.2056406627768952e-09\n",
      "118340.0 2.711795384841481e-09\n",
      "118340.0 7.098863921801507e-09\n",
      "118340.0 3.0255814325510914e-09\n",
      "118340.0 2.1220245886868446e-10\n",
      "118340.0 1.742311629152548e-09\n",
      "118340.0 1.7629488735615797e-09\n",
      "118340.0 1.2775600814095766e-08\n",
      "118340.0 2.9038302984674407e-09\n",
      "118340.0 3.43443707455089e-09\n",
      "118340.0 2.1966452949412785e-09\n",
      "118340.0 2.216412856396457e-09\n",
      "118340.0 1.5629099586618705e-09\n",
      "118340.0 2.175600794804218e-09\n",
      "118340.0 6.343688962766791e-10\n",
      "118340.0 6.070498975892236e-09\n"
     ]
    },
    {
     "data": {
      "text/plain": [
       "False"
      ]
     },
     "execution_count": 14,
     "metadata": {},
     "output_type": "execute_result"
    }
   ],
   "source": [
    "do_propi_refocus(setup['poi'])"
   ]
  },
  {
   "cell_type": "code",
   "execution_count": 7,
   "metadata": {
    "collapsed": false
   },
   "outputs": [],
   "source": [
    "def refocus_poi(poi=None, max_drift=0.3,min_counts=setup[\"min_counts\"]):\n",
    "    if poi==None:\n",
    "        return False\n",
    "#     pulsedmasterlogic.load_asset_into_channels('Laser_On')\n",
    "#     while pulsedmasterlogic.status_dict['loading_busy']:\n",
    "#         time.sleep(0.5)\n",
    "#     pulsedmasterlogic.toggle_pulse_generator(False)\n",
    "#     time.sleep(0.5)\n",
    "    # perform refocus\n",
    "    scannerlogic.stop_scanning()\n",
    "    poimanagerlogic.go_to_poi(poi)\n",
    "    pos_start = scannerlogic.get_position()\n",
    "    setup['NV_name']=poimanagerlogic.poi_list[poi]._name\n",
    "    poimanagerlogic.optimise_poi(poi)\n",
    "    while optimizerlogic.module_state() == 'idle':\n",
    "        time.sleep(0.2)\n",
    "    while optimizerlogic.module_state() != 'idle':\n",
    "        time.sleep(0.2)\n",
    "    time.sleep(5)\n",
    "    pos_end=scannerlogic.get_position()\n",
    "    print(counterlogic.countdata.mean(),abs(pos_end[0]-pos_start[0]))\n",
    "    if (abs(pos_end[0]-pos_start[0])>max_drift or abs(pos_end[1]-pos_start[1])>max_drift or \n",
    "       abs(pos_end[2]-pos_start[2])>max_drift or counterlogic.countdata.mean()<min_counts):\n",
    "        scannerlogic.set_position('',x=pos_start[0],y=pos_start[1],z=pos_start[2])\n",
    "        poimanagerlogic.set_new_position(poi,pos_start)\n",
    "        print(abs(pos_end[0]-pos_start[0])>max_drift or abs(pos_end[1]-pos_start[1])>max_drift or \n",
    "       abs(pos_end[2]-pos_start[2])>max_drift or counterlogic.countdata.mean()<min_counts)\n",
    "        return False\n",
    "        write_to_logfile('PositionRefocus_log', str(datetime.datetime.now()),name= setup['NV_name'], \n",
    "                     x_pos=pos_start[0], y_pos=pos_start[1], z_pos=pos_start[2],sucess=0)\n",
    "    write_to_logfile('PositionRefocus_log', str(datetime.datetime.now()),name= setup['NV_name'], \n",
    "                     x_pos=pos_end[0], y_pos=pos_end[1], z_pos=pos_end[2],sucess=1)\n",
    "    return True\n",
    "\n",
    "def do_propi(save_tag='',load_tag=''):\n",
    "    \n",
    "    pulsedmasterlogic.do_fit('No Fit')\n",
    "    m = np.arange(1, propi['M']+1, propi['step_M'])\n",
    "    # set parameters in analysis tab\n",
    "    pulsedmasterlogic.measurement_sequence_settings_changed(m, 2*len(m), 100e-6, [], True)\n",
    "    pulsedmasterlogic.fast_counter_settings_changed(setup['fc_binwidth'], setup['laser_length'], 2*len(m))\n",
    "    pulsedmasterlogic.analysis_interval_changed(3)\n",
    "    pulsedmeasurementlogic.measurement_tag = save_tag\n",
    "    # perform measurement\n",
    "    pulsedmasterlogic.start_measurement(load_tag)\n",
    "    while not pulsedmasterlogic.status_dict['measurement_running']:\n",
    "        time.sleep(0.5)\n",
    "    user_terminated = False\n",
    "    start_time = time.time()\n",
    "    while time.time() - start_time < propi['measurement_time']:\n",
    "        if not pulsedmasterlogic.status_dict['measurement_running']:\n",
    "            user_terminated = True\n",
    "            break\n",
    "        time.sleep(0.5)\n",
    "    pulsedmasterlogic.stop_measurement(save_tag)\n",
    "    while pulsedmasterlogic.status_dict['measurement_running']:\n",
    "        time.sleep(0.5)\n",
    "#     if save_tag=='':\n",
    "#         pulsedmasterlogic.save_measurement_data('s','SpinLocking-'+str(hh_tau['order'])+'_'+setup['NV_name'],True)\n",
    "    time.sleep(2)\n",
    "    return user_terminated\n",
    "\n",
    "def do_propi_refocus(poi):\n",
    "    end_measure=False\n",
    "    #refocus_poi(poi)\n",
    "    propi_total_time = propi['measurement_time']\n",
    "    propi_runtime = 0.0\n",
    "    propi['measurement_time'] = propi['refocus_interval']\n",
    "    end_measure = do_propi('propi', '')\n",
    "    propi_runtime += propi['refocus_interval']\n",
    "    while propi_total_time > propi_runtime:\n",
    "        for i in range(1):\n",
    "            end_measure= not refocus_poi(poi)\n",
    "            if not end_measure:\n",
    "                break\n",
    "        if end_measure:\n",
    "            break\n",
    "        end_measure = do_propi('propi', 'propi')\n",
    "        propi_runtime += propi['refocus_interval']\n",
    "        if end_measure:\n",
    "            break\n",
    "    propi['measurement_time'] = propi_total_time\n",
    "    # save measurement\n",
    "    pulsedmasterlogic.save_measurement_data('s','PROPI'+'_'+'N='+str(propi['N'])+'_' \n",
    "                                            +str(propi['spinlock_amp'])+'_'+setup['NV_name'],True, False)\n",
    "    write_to_logfile('propi_log', str(datetime.datetime.now()),name= setup['NV_name'],runtime=propi_runtime)\n",
    "    time.sleep(2)\n",
    "    return end_measure"
   ]
  },
  {
   "cell_type": "code",
   "execution_count": null,
   "metadata": {
    "collapsed": true
   },
   "outputs": [],
   "source": []
  }
 ],
 "metadata": {
  "kernelspec": {
   "display_name": "Qudi",
   "language": "python",
   "name": "qudi"
  },
  "language_info": {
   "codemirror_mode": {
    "name": "ipython",
    "version": "3.6.0"
   },
   "file_extension": ".py",
   "mimetype": "text/x-python",
   "name": "python",
   "nbconvert_exporter": "python",
   "pygments_lexer": "ipython3",
   "version": "3.6.0"
  }
 },
 "nbformat": 4,
 "nbformat_minor": 2
}
