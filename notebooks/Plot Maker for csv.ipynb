{
 "cells": [
  {
   "cell_type": "code",
   "execution_count": 69,
   "metadata": {},
   "outputs": [],
   "source": [
    "my_file=['G:/Article/pictures/test.csv']"
   ]
  },
  {
   "cell_type": "code",
   "execution_count": 70,
   "metadata": {},
   "outputs": [
    {
     "name": "stdout",
     "output_type": "stream",
     "text": [
      "[ 0.03229381 -0.04831526 -0.07223896  0.11174276  0.04013685  0.02043148\n",
      "  0.04690078  0.05247259 -0.0068176   0.06154354  0.08263829  0.11636714\n",
      "  0.0591907   0.12559006  0.10679737  0.03149505  0.12836991  0.11513109\n",
      "  0.12348582  0.16334898  0.11354625  0.18709251  0.12962067  0.17593357\n",
      "  0.15079595  0.19529655  0.17260787  0.07775655  0.10351953  0.18369126\n",
      "  0.16233032  0.13006776  0.18647502  0.22235404  0.20466805  0.22267814\n",
      "  0.12829841  0.20954005  0.19467167  0.13740532  0.24091832  0.17152472\n",
      "  0.1573357   0.14567995  0.16769565  0.24962076  0.17755739  0.19897959\n",
      "  0.25518762  0.30424246]\n"
     ]
    }
   ],
   "source": [
    "from numpy import genfromtxt\n",
    "my_data = genfromtxt('G:/Article/pictures/test.csv', delimiter=',')\n",
    "print(my_data[1::, 1])\n",
    "        "
   ]
  },
  {
   "cell_type": "code",
   "execution_count": 71,
   "metadata": {},
   "outputs": [
    {
     "data": {
      "text/plain": [
       "'file://C:\\\\Users\\\\pi3\\\\Documents\\\\GitHub\\\\qudi\\\\scatter-mode.html'"
      ]
     },
     "execution_count": 71,
     "metadata": {},
     "output_type": "execute_result"
    }
   ],
   "source": [
    "from plotly import __version__\n",
    "from plotly.offline import init_notebook_mode, plot\n",
    "from plotly.graph_objs import Scatter\n",
    "import plotly.plotly as py\n",
    "from plotly.graph_objs import Surface\n",
    "import plotly.graph_objs as go\n",
    "\n",
    "x_data=my_data[0][1::]\n",
    "y_data=my_data[1::,0]\n",
    "counts = my_data[1::, 1::]\n",
    "\n",
    "data=[]\n",
    "\n",
    "for i in range(len(x_data)):\n",
    "    \n",
    "    trace = go.Scatter3d(\n",
    "        x=x_data[i]*np.ones(len(my_data[1::, 1])),\n",
    "        y=np.append(y_data, y_data[-1]),\n",
    "        z=np.append(counts[0::, i], [0]),\n",
    "        mode='lines',\n",
    "#         surfaceaxis=0,\n",
    "#         surfacecolor='yellow'\n",
    "    )\n",
    "    data.append(trace)    \n",
    "\n",
    "plot(data, filename='scatter-mode')"
   ]
  },
  {
   "cell_type": "code",
   "execution_count": 7,
   "metadata": {},
   "outputs": [
    {
     "name": "stdout",
     "output_type": "stream",
     "text": [
      "[  2.   4.   6.   8.  10.  12.  14.  16.  18.  20.]\n"
     ]
    }
   ],
   "source": [
    "print(x_data)"
   ]
  },
  {
   "cell_type": "code",
   "execution_count": 63,
   "metadata": {},
   "outputs": [
    {
     "name": "stdout",
     "output_type": "stream",
     "text": [
      "[  0.   2.   4.   6.   8.  10.  12.  14.  16.  18.  20.  22.  24.  26.  28.\n",
      "  30.  32.  34.  36.  38.  40.  42.  44.  46.  48.  50.  52.  54.  56.  58.\n",
      "  60.  62.  64.  66.  68.  70.  72.  74.  76.  78.  80.  82.  84.  86.  88.\n",
      "  90.  92.  94.  96.  98.  98.]\n"
     ]
    }
   ],
   "source": [
    "print(np.append(y_data, y_data[-1]))"
   ]
  },
  {
   "cell_type": "code",
   "execution_count": null,
   "metadata": {
    "collapsed": true
   },
   "outputs": [],
   "source": []
  }
 ],
 "metadata": {
  "kernelspec": {
   "display_name": "Qudi",
   "language": "python",
   "name": "qudi"
  },
  "language_info": {
   "codemirror_mode": {
    "name": "ipython",
    "version": "3.6.5"
   },
   "file_extension": ".py",
   "mimetype": "text/x-python",
   "name": "python",
   "nbconvert_exporter": "python",
   "pygments_lexer": "ipython3",
   "version": "3.6.5"
  }
 },
 "nbformat": 4,
 "nbformat_minor": 2
}
