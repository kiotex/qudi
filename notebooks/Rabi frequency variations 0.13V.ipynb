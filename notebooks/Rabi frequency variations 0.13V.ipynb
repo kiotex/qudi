{
 "cells": [
  {
   "cell_type": "code",
   "execution_count": 16,
   "metadata": {
    "collapsed": false
   },
   "outputs": [
    {
     "data": {
      "text/plain": [
       "'G:/data/QudiData/2018/01/20180112/PulsedMeasurement/20180112-1831-17_NV3_Rabi_NV3_0.13V_every_sweep.dat'"
      ]
     },
     "execution_count": 16,
     "metadata": {},
     "output_type": "execute_result"
    }
   ],
   "source": [
    "my_files=['G:/data/QudiData/2018/01/20180112/PulsedMeasurement/20180112-1828-57_NV3_Rabi_NV3_0.13V_every_sweep.dat',\n",
    "         'G:/data/QudiData/2018/01/20180112/PulsedMeasurement/20180112-1831-17_NV3_Rabi_NV3_0.13V_every_sweep.dat',\n",
    "         'G:/data/QudiData/2018/01/20180112/PulsedMeasurement/20180112-1833-44_NV3_Rabi_NV3_0.13V_every_sweep.dat',\n",
    "         'G:/data/QudiData/2018/01/20180112/PulsedMeasurement/20180112-1836-10_NV3_Rabi_NV3_0.13V_every_sweep.dat',\n",
    "         'G:/data/QudiData/2018/01/20180112/PulsedMeasurement/20180112-1838-36_NV3_Rabi_NV3_0.13V_every_sweep.dat',\n",
    "         'G:/data/QudiData/2018/01/20180112/PulsedMeasurement/20180112-1840-58_NV3_Rabi_NV3_0.13V_every_sweep.dat',\n",
    "         'G:/data/QudiData/2018/01/20180112/PulsedMeasurement/20180112-1843-20_NV3_Rabi_NV3_0.13V_every_sweep.dat',\n",
    "         'G:/data/QudiData/2018/01/20180112/PulsedMeasurement/20180112-1845-43_NV3_Rabi_NV3_0.13V_every_sweep.dat',\n",
    "         'G:/data/QudiData/2018/01/20180112/PulsedMeasurement/20180112-1848-08_NV3_Rabi_NV3_0.13V_every_sweep.dat',\n",
    "         'G:/data/QudiData/2018/01/20180112/PulsedMeasurement/20180112-1850-32_NV3_Rabi_NV3_0.13V_every_sweep.dat',\n",
    "         'G:/data/QudiData/2018/01/20180112/PulsedMeasurement/20180112-1852-55_NV3_Rabi_NV3_0.13V_every_sweep.dat',\n",
    "         'G:/data/QudiData/2018/01/20180112/PulsedMeasurement/20180112-1855-19_NV3_Rabi_NV3_0.13V_every_sweep.dat',\n",
    "         'G:/data/QudiData/2018/01/20180112/PulsedMeasurement/20180112-1857-43_NV3_Rabi_NV3_0.13V_every_sweep.dat',\n",
    "         'G:/data/QudiData/2018/01/20180112/PulsedMeasurement/20180112-1900-07_NV3_Rabi_NV3_0.13V_every_sweep.dat',\n",
    "         'G:/data/QudiData/2018/01/20180112/PulsedMeasurement/20180112-1902-29_NV3_Rabi_NV3_0.13V_every_sweep.dat',\n",
    "         'G:/data/QudiData/2018/01/20180112/PulsedMeasurement/20180112-1904-53_NV3_Rabi_NV3_0.13V_every_sweep.dat',\n",
    "         'G:/data/QudiData/2018/01/20180112/PulsedMeasurement/20180112-1907-13_NV3_Rabi_NV3_0.13V_every_sweep.dat',\n",
    "         'G:/data/QudiData/2018/01/20180112/PulsedMeasurement/20180112-1909-39_NV3_Rabi_NV3_0.13V_every_sweep.dat',\n",
    "         'G:/data/QudiData/2018/01/20180112/PulsedMeasurement/20180112-1912-00_NV3_Rabi_NV3_0.13V_every_sweep.dat',\n",
    "         'G:/data/QudiData/2018/01/20180112/PulsedMeasurement/20180112-1914-25_NV3_Rabi_NV3_0.13V_every_sweep.dat',\n",
    "         'G:/data/QudiData/2018/01/20180112/PulsedMeasurement/20180112-1916-46_NV3_Rabi_NV3_0.13V_every_sweep.dat',\n",
    "         'G:/data/QudiData/2018/01/20180112/PulsedMeasurement/20180112-1919-10_NV3_Rabi_NV3_0.13V_every_sweep.dat',\n",
    "         'G:/data/QudiData/2018/01/20180112/PulsedMeasurement/20180112-1921-36_NV3_Rabi_NV3_0.13V_every_sweep.dat',\n",
    "         'G:/data/QudiData/2018/01/20180112/PulsedMeasurement/20180112-1923-55_NV3_Rabi_NV3_0.13V_every_sweep.dat',\n",
    "         'G:/data/QudiData/2018/01/20180112/PulsedMeasurement/20180112-1926-19_NV3_Rabi_NV3_0.13V_every_sweep.dat',\n",
    "         'G:/data/QudiData/2018/01/20180112/PulsedMeasurement/20180112-1928-43_NV3_Rabi_NV3_0.13V_every_sweep.dat',\n",
    "         'G:/data/QudiData/2018/01/20180112/PulsedMeasurement/20180112-1931-06_NV3_Rabi_NV3_0.13V_every_sweep.dat',\n",
    "         'G:/data/QudiData/2018/01/20180112/PulsedMeasurement/20180112-1933-26_NV3_Rabi_NV3_0.13V_every_sweep.dat',\n",
    "         'G:/data/QudiData/2018/01/20180112/PulsedMeasurement/20180112-1935-49_NV3_Rabi_NV3_0.13V_every_sweep.dat',\n",
    "         'G:/data/QudiData/2018/01/20180112/PulsedMeasurement/20180112-1938-11_NV3_Rabi_NV3_0.13V_every_sweep.dat',\n",
    "         'G:/data/QudiData/2018/01/20180112/PulsedMeasurement/20180112-1940-34_NV3_Rabi_NV3_0.13V_every_sweep.dat',\n",
    "         'G:/data/QudiData/2018/01/20180112/PulsedMeasurement/20180112-1942-55_NV3_Rabi_NV3_0.13V_every_sweep.dat',\n",
    "         'G:/data/QudiData/2018/01/20180112/PulsedMeasurement/20180112-1945-19_NV3_Rabi_NV3_0.13V_every_sweep.dat',\n",
    "         'G:/data/QudiData/2018/01/20180112/PulsedMeasurement/20180112-1947-41_NV3_Rabi_NV3_0.13V_every_sweep.dat',\n",
    "         'G:/data/QudiData/2018/01/20180112/PulsedMeasurement/20180112-1950-02_NV3_Rabi_NV3_0.13V_every_sweep.dat',\n",
    "         'G:/data/QudiData/2018/01/20180112/PulsedMeasurement/20180112-1952-26_NV3_Rabi_NV3_0.13V_every_sweep.dat',\n",
    "         'G:/data/QudiData/2018/01/20180112/PulsedMeasurement/20180112-1954-51_NV3_Rabi_NV3_0.13V_every_sweep.dat',\n",
    "         'G:/data/QudiData/2018/01/20180112/PulsedMeasurement/20180112-1957-12_NV3_Rabi_NV3_0.13V_every_sweep.dat',\n",
    "         'G:/data/QudiData/2018/01/20180112/PulsedMeasurement/20180112-1959-34_NV3_Rabi_NV3_0.13V_every_sweep.dat',\n",
    "         'G:/data/QudiData/2018/01/20180112/PulsedMeasurement/20180112-2002-00_NV3_Rabi_NV3_0.13V_every_sweep.dat',\n",
    "         'G:/data/QudiData/2018/01/20180112/PulsedMeasurement/20180112-2004-22_NV3_Rabi_NV3_0.13V_every_sweep.dat',\n",
    "         'G:/data/QudiData/2018/01/20180112/PulsedMeasurement/20180112-2006-44_NV3_Rabi_NV3_0.13V_every_sweep.dat',\n",
    "         'G:/data/QudiData/2018/01/20180112/PulsedMeasurement/20180112-2009-07_NV3_Rabi_NV3_0.13V_every_sweep.dat',\n",
    "         'G:/data/QudiData/2018/01/20180112/PulsedMeasurement/20180112-2011-30_NV3_Rabi_NV3_0.13V_every_sweep.dat',\n",
    "         'G:/data/QudiData/2018/01/20180112/PulsedMeasurement/20180112-2013-54_NV3_Rabi_NV3_0.13V_every_sweep.dat',\n",
    "         'G:/data/QudiData/2018/01/20180112/PulsedMeasurement/20180112-2016-16_NV3_Rabi_NV3_0.13V_every_sweep.dat',\n",
    "         'G:/data/QudiData/2018/01/20180112/PulsedMeasurement/20180112-2018-39_NV3_Rabi_NV3_0.13V_every_sweep.dat',\n",
    "         'G:/data/QudiData/2018/01/20180112/PulsedMeasurement/20180112-2021-01_NV3_Rabi_NV3_0.13V_every_sweep.dat',\n",
    "         'G:/data/QudiData/2018/01/20180112/PulsedMeasurement/20180112-2023-23_NV3_Rabi_NV3_0.13V_every_sweep.dat',\n",
    "         'G:/data/QudiData/2018/01/20180112/PulsedMeasurement/20180112-2025-46_NV3_Rabi_NV3_0.13V_every_sweep.dat',\n",
    "         'G:/data/QudiData/2018/01/20180112/PulsedMeasurement/20180112-2028-09_NV3_Rabi_NV3_0.13V_every_sweep.dat',\n",
    "         'G:/data/QudiData/2018/01/20180112/PulsedMeasurement/20180112-2030-30_NV3_Rabi_NV3_0.13V_every_sweep.dat',\n",
    "         'G:/data/QudiData/2018/01/20180112/PulsedMeasurement/20180112-2032-55_NV3_Rabi_NV3_0.13V_every_sweep.dat',\n",
    "         'G:/data/QudiData/2018/01/20180112/PulsedMeasurement/20180112-2035-16_NV3_Rabi_NV3_0.13V_every_sweep.dat',\n",
    "         'G:/data/QudiData/2018/01/20180112/PulsedMeasurement/20180112-2037-41_NV3_Rabi_NV3_0.13V_every_sweep.dat',\n",
    "         'G:/data/QudiData/2018/01/20180112/PulsedMeasurement/20180112-2040-03_NV3_Rabi_NV3_0.13V_every_sweep.dat',\n",
    "         'G:/data/QudiData/2018/01/20180112/PulsedMeasurement/20180112-2042-27_NV3_Rabi_NV3_0.13V_every_sweep.dat',\n",
    "         'G:/data/QudiData/2018/01/20180112/PulsedMeasurement/20180112-2044-53_NV3_Rabi_NV3_0.13V_every_sweep.dat',\n",
    "         'G:/data/QudiData/2018/01/20180112/PulsedMeasurement/20180112-2047-16_NV3_Rabi_NV3_0.13V_every_sweep.dat',\n",
    "         'G:/data/QudiData/2018/01/20180112/PulsedMeasurement/20180112-2049-39_NV3_Rabi_NV3_0.13V_every_sweep.dat']\n",
    "len(my_files)\n",
    "my_files[1]"
   ]
  },
  {
   "cell_type": "markdown",
   "metadata": {},
   "source": [
    "Combine all the measurements into one array sorted ascending - b"
   ]
  },
  {
   "cell_type": "code",
   "execution_count": 17,
   "metadata": {
    "collapsed": false
   },
   "outputs": [
    {
     "data": {
      "text/plain": [
       "array([ 20.97500038,  21.13999939,  22.07999992,  22.05999947,\n",
       "        21.17499924,  21.45499992,  21.02499962,  20.87000084,\n",
       "        19.95999908,  19.17000008,  18.67499924,  18.59000015,\n",
       "        18.07999992,  17.98500061,  17.74500084,  18.06500053,\n",
       "        18.28000069,  19.09000015,  19.20000076,  19.97500038,\n",
       "        20.47500038,  20.89500046,  21.25      ,  21.44499969,\n",
       "        21.97999954,  22.12999916,  21.67000008,  21.34499931,\n",
       "        21.27000046,  20.13999939,  20.52499962,  18.78499985,\n",
       "        18.19000053,  18.01499939,  18.38999939,  18.34499931,\n",
       "        18.68000031,  18.64500046,  19.48999977,  19.67000008,\n",
       "        20.59000015,  20.75499916,  21.35499954,  20.97500038,\n",
       "        21.40500069,  20.79500008,  20.87999916,  21.22999954,\n",
       "        20.36000061,  19.89500046,  19.49500084,  19.12000084,\n",
       "        19.36499977,  18.26499939,  18.42499924,  18.20000076,\n",
       "        18.57500076,  18.46999931,  19.78000069,  19.90500069,\n",
       "        20.36000061,  21.18000031,  20.69499969,  21.25      ,\n",
       "        20.95000076,  20.68000031,  20.60499954,  20.21999931,\n",
       "        19.57999992,  19.20999908,  18.75499916,  18.99500084,\n",
       "        18.68499947,  18.37000084,  18.29000092,  18.43499947,\n",
       "        18.63500023,  19.83499908,  19.78499985,  20.09499931,\n",
       "        19.94499969,  20.55999947,  21.20000076,  20.84499931,\n",
       "        20.90999985,  20.95000076,  20.97500038,  19.875     ,\n",
       "        20.28499985,  19.88999939,  19.75499916,  19.06500053,\n",
       "        18.65500069,  19.13500023,  18.85000038,  19.14500046,\n",
       "        18.46999931,  18.98999977,  19.17000008,  19.44000053,\n",
       "        20.19499969,  20.53499985,  19.69499969,  20.43000031,\n",
       "        20.74500084,  21.37000084,  20.79999924,  20.40999985,\n",
       "        20.28000069,  19.79999924,  19.87999916,  19.79999924,\n",
       "        19.78000069,  19.02499962,  19.00499916,  19.10000038,\n",
       "        19.27499962,  19.26499939,  19.63500023,  19.37000084])"
      ]
     },
     "execution_count": 17,
     "metadata": {},
     "output_type": "execute_result"
    }
   ],
   "source": [
    "import numpy as np\n",
    "num_of_points = 120\n",
    "b=np.zeros(num_of_points)\n",
    "\n",
    "for i in range(len(my_files)):\n",
    "    myfile=my_files[i]\n",
    "    f = open(myfile, 'r')\n",
    "    lines = f.readlines()\n",
    "    result = []\n",
    "    for x in lines:\n",
    "        result.append(x.split('#')[0])\n",
    "    f.close()\n",
    "    a = [x for x in result if x != '']\n",
    "    \n",
    "    for j in range(len(a)-1):\n",
    "        j=j+1 \n",
    "        b1 = np.asarray(a[j].split(), dtype=np.float32)\n",
    "        b = np.vstack((b, b1))\n",
    "b[120]"
   ]
  },
  {
   "cell_type": "markdown",
   "metadata": {},
   "source": [
    "Make an array of data aqcuired within 1 second, len must be 120*60=7200 seconds"
   ]
  },
  {
   "cell_type": "code",
   "execution_count": 18,
   "metadata": {
    "collapsed": false,
    "scrolled": true
   },
   "outputs": [
    {
     "data": {
      "text/plain": [
       "7217"
      ]
     },
     "execution_count": 18,
     "metadata": {},
     "output_type": "execute_result"
    }
   ],
   "source": [
    "c=b[1]\n",
    "for i in range(len(b)-1):\n",
    "    i=i+1\n",
    "    c=np.vstack((c, b[i]-b[i-1]))\n",
    "len(c)    "
   ]
  },
  {
   "cell_type": "code",
   "execution_count": 19,
   "metadata": {
    "collapsed": true
   },
   "outputs": [],
   "source": [
    "np.savetxt('G:/data/QudiData/2018/01/20180112/PulsedMeasurement/raw_data.txt', c, delimiter=',')"
   ]
  },
  {
   "cell_type": "markdown",
   "metadata": {},
   "source": [
    "Make another array - sum of every 40 lines"
   ]
  },
  {
   "cell_type": "code",
   "execution_count": 20,
   "metadata": {
    "collapsed": false
   },
   "outputs": [
    {
     "data": {
      "text/plain": [
       "7178"
      ]
     },
     "execution_count": 20,
     "metadata": {},
     "output_type": "execute_result"
    }
   ],
   "source": [
    "\n",
    "data=np.zeros(num_of_points)\n",
    "\n",
    "for i in range(len(c)-40):\n",
    "    i=i+1\n",
    "    summ=np.zeros(num_of_points)\n",
    "    for j in range(40):\n",
    "        summ=summ+c[i+j]\n",
    "    data=np.vstack((data, summ))\n",
    "len(data)"
   ]
  },
  {
   "cell_type": "markdown",
   "metadata": {},
   "source": [
    "Now data array is ready to fit"
   ]
  },
  {
   "cell_type": "code",
   "execution_count": 21,
   "metadata": {
    "collapsed": true
   },
   "outputs": [],
   "source": [
    "import numpy, scipy.optimize\n",
    "\n",
    "def fit_sin(tt, yy):\n",
    "    '''Fit sin to the input time sequence, and return fitting parameters \"amp\", \"omega\", \"phase\", \"offset\", \"freq\", \"period\" and \"fitfunc\"'''\n",
    "    tt = numpy.array(tt)\n",
    "    yy = numpy.array(yy)\n",
    "    ff = numpy.fft.fftfreq(len(tt), (tt[1]-tt[0]))   # assume uniform spacing\n",
    "    Fyy = abs(numpy.fft.fft(yy))\n",
    "    guess_freq = abs(ff[numpy.argmax(Fyy[1:])+1])   # excluding the zero frequency \"peak\", which is related to offset\n",
    "    guess_amp = numpy.std(yy) * 2.**0.5\n",
    "    guess_offset = numpy.mean(yy)\n",
    "    guess = numpy.array([guess_amp, 2.*numpy.pi*guess_freq, 0., guess_offset])\n",
    "\n",
    "    def sinfunc(t, A, w, p, c):  return A * numpy.sin(w*t + p) + c\n",
    "    popt, pcov = scipy.optimize.curve_fit(sinfunc, tt, yy, p0=guess)\n",
    "    A, w, p, c = popt\n",
    "    f = w/(2.*numpy.pi)\n",
    "    fitfunc = lambda t: A * numpy.sin(w*t + p) + c\n",
    "    return {\"amp\": A, \"omega\": w, \"phase\": p, \"offset\": c, \"freq\": f, \"period\": 1./f, \"fitfunc\": fitfunc, \"maxcov\": numpy.max(pcov), \"rawres\": (guess,popt,pcov)}"
   ]
  },
  {
   "cell_type": "code",
   "execution_count": 22,
   "metadata": {
    "collapsed": false
   },
   "outputs": [
    {
     "name": "stdout",
     "output_type": "stream",
     "text": [
      "Amplitude=0.226902044861, freq.=1703646.06549, phase=-1.12707054574, offset=6.90831139719, period=5.8697637981e-07\n",
      "5.8697637981e-07\n"
     ]
    }
   ],
   "source": [
    "tau_arr = np.arange(120) * 20.0e-9+300e-9\n",
    "\n",
    "res = fit_sin(tau_arr, data[675])\n",
    "print( \"Amplitude=%(amp)s, freq.=%(freq)s, phase=%(phase)s, offset=%(offset)s, period=%(period)s\" % res )\n",
    "print(res['period'])"
   ]
  },
  {
   "cell_type": "code",
   "execution_count": 23,
   "metadata": {
    "collapsed": false,
    "scrolled": true
   },
   "outputs": [
    {
     "data": {
      "text/plain": [
       "array([ 6.79500008,  7.38000011,  7.23000002,  7.48000002,  7.07499981,\n",
       "        7.30999994,  7.09499979,  7.26499987,  6.71000004,  6.64499998,\n",
       "        6.1500001 ,  6.44000006,  6.03000021,  6.1500001 ,  5.96500015,\n",
       "        6.08500004,  5.96999979,  6.1500001 ,  6.42500019,  6.71999979,\n",
       "        6.78999996,  7.09000015,  7.21999979,  7.32499981,  7.45499992,\n",
       "        7.55999994,  7.35500002,  7.05999994,  7.2750001 ,  6.86999989,\n",
       "        6.84000015,  6.32499981,  6.23000002,  6.36999989,  6.17000008,\n",
       "        6.03499985,  5.83500004,  6.2249999 ,  6.64499998,  6.48999977,\n",
       "        7.01000023,  7.19500017,  7.32499981,  7.35500002,  7.4000001 ,\n",
       "        7.03499985,  7.28999996,  7.25      ,  7.03499985,  6.6500001 ,\n",
       "        6.53499985,  6.31500006,  6.34000015,  6.01499987,  6.39499998,\n",
       "        5.94999981,  6.15999985,  6.19999981,  6.45499992,  6.86499977,\n",
       "        7.01000023,  7.13999987,  7.05999994,  7.20499992,  7.07499981,\n",
       "        7.05999994,  6.7750001 ,  6.65999985,  6.46500015,  6.51999998,\n",
       "        6.18499994,  6.51000023,  6.15500021,  6.17000008,  6.05999994,\n",
       "        6.19000006,  6.25      ,  6.29500008,  6.7249999 ,  7.01499987,\n",
       "        6.8499999 ,  6.88000011,  7.17500019,  6.79500008,  7.11000013,\n",
       "        6.90500021,  6.98999977,  6.78000021,  6.71500015,  6.71000004,\n",
       "        6.50500011,  6.44500017,  6.07000017,  6.34499979,  6.17999983,\n",
       "        6.45499992,  6.        ,  6.21999979,  6.30000019,  6.44999981,\n",
       "        6.63000011,  6.85500002,  6.56500006,  6.63999987,  7.13500023,\n",
       "        7.48000002,  6.90999985,  6.59000015,  6.74499989,  6.59000015,\n",
       "        6.625     ,  6.55999994,  6.48999977,  6.23000002,  6.2750001 ,\n",
       "        6.6500001 ,  6.46000004,  6.31500006,  6.41499996,  6.56500006])"
      ]
     },
     "execution_count": 23,
     "metadata": {},
     "output_type": "execute_result"
    }
   ],
   "source": [
    "data[1]"
   ]
  },
  {
   "cell_type": "code",
   "execution_count": 24,
   "metadata": {
    "collapsed": false,
    "scrolled": true
   },
   "outputs": [
    {
     "name": "stdout",
     "output_type": "stream",
     "text": [
      "plotly version: 2.2.3\n"
     ]
    },
    {
     "data": {
      "text/plain": [
       "'file://C:\\\\Users\\\\pi3\\\\Documents\\\\GitHub\\\\qudi\\\\scatter-mode.html'"
      ]
     },
     "execution_count": 24,
     "metadata": {},
     "output_type": "execute_result"
    }
   ],
   "source": [
    "from plotly import __version__\n",
    "from plotly.offline import init_notebook_mode, iplot\n",
    "from plotly.graph_objs import Scatter\n",
    "\n",
    "init_notebook_mode()\n",
    "\n",
    "print(\"plotly version:\", __version__)\n",
    "\n",
    "trace1 = Scatter(\n",
    "    x = tau_arr,\n",
    "    y = data[675],\n",
    "    mode = 'lines+markers',\n",
    "    name = 'lines+markers'\n",
    ")\n",
    "trace2 = Scatter(\n",
    "    x = tau_arr,\n",
    "    y = res[\"fitfunc\"](tau_arr),\n",
    "    mode = 'lines',\n",
    "    name = 'lines'\n",
    ")\n",
    "\n",
    "plot_data = [trace1, trace2]\n",
    "plot(plot_data, filename='scatter-mode')"
   ]
  },
  {
   "cell_type": "code",
   "execution_count": 25,
   "metadata": {
    "collapsed": false
   },
   "outputs": [
    {
     "data": {
      "text/plain": [
       "'file://C:\\\\Users\\\\pi3\\\\Documents\\\\GitHub\\\\qudi\\\\scatter-mode.html'"
      ]
     },
     "execution_count": 25,
     "metadata": {},
     "output_type": "execute_result"
    }
   ],
   "source": [
    "tau_arr = np.arange(120) * 20.0e-9+300e-9\n",
    "\n",
    "# len(data)\n",
    "period=np.zeros(1200-1)\n",
    "\n",
    "for i in range(1200-1):\n",
    "    try:\n",
    "        res = fit_sin(tau_arr, data[i+1])\n",
    "        if res['freq']<5000000:\n",
    "            period[i]=res['freq']\n",
    "        else:\n",
    "            period[i]=period[i-1]\n",
    "    except RuntimeError:\n",
    "        period[i]=period[i-1]\n",
    "    \n",
    "from plotly import __version__\n",
    "from plotly.offline import init_notebook_mode, iplot\n",
    "from plotly.graph_objs import Scatter\n",
    "\n",
    "init_notebook_mode()\n",
    "\n",
    "trace = Scatter(\n",
    "    x = np.arange(len(period)),\n",
    "    y = period,\n",
    "    mode = 'lines+markers',\n",
    "    name = 'lines+markers'\n",
    ")\n",
    "trace0 = Scatter(\n",
    "    x = np.arange(len(period)),\n",
    "    y = np.mean(period[0:1199])*np.ones(1199),\n",
    "    mode = 'lines+markers',\n",
    "    name = 'lines+markers'\n",
    ")\n",
    "\n",
    "plot_data = [trace, trace0]\n",
    "plot(plot_data, filename='scatter-mode')\n",
    "    "
   ]
  },
  {
   "cell_type": "code",
   "execution_count": 26,
   "metadata": {
    "collapsed": false,
    "scrolled": true
   },
   "outputs": [
    {
     "name": "stdout",
     "output_type": "stream",
     "text": [
      "2414145.93728\n",
      "!\n",
      "331043.64744\n"
     ]
    }
   ],
   "source": [
    "print(np.mean(period[0:1199]))\n",
    "print('!')\n",
    "print(np.std(period[0:1199]))"
   ]
  },
  {
   "cell_type": "code",
   "execution_count": 27,
   "metadata": {
    "collapsed": false
   },
   "outputs": [
    {
     "data": {
      "text/plain": [
       "0.137126609592204"
      ]
     },
     "execution_count": 27,
     "metadata": {},
     "output_type": "execute_result"
    }
   ],
   "source": [
    "331043.64744/2414145.93728"
   ]
  },
  {
   "cell_type": "code",
   "execution_count": null,
   "metadata": {
    "collapsed": true
   },
   "outputs": [],
   "source": []
  }
 ],
 "metadata": {
  "kernelspec": {
   "display_name": "Qudi",
   "language": "python",
   "name": "qudi"
  },
  "language_info": {
   "codemirror_mode": {
    "name": "ipython",
    "version": "3.6.0"
   },
   "file_extension": ".py",
   "mimetype": "text/x-python",
   "name": "python",
   "nbconvert_exporter": "python",
   "pygments_lexer": "ipython3",
   "version": "3.6.0"
  }
 },
 "nbformat": 4,
 "nbformat_minor": 2
}
