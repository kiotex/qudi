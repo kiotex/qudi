{
 "cells": [
  {
   "cell_type": "code",
   "execution_count": 18,
   "metadata": {
    "collapsed": false
   },
   "outputs": [
    {
     "data": {
      "text/plain": [
       "'G:/data/QudiData/2018/01/20180112/PulsedMeasurement/20180112-1548-16_NV2_Rabi_NV2_0.25V_every_sweep.dat'"
      ]
     },
     "execution_count": 18,
     "metadata": {},
     "output_type": "execute_result"
    }
   ],
   "source": [
    "my_files=['G:/data/QudiData/2018/01/20180112/PulsedMeasurement/20180112-1545-54_NV2_Rabi_NV2_0.25V_every_sweep.dat',\n",
    "         'G:/data/QudiData/2018/01/20180112/PulsedMeasurement/20180112-1548-16_NV2_Rabi_NV2_0.25V_every_sweep.dat',\n",
    "         'G:/data/QudiData/2018/01/20180112/PulsedMeasurement/20180112-1550-40_NV2_Rabi_NV2_0.25V_every_sweep.dat',\n",
    "         'G:/data/QudiData/2018/01/20180112/PulsedMeasurement/20180112-1553-02_NV2_Rabi_NV2_0.25V_every_sweep.dat',\n",
    "         'G:/data/QudiData/2018/01/20180112/PulsedMeasurement/20180112-1555-24_NV2_Rabi_NV2_0.25V_every_sweep.dat',\n",
    "         'G:/data/QudiData/2018/01/20180112/PulsedMeasurement/20180112-1557-48_NV2_Rabi_NV2_0.25V_every_sweep.dat',\n",
    "         'G:/data/QudiData/2018/01/20180112/PulsedMeasurement/20180112-1600-10_NV2_Rabi_NV2_0.25V_every_sweep.dat',\n",
    "         'G:/data/QudiData/2018/01/20180112/PulsedMeasurement/20180112-1602-33_NV2_Rabi_NV2_0.25V_every_sweep.dat',\n",
    "         'G:/data/QudiData/2018/01/20180112/PulsedMeasurement/20180112-1604-58_NV2_Rabi_NV2_0.25V_every_sweep.dat',\n",
    "         'G:/data/QudiData/2018/01/20180112/PulsedMeasurement/20180112-1607-20_NV2_Rabi_NV2_0.25V_every_sweep.dat',\n",
    "         'G:/data/QudiData/2018/01/20180112/PulsedMeasurement/20180112-1609-47_NV2_Rabi_NV2_0.25V_every_sweep.dat',\n",
    "         'G:/data/QudiData/2018/01/20180112/PulsedMeasurement/20180112-1612-12_NV2_Rabi_NV2_0.25V_every_sweep.dat',\n",
    "         'G:/data/QudiData/2018/01/20180112/PulsedMeasurement/20180112-1614-35_NV2_Rabi_NV2_0.25V_every_sweep.dat',\n",
    "         'G:/data/QudiData/2018/01/20180112/PulsedMeasurement/20180112-1617-00_NV2_Rabi_NV2_0.25V_every_sweep.dat',\n",
    "         'G:/data/QudiData/2018/01/20180112/PulsedMeasurement/20180112-1619-23_NV2_Rabi_NV2_0.25V_every_sweep.dat',\n",
    "         'G:/data/QudiData/2018/01/20180112/PulsedMeasurement/20180112-1621-48_NV2_Rabi_NV2_0.25V_every_sweep.dat',\n",
    "         'G:/data/QudiData/2018/01/20180112/PulsedMeasurement/20180112-1624-12_NV2_Rabi_NV2_0.25V_every_sweep.dat',\n",
    "         'G:/data/QudiData/2018/01/20180112/PulsedMeasurement/20180112-1626-37_NV2_Rabi_NV2_0.25V_every_sweep.dat',\n",
    "         'G:/data/QudiData/2018/01/20180112/PulsedMeasurement/20180112-1628-59_NV2_Rabi_NV2_0.25V_every_sweep.dat',\n",
    "         'G:/data/QudiData/2018/01/20180112/PulsedMeasurement/20180112-1631-21_NV2_Rabi_NV2_0.25V_every_sweep.dat',\n",
    "         'G:/data/QudiData/2018/01/20180112/PulsedMeasurement/20180112-1633-42_NV2_Rabi_NV2_0.25V_every_sweep.dat',\n",
    "         'G:/data/QudiData/2018/01/20180112/PulsedMeasurement/20180112-1636-07_NV2_Rabi_NV2_0.25V_every_sweep.dat',\n",
    "         'G:/data/QudiData/2018/01/20180112/PulsedMeasurement/20180112-1638-31_NV2_Rabi_NV2_0.25V_every_sweep.dat',\n",
    "         'G:/data/QudiData/2018/01/20180112/PulsedMeasurement/20180112-1640-57_NV2_Rabi_NV2_0.25V_every_sweep.dat',\n",
    "         'G:/data/QudiData/2018/01/20180112/PulsedMeasurement/20180112-1643-20_NV2_Rabi_NV2_0.25V_every_sweep.dat',\n",
    "         'G:/data/QudiData/2018/01/20180112/PulsedMeasurement/20180112-1645-40_NV2_Rabi_NV2_0.25V_every_sweep.dat',\n",
    "         'G:/data/QudiData/2018/01/20180112/PulsedMeasurement/20180112-1648-02_NV2_Rabi_NV2_0.25V_every_sweep.dat',\n",
    "         'G:/data/QudiData/2018/01/20180112/PulsedMeasurement/20180112-1650-24_NV2_Rabi_NV2_0.25V_every_sweep.dat',\n",
    "         'G:/data/QudiData/2018/01/20180112/PulsedMeasurement/20180112-1652-46_NV2_Rabi_NV2_0.25V_every_sweep.dat',\n",
    "         'G:/data/QudiData/2018/01/20180112/PulsedMeasurement/20180112-1655-08_NV2_Rabi_NV2_0.25V_every_sweep.dat',\n",
    "         'G:/data/QudiData/2018/01/20180112/PulsedMeasurement/20180112-1657-32_NV2_Rabi_NV2_0.25V_every_sweep.dat',\n",
    "         'G:/data/QudiData/2018/01/20180112/PulsedMeasurement/20180112-1659-57_NV2_Rabi_NV2_0.25V_every_sweep.dat',\n",
    "         'G:/data/QudiData/2018/01/20180112/PulsedMeasurement/20180112-1702-19_NV2_Rabi_NV2_0.25V_every_sweep.dat',\n",
    "         'G:/data/QudiData/2018/01/20180112/PulsedMeasurement/20180112-1704-41_NV2_Rabi_NV2_0.25V_every_sweep.dat',\n",
    "         'G:/data/QudiData/2018/01/20180112/PulsedMeasurement/20180112-1707-08_NV2_Rabi_NV2_0.25V_every_sweep.dat',\n",
    "         'G:/data/QudiData/2018/01/20180112/PulsedMeasurement/20180112-1709-34_NV2_Rabi_NV2_0.25V_every_sweep.dat',\n",
    "         'G:/data/QudiData/2018/01/20180112/PulsedMeasurement/20180112-1711-59_NV2_Rabi_NV2_0.25V_every_sweep.dat',\n",
    "         'G:/data/QudiData/2018/01/20180112/PulsedMeasurement/20180112-1714-21_NV2_Rabi_NV2_0.25V_every_sweep.dat',\n",
    "         'G:/data/QudiData/2018/01/20180112/PulsedMeasurement/20180112-1716-44_NV2_Rabi_NV2_0.25V_every_sweep.dat',\n",
    "         'G:/data/QudiData/2018/01/20180112/PulsedMeasurement/20180112-1719-08_NV2_Rabi_NV2_0.25V_every_sweep.dat',\n",
    "         'G:/data/QudiData/2018/01/20180112/PulsedMeasurement/20180112-1721-35_NV2_Rabi_NV2_0.25V_every_sweep.dat',\n",
    "         'G:/data/QudiData/2018/01/20180112/PulsedMeasurement/20180112-1724-01_NV2_Rabi_NV2_0.25V_every_sweep.dat',\n",
    "         'G:/data/QudiData/2018/01/20180112/PulsedMeasurement/20180112-1726-26_NV2_Rabi_NV2_0.25V_every_sweep.dat',\n",
    "         'G:/data/QudiData/2018/01/20180112/PulsedMeasurement/20180112-1728-47_NV2_Rabi_NV2_0.25V_every_sweep.dat',\n",
    "         'G:/data/QudiData/2018/01/20180112/PulsedMeasurement/20180112-1731-11_NV2_Rabi_NV2_0.25V_every_sweep.dat',\n",
    "         'G:/data/QudiData/2018/01/20180112/PulsedMeasurement/20180112-1733-31_NV2_Rabi_NV2_0.25V_every_sweep.dat',\n",
    "         'G:/data/QudiData/2018/01/20180112/PulsedMeasurement/20180112-1735-55_NV2_Rabi_NV2_0.25V_every_sweep.dat',\n",
    "         'G:/data/QudiData/2018/01/20180112/PulsedMeasurement/20180112-1738-20_NV2_Rabi_NV2_0.25V_every_sweep.dat',\n",
    "         'G:/data/QudiData/2018/01/20180112/PulsedMeasurement/20180112-1740-42_NV2_Rabi_NV2_0.25V_every_sweep.dat',\n",
    "         'G:/data/QudiData/2018/01/20180112/PulsedMeasurement/20180112-1743-06_NV2_Rabi_NV2_0.25V_every_sweep.dat',\n",
    "         'G:/data/QudiData/2018/01/20180112/PulsedMeasurement/20180112-1745-27_NV2_Rabi_NV2_0.25V_every_sweep.dat',\n",
    "         'G:/data/QudiData/2018/01/20180112/PulsedMeasurement/20180112-1747-54_NV2_Rabi_NV2_0.25V_every_sweep.dat',\n",
    "         'G:/data/QudiData/2018/01/20180112/PulsedMeasurement/20180112-1750-18_NV2_Rabi_NV2_0.25V_every_sweep.dat',\n",
    "         'G:/data/QudiData/2018/01/20180112/PulsedMeasurement/20180112-1752-41_NV2_Rabi_NV2_0.25V_every_sweep.dat',\n",
    "         'G:/data/QudiData/2018/01/20180112/PulsedMeasurement/20180112-1755-05_NV2_Rabi_NV2_0.25V_every_sweep.dat',\n",
    "         'G:/data/QudiData/2018/01/20180112/PulsedMeasurement/20180112-1757-27_NV2_Rabi_NV2_0.25V_every_sweep.dat',\n",
    "         'G:/data/QudiData/2018/01/20180112/PulsedMeasurement/20180112-1759-49_NV2_Rabi_NV2_0.25V_every_sweep.dat',\n",
    "         'G:/data/QudiData/2018/01/20180112/PulsedMeasurement/20180112-1802-15_NV2_Rabi_NV2_0.25V_every_sweep.dat',\n",
    "         'G:/data/QudiData/2018/01/20180112/PulsedMeasurement/20180112-1804-34_NV2_Rabi_NV2_0.25V_every_sweep.dat',\n",
    "         'G:/data/QudiData/2018/01/20180112/PulsedMeasurement/20180112-1806-58_NV2_Rabi_NV2_0.25V_every_sweep.dat']\n",
    "len(my_files)\n",
    "my_files[1]"
   ]
  },
  {
   "cell_type": "markdown",
   "metadata": {},
   "source": [
    "Combine all the measurements into one array sorted ascending - b"
   ]
  },
  {
   "cell_type": "code",
   "execution_count": 19,
   "metadata": {
    "collapsed": false
   },
   "outputs": [],
   "source": [
    "import numpy as np\n",
    "num_of_points = 120\n",
    "b=np.zeros(num_of_points)\n",
    "\n",
    "for i in range(len(my_files)):\n",
    "    myfile=my_files[i]\n",
    "    f = open(myfile, 'r')\n",
    "    lines = f.readlines()\n",
    "    result = []\n",
    "    for x in lines:\n",
    "        result.append(x.split('#')[0])\n",
    "    f.close()\n",
    "    a = [x for x in result if x != '']\n",
    "    \n",
    "    for j in range(len(a)-1):\n",
    "        j=j+1 \n",
    "        b1 = np.asarray(a[j].split(), dtype=np.float32)\n",
    "        b = np.vstack((b, b1))"
   ]
  },
  {
   "cell_type": "markdown",
   "metadata": {},
   "source": [
    "Make an array of data aqcuired within 1 second, len must be 120*60=7200 seconds"
   ]
  },
  {
   "cell_type": "code",
   "execution_count": 20,
   "metadata": {
    "collapsed": false,
    "scrolled": true
   },
   "outputs": [
    {
     "data": {
      "text/plain": [
       "7214"
      ]
     },
     "execution_count": 20,
     "metadata": {},
     "output_type": "execute_result"
    }
   ],
   "source": [
    "c=b[1]\n",
    "for i in range(len(b)-1):\n",
    "    i=i+1\n",
    "    c=np.vstack((c, b[i]-b[i-1]))\n",
    "len(c)    "
   ]
  },
  {
   "cell_type": "markdown",
   "metadata": {},
   "source": [
    "Make another array - sum of every 40 lines"
   ]
  },
  {
   "cell_type": "code",
   "execution_count": 21,
   "metadata": {
    "collapsed": false
   },
   "outputs": [
    {
     "data": {
      "text/plain": [
       "7155"
      ]
     },
     "execution_count": 21,
     "metadata": {},
     "output_type": "execute_result"
    }
   ],
   "source": [
    "\n",
    "data=np.zeros(num_of_points)\n",
    "\n",
    "for i in range(len(c)-60):\n",
    "    i=i+1\n",
    "    summ=np.zeros(num_of_points)\n",
    "    for j in range(60):\n",
    "        summ=summ+c[i+j]\n",
    "    data=np.vstack((data, summ))\n",
    "len(data)"
   ]
  },
  {
   "cell_type": "markdown",
   "metadata": {},
   "source": [
    "Now data array is ready to fit"
   ]
  },
  {
   "cell_type": "code",
   "execution_count": 22,
   "metadata": {
    "collapsed": true
   },
   "outputs": [],
   "source": [
    "import numpy, scipy.optimize\n",
    "\n",
    "def fit_sin(tt, yy):\n",
    "    '''Fit sin to the input time sequence, and return fitting parameters \"amp\", \"omega\", \"phase\", \"offset\", \"freq\", \"period\" and \"fitfunc\"'''\n",
    "    tt = numpy.array(tt)\n",
    "    yy = numpy.array(yy)\n",
    "    ff = numpy.fft.fftfreq(len(tt), (tt[1]-tt[0]))   # assume uniform spacing\n",
    "    Fyy = abs(numpy.fft.fft(yy))\n",
    "    guess_freq = abs(ff[numpy.argmax(Fyy[1:])+1])   # excluding the zero frequency \"peak\", which is related to offset\n",
    "    guess_amp = numpy.std(yy) * 2.**0.5\n",
    "    guess_offset = numpy.mean(yy)\n",
    "    guess = numpy.array([guess_amp, 2.*numpy.pi*guess_freq, 0., guess_offset])\n",
    "\n",
    "    def sinfunc(t, A, w, p, c):  return A * numpy.sin(w*t + p) + c\n",
    "    popt, pcov = scipy.optimize.curve_fit(sinfunc, tt, yy, p0=guess)\n",
    "    A, w, p, c = popt\n",
    "    f = w/(2.*numpy.pi)\n",
    "    fitfunc = lambda t: A * numpy.sin(w*t + p) + c\n",
    "    return {\"amp\": A, \"omega\": w, \"phase\": p, \"offset\": c, \"freq\": f, \"period\": 1./f, \"fitfunc\": fitfunc, \"maxcov\": numpy.max(pcov), \"rawres\": (guess,popt,pcov)}"
   ]
  },
  {
   "cell_type": "code",
   "execution_count": 23,
   "metadata": {
    "collapsed": false
   },
   "outputs": [
    {
     "name": "stdout",
     "output_type": "stream",
     "text": [
      "Amplitude=-0.527899093244, freq.=6784676.40451, phase=-0.763968374315, offset=8.54543828124, period=1.47390964635e-07\n",
      "1.47390964635e-07\n"
     ]
    }
   ],
   "source": [
    "tau_arr = np.arange(120) * 10.0e-9+300e-9\n",
    "\n",
    "res = fit_sin(tau_arr, data[1095])\n",
    "print( \"Amplitude=%(amp)s, freq.=%(freq)s, phase=%(phase)s, offset=%(offset)s, period=%(period)s\" % res )\n",
    "print(res['period'])"
   ]
  },
  {
   "cell_type": "code",
   "execution_count": 24,
   "metadata": {
    "collapsed": false
   },
   "outputs": [
    {
     "data": {
      "text/plain": [
       "array([ 9.58500671,  8.69500732,  8.45500183,  7.64500427,  7.80999756,\n",
       "        7.47499847,  7.37999725,  8.00999451,  8.21500397,  8.50500488,\n",
       "        9.32000732,  9.36500549,  9.31999207,  9.68998718,  9.39500427,\n",
       "        9.49000549,  8.61500549,  8.33500671,  7.78500366,  8.17500305,\n",
       "        7.75      ,  7.75500488,  7.7049942 ,  8.25      ,  8.98001099,\n",
       "        9.01000977,  9.70500183,  8.9750061 ,  9.38499451,  8.99499512,\n",
       "        8.94000244,  8.51499939,  7.78999329,  7.77999878,  7.85499573,\n",
       "        8.12500763,  7.83500671,  8.29999542,  8.70500183,  9.00999451,\n",
       "        9.05000305,  9.375     ,  9.24499512,  8.75999451,  8.71000671,\n",
       "        8.67999268,  8.17999268,  7.91999817,  8.13000488,  7.90499878,\n",
       "        8.04000854,  8.07499695,  8.4750061 ,  8.79000854,  8.55999756,\n",
       "        8.98001099,  9.32499695,  8.79998779,  9.20498657,  8.3500061 ,\n",
       "        8.22499084,  7.97999573,  8.25999451,  8.19000244,  8.13000488,\n",
       "        8.40499878,  8.9750061 ,  8.63500977,  8.26499939,  8.78999329,\n",
       "        8.65499878,  8.79499817,  9.12998962,  8.92500305,  8.91999817,\n",
       "        8.26499939,  8.2749939 ,  8.5       ,  8.07000732,  8.3999939 ,\n",
       "        8.51998901,  8.47999573,  8.98500061,  8.63999939,  8.79499817,\n",
       "        8.66999817,  8.7749939 ,  9.23500061,  9.1000061 ,  8.75498962,\n",
       "        8.78500366,  8.58999634,  7.96000671,  8.23999023,  8.42999268,\n",
       "        7.92999268,  8.47999573,  8.59500122,  8.43000793,  8.36999512,\n",
       "        8.74499512,  8.61000061,  8.75      ,  8.14500427,  8.38500977,\n",
       "        8.46499634,  8.87998962,  8.13999939,  8.07501221,  8.79499817,\n",
       "        8.24499512,  8.18499756,  8.56001282,  8.48500061,  8.19000244,\n",
       "        9.14500427,  8.73500061,  8.86999512,  8.66000366,  8.9750061 ])"
      ]
     },
     "execution_count": 24,
     "metadata": {},
     "output_type": "execute_result"
    }
   ],
   "source": [
    "data[1095]"
   ]
  },
  {
   "cell_type": "code",
   "execution_count": null,
   "metadata": {
    "collapsed": true
   },
   "outputs": [],
   "source": []
  },
  {
   "cell_type": "code",
   "execution_count": 25,
   "metadata": {
    "collapsed": false,
    "scrolled": true
   },
   "outputs": [
    {
     "name": "stdout",
     "output_type": "stream",
     "text": [
      "plotly version: 2.2.3\n"
     ]
    },
    {
     "data": {
      "text/plain": [
       "'file://C:\\\\Users\\\\pi3\\\\Documents\\\\GitHub\\\\qudi\\\\scatter-mode.html'"
      ]
     },
     "execution_count": 25,
     "metadata": {},
     "output_type": "execute_result"
    }
   ],
   "source": [
    "from plotly import __version__\n",
    "from plotly.offline import init_notebook_mode, iplot\n",
    "from plotly.graph_objs import Scatter\n",
    "\n",
    "init_notebook_mode()\n",
    "\n",
    "print(\"plotly version:\", __version__)\n",
    "\n",
    "trace1 = Scatter(\n",
    "    x = tau_arr,\n",
    "    y = data[1095],\n",
    "    mode = 'lines+markers',\n",
    "    name = 'lines+markers'\n",
    ")\n",
    "trace2 = Scatter(\n",
    "    x = tau_arr,\n",
    "    y = res[\"fitfunc\"](tau_arr),\n",
    "    mode = 'lines',\n",
    "    name = 'lines'\n",
    ")\n",
    "\n",
    "plot_data = [trace1, trace2]\n",
    "plot(plot_data, filename='scatter-mode')"
   ]
  },
  {
   "cell_type": "code",
   "execution_count": 26,
   "metadata": {
    "collapsed": false
   },
   "outputs": [
    {
     "data": {
      "text/plain": [
       "'file://C:\\\\Users\\\\pi3\\\\Documents\\\\GitHub\\\\qudi\\\\scatter-mode.html'"
      ]
     },
     "execution_count": 26,
     "metadata": {},
     "output_type": "execute_result"
    }
   ],
   "source": [
    "tau_arr = np.arange(120) * 10.0e-9+300e-9\n",
    "\n",
    "# len(data)\n",
    "period=np.zeros(1200-1)\n",
    "\n",
    "for i in range(1200-1):\n",
    "    try:\n",
    "        res = fit_sin(tau_arr, data[i+1])\n",
    "        period[i]=res['freq']\n",
    "    except RuntimeError:\n",
    "        period[i]=period[i-1]\n",
    "    \n",
    "from plotly import __version__\n",
    "from plotly.offline import init_notebook_mode, iplot\n",
    "from plotly.graph_objs import Scatter\n",
    "\n",
    "init_notebook_mode()\n",
    "\n",
    "trace = Scatter(\n",
    "    x = np.arange(len(period)),\n",
    "    y = period/1e+6,\n",
    "    mode = 'lines+markers',\n",
    "    name = 'lines+markers'\n",
    ")\n",
    "trace0 = Scatter(\n",
    "    x = np.arange(len(period)),\n",
    "    y = np.mean(period[0:1199])*np.ones(1199)/1e+6,\n",
    "    mode = 'lines+markers',\n",
    "    name = 'lines+markers'\n",
    ")\n",
    "\n",
    "plot_data = [trace, trace0]\n",
    "plot(plot_data, filename='scatter-mode')\n",
    "    "
   ]
  },
  {
   "cell_type": "code",
   "execution_count": 27,
   "metadata": {
    "collapsed": false,
    "scrolled": true
   },
   "outputs": [
    {
     "name": "stdout",
     "output_type": "stream",
     "text": [
      "6783473.77943\n",
      "!\n",
      "76876.8716461\n",
      "0.0113329651069\n"
     ]
    }
   ],
   "source": [
    "print(np.mean(period[0:1199]))\n",
    "print('!')\n",
    "print(np.std(period[0:1199]))\n",
    "print(np.std(period[0:1199])/np.mean(period[0:1199]))"
   ]
  },
  {
   "cell_type": "code",
   "execution_count": null,
   "metadata": {
    "collapsed": true
   },
   "outputs": [],
   "source": []
  }
 ],
 "metadata": {
  "kernelspec": {
   "display_name": "Qudi",
   "language": "python",
   "name": "qudi"
  },
  "language_info": {
   "codemirror_mode": {
    "name": "ipython",
    "version": "3.6.0"
   },
   "file_extension": ".py",
   "mimetype": "text/x-python",
   "name": "python",
   "nbconvert_exporter": "python",
   "pygments_lexer": "ipython3",
   "version": "3.6.0"
  }
 },
 "nbformat": 4,
 "nbformat_minor": 2
}
