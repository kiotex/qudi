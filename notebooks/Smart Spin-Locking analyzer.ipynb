{
 "cells": [
  {
   "cell_type": "code",
   "execution_count": 1,
   "metadata": {},
   "outputs": [],
   "source": [
    "import numpy as np\n",
    "\n",
    "def export_counts(myfile, contrast, N):\n",
    "    f = open(myfile, 'r')\n",
    "    lines = f.readlines()\n",
    "    result = []\n",
    "    for x in lines:\n",
    "        result.append(x.split('#')[0])\n",
    "    f.close()\n",
    "    a = [x for x in result if x != '']\n",
    "\n",
    "    evolution_time = np.zeros(len(a))\n",
    "    counts1 = np.zeros(len(a))\n",
    "    error1 = np.zeros(len(a))\n",
    "    counts2 = np.zeros(len(a))\n",
    "    error2 = np.zeros(len(a))\n",
    "\n",
    "    for i in range(len(a)):\n",
    "        evolution_time[i]=np.asarray(a[i].split(), dtype=np.float32)[0]\n",
    "        counts1[i] = np.asarray(a[i].split(), dtype=np.float32)[1]\n",
    "        error1[i] = np.asarray(a[i].split(), dtype=np.float32)[3]\n",
    "        counts2[i] = np.asarray(a[i].split(), dtype=np.float32)[2]\n",
    "        error2[i] = np.asarray(a[i].split(), dtype=np.float32)[4]\n",
    "\n",
    "    baseline = np.sum(counts2+counts1)/len(counts2)/2\n",
    "    C0_up = baseline / (1 - 0.01 * contrast / 2)\n",
    "    C0_down = C0_up * (1 - 0.01 * contrast)\n",
    "    counts = counts2 - counts1\n",
    "\n",
    "    T = evolution_time * 10 * N\n",
    "\n",
    "    normalized_counts = (counts) / (C0_up - C0_down)\n",
    "    freq=0.5/evolution_time/1.0e+6\n",
    "    return normalized_counts, evolution_time, error1"
   ]
  },
  {
   "cell_type": "code",
   "execution_count": 2,
   "metadata": {},
   "outputs": [],
   "source": [
    "my_files=['G:/data/QudiData/2018/10/20181002/PulsedMeasurement/20181002-1720-56_NV4_HHwait_1.0e-08_NV4_pulsed_measurement.dat',\n",
    "          'G:/data/QudiData/2018/10/20181002/PulsedMeasurement/20181002-1723-19_NV4_HHwait_5.0e-06_NV4_pulsed_measurement.dat',\n",
    "          'G:/data/QudiData/2018/10/20181002/PulsedMeasurement/20181002-1725-52_NV4_HHwait_1.0e-05_NV4_pulsed_measurement.dat',\n",
    "          'G:/data/QudiData/2018/10/20181002/PulsedMeasurement/20181002-1728-35_NV4_HHwait_1.5e-05_NV4_pulsed_measurement.dat',\n",
    "          'G:/data/QudiData/2018/10/20181002/PulsedMeasurement/20181002-1731-28_NV4_HHwait_2.0e-05_NV4_pulsed_measurement.dat',\n",
    "          'G:/data/QudiData/2018/10/20181002/PulsedMeasurement/20181002-1734-30_NV4_HHwait_2.5e-05_NV4_pulsed_measurement.dat',\n",
    "          'G:/data/QudiData/2018/10/20181002/PulsedMeasurement/20181002-1737-43_NV4_HHwait_3.0e-05_NV4_pulsed_measurement.dat',\n",
    "          'G:/data/QudiData/2018/10/20181002/PulsedMeasurement/20181002-1741-08_NV4_HHwait_3.5e-05_NV4_pulsed_measurement.dat',\n",
    "          'G:/data/QudiData/2018/10/20181002/PulsedMeasurement/20181002-1744-40_NV4_HHwait_4.0e-05_NV4_pulsed_measurement.dat',\n",
    "          'G:/data/QudiData/2018/10/20181002/PulsedMeasurement/20181002-1748-23_NV4_HHwait_4.5e-05_NV4_pulsed_measurement.dat'\n",
    "         ]\n",
    "N=16"
   ]
  },
  {
   "cell_type": "code",
   "execution_count": 10,
   "metadata": {},
   "outputs": [],
   "source": [
    "normalized_counts = np.zeros(len(my_files))\n",
    "evolution_time = np.zeros(len(my_files))\n",
    "error = np.zeros(len(my_files))\n",
    "\n",
    "for i in range(len(my_files)):\n",
    "    normalized_counts[i] = export_counts(my_files[i], 35.8, N)[0]\n",
    "    evolution_time[i] = export_counts(my_files[i], 35.8, N)[1]\n",
    "    error[i] = export_counts(my_files[i], 35.8, N)[2]"
   ]
  },
  {
   "cell_type": "code",
   "execution_count": 11,
   "metadata": {},
   "outputs": [],
   "source": [
    "my_files2=['G:/data/QudiData/2018/10/20181002/PulsedMeasurement/20181002-1808-25_NV4_HHwait_1.0e-08_NV4_pulsed_measurement.dat',\n",
    "          'G:/data/QudiData/2018/10/20181002/PulsedMeasurement/20181002-1810-59_NV4_HHwait_1.0e-05_NV4_pulsed_measurement.dat',\n",
    "          'G:/data/QudiData/2018/10/20181002/PulsedMeasurement/20181002-1813-52_NV4_HHwait_2.0e-05_NV4_pulsed_measurement.dat',\n",
    "          'G:/data/QudiData/2018/10/20181002/PulsedMeasurement/20181002-1817-05_NV4_HHwait_3.0e-05_NV4_pulsed_measurement.dat',\n",
    "          'G:/data/QudiData/2018/10/20181002/PulsedMeasurement/20181002-1820-38_NV4_HHwait_4.0e-05_NV4_pulsed_measurement.dat',\n",
    "          'G:/data/QudiData/2018/10/20181002/PulsedMeasurement/20181002-1824-31_NV4_HHwait_5.0e-05_NV4_pulsed_measurement.dat',\n",
    "          'G:/data/QudiData/2018/10/20181002/PulsedMeasurement/20181002-1828-44_NV4_HHwait_6.0e-05_NV4_pulsed_measurement.dat',\n",
    "          'G:/data/QudiData/2018/10/20181002/PulsedMeasurement/20181002-1833-17_NV4_HHwait_7.0e-05_NV4_pulsed_measurement.dat',\n",
    "          'G:/data/QudiData/2018/10/20181002/PulsedMeasurement/20181002-1838-10_NV4_HHwait_8.0e-05_NV4_pulsed_measurement.dat',\n",
    "          'G:/data/QudiData/2018/10/20181002/PulsedMeasurement/20181002-1843-24_NV4_HHwait_9.0e-05_NV4_pulsed_measurement.dat',\n",
    "          'G:/data/QudiData/2018/10/20181002/PulsedMeasurement/20181002-1848-57_NV4_HHwait_1.0e-04_NV4_pulsed_measurement.dat',\n",
    "          'G:/data/QudiData/2018/10/20181002/PulsedMeasurement/20181002-1854-50_NV4_HHwait_1.1e-04_NV4_pulsed_measurement.dat',\n",
    "          'G:/data/QudiData/2018/10/20181002/PulsedMeasurement/20181002-1901-03_NV4_HHwait_1.2e-04_NV4_pulsed_measurement.dat',\n",
    "          'G:/data/QudiData/2018/10/20181002/PulsedMeasurement/20181002-1907-36_NV4_HHwait_1.3e-04_NV4_pulsed_measurement.dat',\n",
    "          'G:/data/QudiData/2018/10/20181002/PulsedMeasurement/20181002-1914-30_NV4_HHwait_1.4e-04_NV4_pulsed_measurement.dat',\n",
    "          'G:/data/QudiData/2018/10/20181002/PulsedMeasurement/20181002-1921-43_NV4_HHwait_1.5e-04_NV4_pulsed_measurement.dat',\n",
    "          'G:/data/QudiData/2018/10/20181002/PulsedMeasurement/20181002-1929-16_NV4_HHwait_1.6e-04_NV4_pulsed_measurement.dat',\n",
    "          'G:/data/QudiData/2018/10/20181002/PulsedMeasurement/20181002-1937-09_NV4_HHwait_1.7e-04_NV4_pulsed_measurement.dat',\n",
    "          'G:/data/QudiData/2018/10/20181002/PulsedMeasurement/20181002-1945-24_NV4_HHwait_1.8e-04_NV4_pulsed_measurement.dat',\n",
    "          'G:/data/QudiData/2018/10/20181002/PulsedMeasurement/20181002-1953-57_NV4_HHwait_1.9e-04_NV4_pulsed_measurement.dat'\n",
    "          ]"
   ]
  },
  {
   "cell_type": "code",
   "execution_count": 12,
   "metadata": {},
   "outputs": [],
   "source": [
    "normalized_counts2 = np.zeros(len(my_files2))\n",
    "evolution_time2 = np.zeros(len(my_files2))\n",
    "error2 = np.zeros(len(my_files2))\n",
    "\n",
    "for i in range(len(my_files2)):\n",
    "    normalized_counts2[i] = export_counts(my_files2[i], 35.8, N)[0]\n",
    "    evolution_time2[i] = export_counts(my_files2[i], 35.8, N)[1]\n",
    "    error2[i] = export_counts(my_files2[i], 35.8, N)[2]"
   ]
  },
  {
   "cell_type": "code",
   "execution_count": 13,
   "metadata": {
    "scrolled": true
   },
   "outputs": [
    {
     "data": {
      "text/plain": [
       "'https://plot.ly/~Faridelnik/193'"
      ]
     },
     "execution_count": 13,
     "metadata": {},
     "output_type": "execute_result"
    }
   ],
   "source": [
    "import plotly\n",
    "plotly.tools.set_credentials_file(username='Faridelnik', api_key='8fgOJRLClQQnqPQvG4h1')\n",
    "import plotly.plotly as py\n",
    "from plotly.graph_objs import Scatter\n",
    "plotly.tools.set_config_file(world_readable=False,\n",
    "                             sharing='private')\n",
    "\n",
    "init_notebook_mode()\n",
    "\n",
    "trace1 = Scatter(\n",
    "    x = evolution_time*1e+6,\n",
    "    y = normalized_counts,\n",
    "    error_y=dict(\n",
    "            type='data',\n",
    "            array=error,\n",
    "            visible=True\n",
    "                ),\n",
    "    mode = 'lines+markers',\n",
    "    name = 'off resonance'\n",
    ")\n",
    "\n",
    "trace2 = Scatter(\n",
    "     x = evolution_time2*1e+6,\n",
    "     y = normalized_counts2,\n",
    "     error_y=dict(\n",
    "             type='data',\n",
    "             array=error2,\n",
    "             visible=True\n",
    "                 ),\n",
    "     mode = 'lines+markers',\n",
    "     name = 'on resonance'\n",
    " )\n",
    "\n",
    "plot_data = [trace1, trace2]\n",
    "py.plot(plot_data, filename='scatter-mode')"
   ]
  },
  {
   "cell_type": "code",
   "execution_count": null,
   "metadata": {
    "collapsed": true
   },
   "outputs": [],
   "source": [
    "np.savetxt('G:/data/QudiData/2018/01/20180119/PulsedMeasurement/counts_kddxy_6_pol.txt', normalized_counts, delimiter=',')\n",
    "np.savetxt('G:/data/QudiData/2018/01/20180119/PulsedMeasurement/freq_kddxy_6_pol.txt', freq, delimiter=',')"
   ]
  },
  {
   "cell_type": "code",
   "execution_count": null,
   "metadata": {},
   "outputs": [],
   "source": [
    "import pylab as plb\n",
    "from scipy.optimize import curve_fit\n",
    "from scipy import asarray as ar,exp\n",
    "\n",
    "x=0.5/evolution_time/1.0e+6\n",
    "y=normalized_counts\n",
    "\n",
    "n = len(x)                          #the number of data\n",
    "mean = sum(x*y)/n                   #note this correction\n",
    "sigma = sum(y*(x-mean)**2)/n        #note this correction\n",
    "\n",
    "def gaus(x,a,x0,sigma):\n",
    "    return y[0]-a*exp(-(x-x0)**2/(2*sigma**2))\n",
    "\n",
    "popt,pcov = curve_fit(gaus,x,y,p0=[0.3, 2.4, 0.1])\n",
    "\n",
    "print(popt)"
   ]
  },
  {
   "cell_type": "code",
   "execution_count": null,
   "metadata": {},
   "outputs": [],
   "source": [
    "from plotly import __version__\n",
    "from plotly.offline import init_notebook_mode, plot\n",
    "from plotly.graph_objs import Scatter\n",
    "\n",
    "init_notebook_mode()\n",
    "\n",
    "# print(\"plotly version:\", __version__)\n",
    "\n",
    "freq=0.5/evolution_time/1.0e+6\n",
    "popt=[ 0.15,  2.41,  0.03]\n",
    "\n",
    "trace1 = Scatter(\n",
    "    x = freq,\n",
    "    y = normalized_counts,\n",
    "    mode = 'lines+markers',\n",
    "    name = 'lines+markers'\n",
    ")\n",
    "trace2 = Scatter(\n",
    "    x = np.linspace(freq.max(), freq.min(), 200),\n",
    "    y = gaus(np.linspace(freq.max(), freq.min(), 200), *popt)-0.2,\n",
    "    mode = 'lines',\n",
    "    name = 'lines'\n",
    ")\n",
    "\n",
    "plot_data = [trace1, trace2]\n",
    "plot(plot_data, filename='scatter-mode')"
   ]
  },
  {
   "cell_type": "code",
   "execution_count": null,
   "metadata": {},
   "outputs": [],
   "source": [
    "from plotly import __version__\n",
    "from plotly.offline import init_notebook_mode, plot\n",
    "from plotly.graph_objs import Scatter\n",
    "\n",
    "# t=np.linspace(0, 2*4*300e-9, 200)\n",
    "# y=np.sin(2*np.pi*2.4*1e+6*t)\n",
    "\n",
    "t=np.linspace(0, 4, 200)\n",
    "y=np.exp(-t)\n",
    "\n",
    "trace = Scatter(\n",
    "    x = t,\n",
    "    y = y,\n",
    "    mode = 'lines',\n",
    "    name = 'lines'\n",
    ")\n",
    "\n",
    "plot_data = [trace]\n",
    "plot(plot_data, filename='scatter-mode')"
   ]
  },
  {
   "cell_type": "code",
   "execution_count": null,
   "metadata": {
    "collapsed": true
   },
   "outputs": [],
   "source": []
  }
 ],
 "metadata": {
  "kernelspec": {
   "display_name": "Qudi",
   "language": "python",
   "name": "qudi"
  },
  "language_info": {
   "codemirror_mode": {
    "name": "ipython",
    "version": "3.6.5"
   },
   "file_extension": ".py",
   "mimetype": "text/x-python",
   "name": "python",
   "nbconvert_exporter": "python",
   "pygments_lexer": "ipython3",
   "version": "3.6.5"
  }
 },
 "nbformat": 4,
 "nbformat_minor": 2
}
