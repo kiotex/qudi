{
 "cells": [
  {
   "cell_type": "markdown",
   "metadata": {},
   "source": [
    "# Spin-Locking with waiting. Locking time is fixed"
   ]
  },
  {
   "cell_type": "markdown",
   "metadata": {},
   "source": [
    "Locking time is fixed. Waiting time is varied"
   ]
  },
  {
   "cell_type": "code",
   "execution_count": 1,
   "metadata": {
    "collapsed": true
   },
   "outputs": [],
   "source": [
    "from collections import OrderedDict\n",
    "import datetime\n",
    "import numpy as np\n",
    "import time\n",
    "import os"
   ]
  },
  {
   "cell_type": "code",
   "execution_count": 2,
   "metadata": {},
   "outputs": [],
   "source": [
    "try: \n",
    "    pulsedmasterlogic\n",
    "except NameError:\n",
    "    manager.startModule('logic', 'pulsedmasterlogic')\n",
    "try: \n",
    "    scannerlogic\n",
    "except NameError:\n",
    "    manager.startModule('logic', 'scannerlogic')\n",
    "try: \n",
    "    optimizerlogic\n",
    "except NameError:\n",
    "    manager.startModule('logic', 'optimizerlogic')\n",
    "try:\n",
    "    sequencegeneratorlogic\n",
    "except NameError:\n",
    "    manager.startModule('logic', 'sequencegeneratorlogic')\n",
    "try:\n",
    "    pulsedmeasurement\n",
    "except NameError:\n",
    "    manager.startModule('gui', 'pulsedmeasurement')   \n",
    "try:\n",
    "    poimanagerlogic\n",
    "except NameError:\n",
    "    manager.startModule('logic', 'poimaganerlogic')    "
   ]
  },
  {
   "cell_type": "code",
   "execution_count": 3,
   "metadata": {
    "collapsed": true
   },
   "outputs": [],
   "source": [
    "def write_to_logfile(nametag, timestamp, name, **kwargs):\n",
    "    \"\"\" Write parameters to custom logfile with name nametag \"\"\"\n",
    "    if type(timestamp) is not str:\n",
    "        timestamp = str(timestamp)\n",
    "    parameters = list(kwargs)\n",
    "    if len(parameters) == 1 and type(kwargs[parameters[0]]) is OrderedDict:\n",
    "        param_dict = kwargs[parameters[0]]\n",
    "        parameters = list(param_dict)\n",
    "        kwargs = param_dict\n",
    "    log_dir = pulsedmeasurement._save_logic.get_path_for_module('CustomLogfiles')\n",
    "    log_path = os.path.join(log_dir, nametag + '.txt')\n",
    "    if not os.path.isfile(log_path):\n",
    "        with open(log_path, 'w') as logfile:\n",
    "            logfile.write('# timestamp\\t')\n",
    "            logfile.write('# Name\\t')\n",
    "            for param in parameters:\n",
    "                logfile.write(param + '\\t')\n",
    "            logfile.write('\\n#\\n')\n",
    "    with open(log_path, 'a') as logfile:\n",
    "        logfile.write(timestamp + '\\t')\n",
    "        logfile.write(name + '\\t')\n",
    "        for param in parameters:\n",
    "            logfile.write('{0:3.6e}\\t'.format(kwargs[param]))\n",
    "        logfile.write('\\n')\n",
    "    return"
   ]
  },
  {
   "cell_type": "code",
   "execution_count": 5,
   "metadata": {},
   "outputs": [],
   "source": [
    "# static hardware parameters:\n",
    "setup = OrderedDict()\n",
    "setup['sampling_freq'] = pulsedmeasurementlogic.sample_rate\n",
    "setup['fc_binwidth'] = pulsedmeasurementlogic.fast_counter_binwidth\n",
    "setup['wait_length'] = 1.5e-6\n",
    "setup['aom_delay'] = 500e-9\n",
    "#setup['channel_config_name'] = pulsedmeasurement.current_channel_config_name\n",
    "setup['seq_trig']=''\n",
    "setup['gate']='d_ch2'\n",
    "setup['NV_name']='NV2'\n",
    "setup['poi'] = poimanagerlogic.active_poi.get_key()\n",
    "setup['laser_length'] = 3.0e-6\n",
    "setup[\"min_counts\"] = 10000 # if after a refocus only 40kcounts are measured the refocus is repeated up to max 3 times\n",
    "# Set amplitude in logic and pulser hardware:\n",
    "amp_dict = OrderedDict()\n",
    "amp_dict['a_ch1'] = 0.25\n",
    "amp_dict['a_ch2'] = 0.0\n",
    "AWG5014C.amplitude_dict = amp_dict\n",
    "#pulsedmaster.pulse_generator_settings_changed(setup['sampling_freq'], setup['channel_config_name'], amp_dict, False)"
   ]
  },
  {
   "cell_type": "code",
   "execution_count": 7,
   "metadata": {
    "collapsed": true
   },
   "outputs": [],
   "source": [
    "# for single frequency XY8-N:\n",
    "hh_tau = OrderedDict()\n",
    "hh_tau['mw_amp'] = 0.25\n",
    "hh_tau['spinlock_amp'] = 0.1175\n",
    "hh_tau['mw_freq'] = 100e6\n",
    "hh_tau['tau_start'] = 0*1e-6\n",
    "hh_tau['tau_incr'] = 5.0*1e-6\n",
    "hh_tau['points'] = 40\n",
    "hh_tau['lock_time'] = 100.0*1e-6\n",
    "hh_tau['measurement_time'] = 240*60\n",
    "hh_tau['refocus_interval'] = 3*60\n",
    "hh_tau['alternating']=True\n",
    "hh_tau['rabi_period']=184.0*1e-9"
   ]
  },
  {
   "cell_type": "code",
   "execution_count": 8,
   "metadata": {
    "scrolled": true
   },
   "outputs": [
    {
     "name": "stdout",
     "output_type": "stream",
     "text": [
      "<logic.pulse_objects.PulseSequence object at 0x0000023538D0C160>\n"
     ]
    }
   ],
   "source": [
    "# generate new HH sequence\n",
    "sequencegeneratorlogic.delete_sequence('HH_waiting')    \n",
    "sequencegeneratorlogic.generate_HH_tau_waiting_sequence('HH_waiting', hh_tau['rabi_period'], hh_tau['spinlock_amp'], 100e6,\n",
    "                   0.25, hh_tau['tau_start'], hh_tau['tau_incr'], hh_tau['points'], hh_tau['lock_time'],\n",
    "                   'a_ch1', 3.0e-6, 2.0, 0.7e-6, 1.0e-6, '', 'd_ch2', True)\n",
    "# sample, upload and load waveform\n",
    "if 'HH_waiting' not in sequencegeneratorlogic.saved_pulse_sequences:\n",
    "    sequencegeneratorlogic.log.error('Sequence generation of HH_waiting in notebook timed out.')\n",
    "pulsedmasterlogic.sample_sequence('HH_waiting', True)\n",
    "\n",
    "while pulsedmasterlogic.status_dict['sauplo_sequence_busy'] or pulsedmasterlogic.status_dict['loading_busy']:\n",
    "        time.sleep(5)\n",
    "\n",
    "import winsound\n",
    "frequency = 300  # Set Frequency To 2500 Hertz\n",
    "duration = 1000  # Set Duration To 1000 ms == 1 second\n",
    "winsound.Beep(frequency, duration)"
   ]
  },
  {
   "cell_type": "code",
   "execution_count": 9,
   "metadata": {
    "scrolled": false
   },
   "outputs": [
    {
     "name": "stdout",
     "output_type": "stream",
     "text": [
      "150652.0 2.871609999816765e-09\n"
     ]
    },
    {
     "data": {
      "text/plain": [
       "True"
      ]
     },
     "execution_count": 9,
     "metadata": {},
     "output_type": "execute_result"
    }
   ],
   "source": [
    "refocus_poi(setup['poi'])"
   ]
  },
  {
   "cell_type": "code",
   "execution_count": 10,
   "metadata": {
    "scrolled": true
   },
   "outputs": [
    {
     "name": "stdout",
     "output_type": "stream",
     "text": [
      "150652.0 1.970894733948779e-09\n",
      "150652.0 8.052827465462452e-09\n",
      "150652.0 9.471012503027413e-09\n",
      "150652.0 2.5183499687261098e-09\n",
      "150652.0 6.946493840673295e-09\n",
      "150652.0 1.034487599985037e-08\n",
      "150652.0 4.771215799394778e-09\n",
      "150652.0 1.7563857767751638e-09\n",
      "150652.0 1.150057856400959e-08\n",
      "150652.0 2.2183071206341117e-08\n",
      "150652.0 1.1966933114757148e-08\n",
      "150652.0 7.683932204302331e-10\n",
      "150652.0 1.5152774754888763e-09\n",
      "150652.0 1.2805139966490231e-08\n",
      "150652.0 2.3498902265104695e-09\n",
      "150652.0 5.147470084847076e-09\n",
      "150652.0 5.373724236932013e-09\n",
      "150652.0 9.232647660406394e-09\n",
      "150652.0 2.1202177079621587e-08\n",
      "150652.0 2.7157868710364587e-10\n",
      "150652.0 1.7267847505348082e-08\n",
      "150652.0 3.3282552548664305e-09\n",
      "150652.0 7.553027374750782e-09\n",
      "150652.0 1.4331998592941107e-09\n",
      "150652.0 1.3758830837184207e-08\n",
      "150652.0 4.4647852903351225e-09\n",
      "150652.0 9.366946114477796e-09\n",
      "150652.0 1.8401699357749476e-09\n",
      "150652.0 4.775809757875276e-09\n",
      "150652.0 4.043559356237938e-09\n",
      "150652.0 6.5844823874628366e-09\n",
      "150652.0 2.6249423924767793e-09\n",
      "150652.0 9.621614407536914e-09\n",
      "150652.0 1.093084490658852e-09\n",
      "150652.0 1.1802276981445043e-09\n",
      "150652.0 2.9994960309680393e-09\n",
      "150652.0 1.2898755518730759e-08\n",
      "150652.0 1.48439492025454e-09\n",
      "150652.0 3.6274649094304224e-09\n",
      "150652.0 2.2346006879541227e-09\n",
      "150652.0 1.2054526874679956e-08\n",
      "150652.0 1.228986413376635e-09\n",
      "150652.0 4.030494622284781e-09\n",
      "150652.0 8.541879830141399e-10\n",
      "150652.0 2.062399487213378e-09\n",
      "150652.0 1.1368339757455016e-09\n",
      "150652.0 9.28705805255958e-09\n",
      "150652.0 9.47125365054278e-10\n",
      "150652.0 1.0372610981194811e-09\n",
      "150652.0 7.454065863422247e-09\n",
      "150652.0 7.729490360887685e-10\n",
      "150652.0 1.8210881158969524e-09\n",
      "150652.0 6.243902444532474e-09\n",
      "150652.0 1.0497300016807775e-10\n",
      "150652.0 4.734247321697572e-11\n",
      "150652.0 5.125268482731628e-10\n",
      "150652.0 3.892763226565413e-09\n",
      "150652.0 4.8968889759787694e-09\n",
      "150652.0 1.6312043229276484e-08\n",
      "150652.0 2.2177268295177105e-08\n",
      "150652.0 2.28685258566835e-09\n",
      "150652.0 4.231480569144043e-09\n",
      "150652.0 2.828864464705027e-09\n",
      "150652.0 1.0638054714662585e-08\n",
      "150652.0 5.868534119459401e-09\n",
      "150652.0 2.649362959973676e-09\n",
      "150652.0 3.934191012246527e-09\n",
      "2D gaussian fit not successfull\n",
      "150652.0 0.0\n",
      "150652.0 1.4473359608024872e-08\n",
      "150652.0 5.605119516720629e-10\n",
      "150652.0 2.3134116136283708e-10\n",
      "150652.0 3.273171636542524e-09\n",
      "150652.0 1.2756317458923242e-08\n",
      "150652.0 2.2246420162359078e-09\n",
      "150652.0 8.261459720055556e-09\n",
      "150652.0 2.081595301740868e-09\n",
      "150652.0 5.120937350043347e-10\n",
      "150652.0 2.643997166938358e-09\n",
      "150652.0 1.8688665376324237e-09\n"
     ]
    },
    {
     "data": {
      "text/plain": [
       "False"
      ]
     },
     "execution_count": 10,
     "metadata": {},
     "output_type": "execute_result"
    }
   ],
   "source": [
    "do_hh_tau_refocus(setup['poi'])"
   ]
  },
  {
   "cell_type": "code",
   "execution_count": 4,
   "metadata": {
    "collapsed": true
   },
   "outputs": [],
   "source": [
    "def refocus_poi(poi=None, max_drift=0.3,min_counts=setup[\"min_counts\"]):\n",
    "    if poi==None:\n",
    "        return False\n",
    "#     pulsedmasterlogic.load_asset_into_channels('Laser_On')\n",
    "#     while pulsedmasterlogic.status_dict['loading_busy']:\n",
    "#         time.sleep(0.5)\n",
    "#     pulsedmasterlogic.toggle_pulse_generator(False)\n",
    "#     time.sleep(0.5)\n",
    "    # perform refocus\n",
    "    scannerlogic.stop_scanning()\n",
    "    poimanagerlogic.go_to_poi(poi)\n",
    "    pos_start = scannerlogic.get_position()\n",
    "    setup['NV_name']=poimanagerlogic.poi_list[poi]._name\n",
    "    poimanagerlogic.optimise_poi(poi)\n",
    "    while optimizerlogic.module_state()  == 'idle':\n",
    "        time.sleep(0.2)\n",
    "    while optimizerlogic.module_state()  != 'idle':\n",
    "        time.sleep(0.2)\n",
    "    time.sleep(5)\n",
    "    pos_end=scannerlogic.get_position()\n",
    "    print(counterlogic.countdata.mean(),abs(pos_end[0]-pos_start[0]))\n",
    "    if (abs(pos_end[0]-pos_start[0])>max_drift or abs(pos_end[1]-pos_start[1])>max_drift or \n",
    "       abs(pos_end[2]-pos_start[2])>max_drift or counterlogic.countdata.mean()<min_counts):\n",
    "        scannerlogic.set_position('',x=pos_start[0],y=pos_start[1],z=pos_start[2])\n",
    "        poimanagerlogic.set_new_position(poi,pos_start)\n",
    "        print(abs(pos_end[0]-pos_start[0])>max_drift or abs(pos_end[1]-pos_start[1])>max_drift or \n",
    "       abs(pos_end[2]-pos_start[2])>max_drift or counterlogic.countdata.mean()<min_counts)\n",
    "        return False\n",
    "        write_to_logfile('PositionRefocus_log', str(datetime.datetime.now()),name= setup['NV_name'], \n",
    "                     x_pos=pos_start[0], y_pos=pos_start[1], z_pos=pos_start[2],sucess=0)\n",
    "    write_to_logfile('PositionRefocus_log', str(datetime.datetime.now()),name= setup['NV_name'], \n",
    "                     x_pos=pos_end[0], y_pos=pos_end[1], z_pos=pos_end[2],sucess=1)\n",
    "    return True\n",
    "\n",
    "def do_hh_tau(save_tag='',load_tag=''):\n",
    "    \n",
    "    pulsedmasterlogic.do_fit('No Fit')\n",
    "    tau_arr = hh_tau['tau_start'] + np.arange(hh_tau['points']) * hh_tau['tau_incr']\n",
    "    # set parameters in analysis tab\n",
    "    if hh_tau['alternating']:\n",
    "        pulsedmasterlogic.measurement_sequence_settings_changed(tau_arr, 2*hh_tau['points'], 100e-6, [], hh_tau['alternating'])\n",
    "    else:\n",
    "        pulsedmasterlogic.measurement_sequence_settings_changed(tau_arr, hh_tau['points'], 100e-6, [], hh_tau['alternating'])\n",
    "    pulsedmasterlogic.fast_counter_settings_changed(setup['fc_binwidth'], setup['laser_length']+0.2e-6)\n",
    "    pulsedmasterlogic.analysis_interval_changed(1)\n",
    "    pulsedmeasurementlogic.measurement_tag = save_tag\n",
    "    # perform measurement\n",
    "    pulsedmasterlogic.start_measurement(load_tag)\n",
    "    while not pulsedmasterlogic.status_dict['measurement_running']:\n",
    "        time.sleep(0.5)\n",
    "    user_terminated = False\n",
    "    start_time = time.time()\n",
    "    while time.time() - start_time < hh_tau['measurement_time']:\n",
    "        if not pulsedmasterlogic.status_dict['measurement_running']:\n",
    "            user_terminated = True\n",
    "            break\n",
    "        time.sleep(0.5)\n",
    "    pulsedmasterlogic.stop_measurement(save_tag)\n",
    "    while pulsedmasterlogic.status_dict['measurement_running']:\n",
    "        time.sleep(0.5)\n",
    "    if save_tag=='':\n",
    "        pulsedmasterlogic.save_measurement_data('s','SpinLocking-'+str(hh_tau['order'])+'_'+setup['NV_name'],True)\n",
    "    \n",
    "    time.sleep(2)\n",
    "    return user_terminated\n",
    "\n",
    "def do_hh_tau_refocus(poi):\n",
    "    end_measure=False\n",
    "    #refocus_poi(poi)\n",
    "    hh_tau_total_time = hh_tau['measurement_time']\n",
    "    hh_tau_runtime = 0.0\n",
    "    hh_tau['measurement_time'] = hh_tau['refocus_interval']\n",
    "    end_measure = do_hh_tau('hh_tau_refocus','')\n",
    "    hh_tau_runtime += hh_tau['refocus_interval']\n",
    "    while hh_tau_total_time > hh_tau_runtime:\n",
    "        for i in range(1):\n",
    "            end_measure= not refocus_poi(poi)\n",
    "            if not end_measure:\n",
    "                break\n",
    "        if end_measure:\n",
    "            break\n",
    "        end_measure = do_hh_tau('hh_tau_refocus', 'hh_tau_refocus')\n",
    "        hh_tau_runtime += hh_tau['refocus_interval']\n",
    "        if end_measure:\n",
    "            break\n",
    "    hh_tau['measurement_time'] = hh_tau_total_time\n",
    "    # save measurement\n",
    "    pulsedmasterlogic.save_measurement_data('s','WaitingSpinLocking'+'_'+str(hh_tau['spinlock_amp'])+'_'+setup['NV_name'],True)\n",
    "    write_to_logfile('hh_tau_log', str(datetime.datetime.now()),name= setup['NV_name'],runtime=hh_tau_runtime)\n",
    "    time.sleep(2)\n",
    "    return end_measure"
   ]
  },
  {
   "cell_type": "code",
   "execution_count": 6,
   "metadata": {
    "collapsed": true
   },
   "outputs": [],
   "source": [
    "mw_freq = 1392.82e+6 # in MHz\n",
    "mw_power = -15\n",
    "\n",
    "pulsedmeasurement._pa.ext_control_mw_freq_DoubleSpinBox.setValue(mw_freq-0.1e+9)\n",
    "pulsedmeasurement._pa.ext_control_mw_power_DoubleSpinBox.setValue(mw_power)\n",
    "pulsedmeasurement.ext_mw_params_changed()"
   ]
  },
  {
   "cell_type": "code",
   "execution_count": null,
   "metadata": {
    "collapsed": true
   },
   "outputs": [],
   "source": []
  }
 ],
 "metadata": {
  "kernelspec": {
   "display_name": "Qudi",
   "language": "python",
   "name": "qudi"
  },
  "language_info": {
   "codemirror_mode": {
    "name": "ipython",
    "version": "3.6.5"
   },
   "file_extension": ".py",
   "mimetype": "text/x-python",
   "name": "python",
   "nbconvert_exporter": "python",
   "pygments_lexer": "ipython3",
   "version": "3.6.5"
  }
 },
 "nbformat": 4,
 "nbformat_minor": 2
}
