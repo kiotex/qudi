{
 "cells": [
  {
   "cell_type": "markdown",
   "metadata": {},
   "source": [
    "# T1 and T2 measurements"
   ]
  },
  {
   "cell_type": "code",
   "execution_count": 1,
   "metadata": {
    "collapsed": true
   },
   "outputs": [],
   "source": [
    "from collections import OrderedDict\n",
    "import datetime\n",
    "import numpy as np\n",
    "import time\n",
    "import os"
   ]
  },
  {
   "cell_type": "code",
   "execution_count": 2,
   "metadata": {
    "collapsed": false
   },
   "outputs": [],
   "source": [
    "try: \n",
    "    pulsedmasterlogic\n",
    "except NameError:\n",
    "    manager.startModule('logic', 'pulsedmasterlogic')\n",
    "try: \n",
    "    scannerlogic\n",
    "except NameError:\n",
    "    manager.startModule('logic', 'scannerlogic')\n",
    "try: \n",
    "    optimizerlogic\n",
    "except NameError:\n",
    "    manager.startModule('logic', 'optimizerlogic')\n",
    "try:\n",
    "    sequencegeneratorlogic\n",
    "except NameError:\n",
    "    manager.startModule('logic', 'sequencegeneratorlogic')\n",
    "try:\n",
    "    pulsedmeasurement\n",
    "except NameError:\n",
    "    manager.startModule('gui', 'pulsedmeasurement')   \n",
    "try:\n",
    "    poimanagerlogic\n",
    "except NameError:\n",
    "    manager.startModule('logic', 'poimaganerlogic')    "
   ]
  },
  {
   "cell_type": "code",
   "execution_count": 3,
   "metadata": {
    "collapsed": true
   },
   "outputs": [],
   "source": [
    "def write_to_logfile(nametag, timestamp, name, **kwargs):\n",
    "    \"\"\" Write parameters to custom logfile with name nametag \"\"\"\n",
    "    if type(timestamp) is not str:\n",
    "        timestamp = str(timestamp)\n",
    "    parameters = list(kwargs)\n",
    "    if len(parameters) == 1 and type(kwargs[parameters[0]]) is OrderedDict:\n",
    "        param_dict = kwargs[parameters[0]]\n",
    "        parameters = list(param_dict)\n",
    "        kwargs = param_dict\n",
    "    log_dir = pulsedmeasurement._save_logic.get_path_for_module('CustomLogfiles')\n",
    "    log_path = os.path.join(log_dir, nametag + '.txt')\n",
    "    if not os.path.isfile(log_path):\n",
    "        with open(log_path, 'w') as logfile:\n",
    "            logfile.write('# timestamp\\t')\n",
    "            logfile.write('# Name\\t')\n",
    "            for param in parameters:\n",
    "                logfile.write(param + '\\t')\n",
    "            logfile.write('\\n#\\n')\n",
    "    with open(log_path, 'a') as logfile:\n",
    "        logfile.write(timestamp + '\\t')\n",
    "        logfile.write(name + '\\t')\n",
    "        for param in parameters:\n",
    "            logfile.write('{0:3.6e}\\t'.format(kwargs[param]))\n",
    "        logfile.write('\\n')\n",
    "    return"
   ]
  },
  {
   "cell_type": "code",
   "execution_count": 4,
   "metadata": {
    "collapsed": false
   },
   "outputs": [],
   "source": [
    "# static hardware parameters:\n",
    "setup = OrderedDict()\n",
    "setup['sampling_freq'] = pulsedmeasurementlogic.sample_rate\n",
    "setup['fc_binwidth'] = pulsedmeasurementlogic.fast_counter_binwidth\n",
    "setup['wait_length'] = 1.5e-6\n",
    "setup['aom_delay'] = 500e-9\n",
    "#setup['channel_config_name'] = pulsedmeasurement.current_channel_config_name\n",
    "setup['seq_trig']=''\n",
    "setup['gate']='d_ch2'\n",
    "setup['NV_name']='NV1'\n",
    "setup['poi'] = poimanagerlogic.active_poi.get_key()\n",
    "setup['laser_length'] = 3.0e-6\n",
    "setup[\"min_counts\"] = 10000 # if after a refocus only 40kcounts are measured the refocus is repeated up to max 3 times\n",
    "# Set amplitude in logic and pulser hardware:\n",
    "amp_dict = OrderedDict()\n",
    "amp_dict['a_ch1'] = 0.25\n",
    "amp_dict['a_ch2'] = 0.0\n",
    "AWG5014C.amplitude_dict = amp_dict\n",
    "#pulsedmaster.pulse_generator_settings_changed(setup['sampling_freq'], setup['channel_config_name'], amp_dict, False)"
   ]
  },
  {
   "cell_type": "code",
   "execution_count": 11,
   "metadata": {
    "collapsed": true
   },
   "outputs": [],
   "source": [
    "# for T2:\n",
    "T2 = OrderedDict()\n",
    "T2['tau_start'] = 300e-9\n",
    "T2['tau_step'] = 0.1e-6\n",
    "T2['number_of_taus'] = 20\n",
    "T2['measurement_time'] = 10*60\n",
    "T2['refocus_interval'] = 3*60\n",
    "T2['alternating']=True\n",
    "T2['rabi_period'] = 200.0*1e-9"
   ]
  },
  {
   "cell_type": "code",
   "execution_count": 12,
   "metadata": {
    "collapsed": false,
    "scrolled": false
   },
   "outputs": [
    {
     "name": "stdout",
     "output_type": "stream",
     "text": [
      "145572.666667 2.4323849535674152e-08\n"
     ]
    },
    {
     "name": "stderr",
     "output_type": "stream",
     "text": [
      "Traceback (most recent call last):\n",
      "  File \"C:\\Users\\pi3\\Documents\\GitHub\\qudi\\logic\\jupyterkernel\\qzmqkernel.py\", line 795, in run_code\n",
      "    exec(code_obj, self.user_global_ns, self.user_ns)\n",
      "  File \"<ipython-input-12-7b63ca150278>\", line 1, in <module>\n",
      "    do_hahn_echo_refocus(setup['poi'])\n",
      "  File \"<ipython-input-5-4fbe24e7b2d4>\", line 23, in do_hahn_echo_refocus\n",
      "    pulsedmasterlogic.save_measurement_data('s','T2'+'_'+setup['NV_name'],True)\n",
      "TypeError: save_measurement_data() missing 1 required positional argument: 'save_second_plot'\n"
     ]
    }
   ],
   "source": [
    "do_hahn_echo_refocus(setup['poi'])"
   ]
  },
  {
   "cell_type": "code",
   "execution_count": null,
   "metadata": {
    "collapsed": true
   },
   "outputs": [],
   "source": [
    "mw_freq = 1392.82e+6 # in MHz\n",
    "mw_power = -15\n",
    "\n",
    "pulsedmeasurement._pa.ext_control_mw_freq_DoubleSpinBox.setValue(mw_freq-0.1e+9)\n",
    "pulsedmeasurement._pa.ext_control_mw_power_DoubleSpinBox.setValue(mw_power)\n",
    "pulsedmeasurement.ext_mw_params_changed()"
   ]
  },
  {
   "cell_type": "code",
   "execution_count": 8,
   "metadata": {
    "collapsed": false
   },
   "outputs": [],
   "source": [
    "# for T1:\n",
    "T1 = OrderedDict()\n",
    "T1['tau_start'] = 300e-9\n",
    "T1['tau_step'] = 200.0e-6\n",
    "T1['number_of_taus'] = 10\n",
    "T1['measurement_time'] = 120*60\n",
    "T1['refocus_interval'] = 2*60\n",
    "T1['alternating']=True\n",
    "T1['rabi_period'] = 170.8*1e-9"
   ]
  },
  {
   "cell_type": "code",
   "execution_count": 9,
   "metadata": {
    "collapsed": false
   },
   "outputs": [
    {
     "name": "stdout",
     "output_type": "stream",
     "text": [
      "<logic.pulse_objects.PulseSequence object at 0x00000237AFC561D0>\n"
     ]
    }
   ],
   "source": [
    "# generate new_T1 sequence\n",
    "sequencegeneratorlogic.delete_sequence('T1 sequence')    \n",
    "sequencegeneratorlogic.generate_T1_sequence('T1 sequence', T1['rabi_period'], 100.0e6, 0.25,\n",
    "                              T1['tau_start'], T1['tau_step'], T1['number_of_taus'], 'a_ch1',\n",
    "                                                      3.0e-6, 2.0, 0.7e-6, 1.0e-6, '', 'd_ch2')\n",
    "# sample, upload and load waveform\n",
    "if 'T1 sequence' not in sequencegeneratorlogic.saved_pulse_sequences:\n",
    "    sequencegeneratorlogic.log.error('Sequence generation of T1 in notebook timed out.')\n",
    "pulsedmasterlogic.sample_sequence('T1 sequence', True)\n",
    "\n",
    "\n",
    "while pulsedmasterlogic.status_dict['sauplo_sequence_busy'] or pulsedmasterlogic.status_dict['loading_busy']:\n",
    "        time.sleep(5)\n",
    "\n",
    "import winsound\n",
    "frequency = 300  # Set Frequency To 2500 Hertz\n",
    "duration = 1000  # Set Duration To 1000 ms == 1 second\n",
    "winsound.Beep(frequency, duration)"
   ]
  },
  {
   "cell_type": "code",
   "execution_count": 13,
   "metadata": {
    "collapsed": false,
    "scrolled": false
   },
   "outputs": [
    {
     "name": "stdout",
     "output_type": "stream",
     "text": [
      "133706.5 6.951536562590279e-08\n"
     ]
    },
    {
     "data": {
      "text/plain": [
       "True"
      ]
     },
     "execution_count": 13,
     "metadata": {},
     "output_type": "execute_result"
    }
   ],
   "source": [
    "setup['poi'] = poimanagerlogic.active_poi.get_key()\n",
    "refocus_poi(setup['poi'])"
   ]
  },
  {
   "cell_type": "code",
   "execution_count": 14,
   "metadata": {
    "collapsed": false,
    "scrolled": true
   },
   "outputs": [
    {
     "name": "stdout",
     "output_type": "stream",
     "text": [
      "133706.5 1.8102970199145344e-08\n",
      "133706.5 1.6780942460249855e-08\n",
      "133706.5 1.5740057533723562e-08\n",
      "133706.5 1.356398696753162e-08\n",
      "133706.5 9.935278828606558e-09\n",
      "133706.5 1.822696569895674e-08\n",
      "133706.5 1.44046196403037e-08\n",
      "133706.5 1.33093440482118e-08\n",
      "133706.5 9.416254554705947e-09\n",
      "133706.5 1.2302702349920036e-08\n",
      "133706.5 1.5666257408566774e-08\n",
      "133706.5 1.776429674856382e-08\n",
      "133706.5 1.0234727265905454e-08\n",
      "133706.5 1.2227021617134803e-08\n",
      "133706.5 1.2619837949558193e-08\n",
      "133706.5 1.3307840297210313e-08\n",
      "133706.5 1.2543449541118365e-08\n",
      "133706.5 1.1481309896401923e-08\n",
      "133706.5 9.632729771337332e-09\n",
      "133706.5 1.3099824601992379e-08\n",
      "133706.5 1.277170534240234e-08\n",
      "133706.5 9.842524576363554e-09\n",
      "133706.5 1.2441663852320254e-08\n",
      "133706.5 1.1498143306830436e-08\n",
      "133706.5 7.338753268845916e-09\n",
      "133706.5 1.5392662629257973e-08\n",
      "133706.5 1.5127678255245648e-08\n",
      "133706.5 1.1729016305375326e-08\n",
      "133706.5 1.1198821335660369e-08\n",
      "133706.5 1.736182867358014e-08\n",
      "133706.5 9.582585690209579e-09\n",
      "133706.5 1.0441711286252395e-08\n",
      "133706.5 9.866942501971464e-09\n",
      "133706.5 1.825412082718687e-08\n",
      "133706.5 9.685510170231011e-09\n",
      "133706.5 1.5370078447493412e-08\n",
      "133706.5 1.1238389936721262e-08\n",
      "133706.5 1.4690981588485715e-08\n",
      "133706.5 1.2430540864139108e-08\n",
      "133706.5 1.8910369919774195e-08\n",
      "133706.5 4.827894973007189e-09\n",
      "133706.5 1.446988873690899e-08\n",
      "133706.5 1.2657421510069183e-08\n",
      "133706.5 6.138663742651378e-09\n",
      "133706.5 2.311343437084041e-08\n",
      "133706.5 1.0753524891546579e-08\n",
      "133706.5 1.0379384292303983e-08\n",
      "133706.5 1.0181993626832048e-08\n",
      "133706.5 1.299465388516775e-08\n",
      "133706.5 1.315372553252188e-08\n",
      "133706.5 1.2152809944344207e-08\n",
      "133706.5 1.2874039678319941e-08\n",
      "133706.5 9.257833558444473e-09\n",
      "133706.5 9.955611343941042e-09\n",
      "133706.5 1.4200648290026228e-08\n",
      "133706.5 9.442937448407037e-09\n",
      "133706.5 6.260554803426952e-09\n",
      "133706.5 1.119552709612169e-08\n",
      "133706.5 1.1087350852280155e-08\n"
     ]
    },
    {
     "data": {
      "text/plain": [
       "False"
      ]
     },
     "execution_count": 14,
     "metadata": {},
     "output_type": "execute_result"
    }
   ],
   "source": [
    "do_T1_refocus(setup['poi'])"
   ]
  },
  {
   "cell_type": "code",
   "execution_count": 6,
   "metadata": {
    "collapsed": false
   },
   "outputs": [],
   "source": [
    "def refocus_position():\n",
    "    # switch on laser\n",
    "    pulsedmasterlogic.load_asset_into_channels('Laser_On')\n",
    "    while pulsedmasterlogic.status_dict['loading_busy']:\n",
    "        time.sleep(0.5)\n",
    "    pulsedmaster.toggle_pulse_generator(True)\n",
    "    # perform refocus\n",
    "    scanner.stop_scanning()\n",
    "    crosshair_pos = scanner.get_position()\n",
    "    optimizer.start_refocus(initial_pos=crosshair_pos)\n",
    "    while optimizer.module_state() == 'idle':\n",
    "        time.sleep(0.2)\n",
    "    while optimizer.module_state() != 'idle':\n",
    "        time.sleep(0.2)\n",
    "    scanner.set_position('optimizer', x=optimizer.optim_pos_x, y=optimizer.optim_pos_y, z=optimizer.optim_pos_z, a=0.0)\n",
    "    time.sleep(1)\n",
    "    # switch off laser\n",
    "    pulsedmaster.toggle_pulse_generator(False)\n",
    "    \n",
    "    # write new position to log file return\n",
    "    timestamp = str(datetime.datetime.now())\n",
    "    new_x = optimizer.optim_pos_x\n",
    "    new_y = optimizer.optim_pos_y\n",
    "    new_z = optimizer.optim_pos_z\n",
    "#    drift = np.sqrt((new_x-position['x'])**2 + (new_y-position['y'])**2 + (new_z-position['z'])**2)\n",
    "    write_to_logfile('PositionRefocus_log', str(datetime.datetime.now()),name= setup['NV_name'], \n",
    "                     x_pos=new_x, y_pos=new_y, z_pos=new_z)\n",
    "    return new_x, new_y, new_z\n",
    "\n",
    "def refocus_poi(poi=None, max_drift=0.3,min_counts=setup[\"min_counts\"]):\n",
    "    if poi==None:\n",
    "        return False\n",
    "    scannerlogic.stop_scanning()\n",
    "    poimanagerlogic.go_to_poi(poi)\n",
    "    pos_start = scannerlogic.get_position()\n",
    "    setup['NV_name']=poimanagerlogic.poi_list[poi]._name\n",
    "    poimanagerlogic.optimise_poi(poi)\n",
    "    while optimizerlogic.module_state() == 'idle':\n",
    "        time.sleep(0.2)\n",
    "    while optimizerlogic.module_state() != 'idle':\n",
    "        time.sleep(0.2)\n",
    "    time.sleep(5)\n",
    "    pos_end=scannerlogic.get_position()\n",
    "    print(counterlogic.countdata.mean(),abs(pos_end[0]-pos_start[0]))\n",
    "    if (abs(pos_end[0]-pos_start[0])>max_drift or abs(pos_end[1]-pos_start[1])>max_drift or \n",
    "       abs(pos_end[2]-pos_start[2])>max_drift or counterlogic.countdata.mean()<min_counts):\n",
    "        scannerlogic.set_position('',x=pos_start[0],y=pos_start[1],z=pos_start[2])\n",
    "        poimanagerlogic.set_new_position(poi,pos_start)\n",
    "        print(abs(pos_end[0]-pos_start[0])>max_drift or abs(pos_end[1]-pos_start[1])>max_drift or \n",
    "       abs(pos_end[2]-pos_start[2])>max_drift or counterlogic.countdata.mean()<min_counts)\n",
    "        return False\n",
    "        write_to_logfile('PositionRefocus_log', str(datetime.datetime.now()),name= setup['NV_name'], \n",
    "                     x_pos=pos_start[0], y_pos=pos_start[1], z_pos=pos_start[2],sucess=0)\n",
    "    write_to_logfile('PositionRefocus_log', str(datetime.datetime.now()),name= setup['NV_name'], \n",
    "                     x_pos=pos_end[0], y_pos=pos_end[1], z_pos=pos_end[2],sucess=1)\n",
    "    return True\n",
    "\n",
    "def do_hahn_echo(generate_new=True, save_tag='',load_tag=''):\n",
    "    # sanity check for long sequences:\n",
    "    if T2['tau_start']+T2['tau_step']*T2['number_of_taus'] > 50e-3 :\n",
    "        print(\"Waveform exceeds 3 ms too long for AWG7112\")\n",
    "        return True,0,0,0,0\n",
    "    # generate ensemble object\n",
    "    tau_arr = T2['tau_start']+T2['tau_step']*np.arange(T2['number_of_taus']) \n",
    "    tau_arr = 2*tau_arr # now it is full evolution time\n",
    "    if generate_new:\n",
    "        sequencegeneratorlogic.delete_ensemble('hahn_echo')\n",
    "        sequencegeneratorlogic.generate_Hahn_echo('hahn_echo', T2['rabi_period'], 100.0e6, 0.25,\n",
    "                      T2['tau_start'], T2['tau_step'], T2['number_of_taus'], 'a_ch1',\n",
    "                      3.0e-6, 2.0, 0.7e-6, 1.0e-6, '', 'd_ch2')\n",
    "        # sample, upload and load waveform\n",
    "        if 'hahn_echo' not in sequencegeneratorlogic.saved_pulse_block_ensembles:\n",
    "            sequencegeneratorlogic.log.error('Ensemble generation of Hahn echo in notebook timed out.')\n",
    "            return\n",
    "        pulsedmasterlogic.sample_block_ensemble('hahn_echo', True)\n",
    "        \n",
    "    else:\n",
    "        pulsedmasterlogic.load_asset_into_channels('hahn_echo')\n",
    "    while pulsedmasterlogic.status_dict['sauplo_ensemble_busy'] or pulsedmasterlogic.status_dict['loading_busy']:\n",
    "        time.sleep(5.0)\n",
    "    pulsedmasterlogic.do_fit('No Fit')\n",
    "    \n",
    "    # set parameters in analysis tab\n",
    "    if T2['alternating']:\n",
    "        pulsedmasterlogic.measurement_sequence_settings_changed(tau_arr, 2*T2['number_of_taus'], 100e-6, [], T2['alternating'])\n",
    "    else:\n",
    "        pulsedmasterlogic.measurement_sequence_settings_changed(tau_arr, T2['number_of_taus'], 100e-6, [], T2['alternating'])\n",
    "    pulsedmasterlogic.fast_counter_settings_changed(setup['fc_binwidth'], setup['laser_length']+0.21e-6)\n",
    "    pulsedmasterlogic.analysis_interval_changed(1)\n",
    "    pulsedmeasurementlogic.measurement_tag = save_tag\n",
    "    # perform measurement\n",
    "    pulsedmasterlogic.start_measurement(load_tag)\n",
    "    while not pulsedmasterlogic.status_dict['measurement_running']:\n",
    "        time.sleep(0.5)\n",
    "    user_terminated = False\n",
    "    start_time = time.time()\n",
    "    while time.time() - start_time < T2['measurement_time']:\n",
    "        if not pulsedmasterlogic.status_dict['measurement_running']:\n",
    "            user_terminated = True\n",
    "            break\n",
    "        time.sleep(0.5)\n",
    "    pulsedmasterlogic.stop_measurement(save_tag)\n",
    "    while pulsedmasterlogic.status_dict['measurement_running']:\n",
    "        time.sleep(0.5)\n",
    "    if save_tag=='':\n",
    "        pulsedmasterlogic.save_measurement_data('s','T2'+'_'+setup['NV_name'],True)\n",
    "    \n",
    "    time.sleep(2)\n",
    "    return user_terminated\n",
    "\n",
    "def do_T1(save_tag='',load_tag=''):\n",
    "    \n",
    "    # generate sequence object\n",
    "    tau_arr = T1['tau_start']+T1['tau_step']*np.arange(T1['number_of_taus'])\n",
    "    pulsedmasterlogic.do_fit('No Fit')\n",
    "    # set parameters in analysis tab\n",
    "    if T1['alternating']:\n",
    "        pulsedmasterlogic.measurement_sequence_settings_changed(tau_arr, 2*T1['number_of_taus'], 100e-6, [], T1['alternating'])\n",
    "    else:\n",
    "        pulsedmasterlogic.measurement_sequence_settings_changed(tau_arr, T1['number_of_taus'], 100e-6, [], T1['alternating'])\n",
    "    pulsedmasterlogic.fast_counter_settings_changed(setup['fc_binwidth'], setup['laser_length']+0.21e-6)\n",
    "    pulsedmasterlogic.analysis_interval_changed(1)\n",
    "    pulsedmeasurementlogic.measurement_tag = save_tag\n",
    "    # perform measurement\n",
    "    pulsedmasterlogic.start_measurement(load_tag)\n",
    "    while not pulsedmasterlogic.status_dict['measurement_running']:\n",
    "        time.sleep(0.5)\n",
    "    user_terminated = False\n",
    "    start_time = time.time()\n",
    "    while time.time() - start_time < T1['measurement_time']:\n",
    "        if not pulsedmasterlogic.status_dict['measurement_running']:\n",
    "            user_terminated = True\n",
    "            break\n",
    "        time.sleep(0.5)\n",
    "    pulsedmasterlogic.stop_measurement(save_tag)\n",
    "    while pulsedmasterlogic.status_dict['measurement_running']:\n",
    "        time.sleep(0.5)\n",
    "    if save_tag=='':\n",
    "        pulsedmasterlogic.save_measurement_data('s','T1'+'_'+setup['NV_name'],True)\n",
    "    \n",
    "    time.sleep(2)\n",
    "    return user_terminated"
   ]
  },
  {
   "cell_type": "code",
   "execution_count": 11,
   "metadata": {
    "collapsed": true
   },
   "outputs": [],
   "source": [
    "# load saved T1 sequence\n",
    "pulsedmasterlogic.load_asset_into_channels('T1 sequence')"
   ]
  },
  {
   "cell_type": "markdown",
   "metadata": {},
   "source": [
    "## refocus methods"
   ]
  },
  {
   "cell_type": "code",
   "execution_count": 13,
   "metadata": {
    "collapsed": false
   },
   "outputs": [],
   "source": [
    "def do_hahn_echo_refocus(poi):\n",
    "    end_measure=False\n",
    "    T2_total_time = T2['measurement_time']\n",
    "    T2_runtime = 0.0\n",
    "    T2['measurement_time'] = T2['refocus_interval']\n",
    "    end_measure = do_hahn_echo(True, 'hahn_echo_refocus','')\n",
    "    T2_runtime += T2['refocus_interval']\n",
    "\n",
    "    while T2_total_time > T2_runtime:\n",
    "        for i in range(1):\n",
    "            end_measure = not refocus_poi(poi)\n",
    "#             pulsedmasterlogic.toggle_pulse_generator(True)\n",
    "            if not end_measure:\n",
    "                break\n",
    "        if end_measure:\n",
    "            break\n",
    "        end_measure = do_hahn_echo(False, 'hahn_echo_refocus', 'hahn_echo_refocus')\n",
    "        T2_runtime += T2['refocus_interval']\n",
    "        if end_measure:\n",
    "            break\n",
    "    T2['measurement_time'] = T2_total_time\n",
    "    # save measurement\n",
    "    pulsedmasterlogic.save_measurement_data('s','T2'+'_'+setup['NV_name'],True, False)\n",
    "    write_to_logfile('T2_log', str(datetime.datetime.now()),name= setup['NV_name'], runtime=T2_runtime)\n",
    "    time.sleep(2)\n",
    "    return end_measure\n",
    "\n",
    "def do_T1_refocus(poi):\n",
    "    end_measure=False\n",
    "    T1_total_time = T1['measurement_time']\n",
    "    T1_runtime = 0.0\n",
    "    T1['measurement_time'] = T1['refocus_interval']\n",
    "    end_measure = do_T1('T1_refocus','')\n",
    "    T1_runtime += T1['refocus_interval']\n",
    "\n",
    "    while T1_total_time > T1_runtime:\n",
    "        for i in range(1):\n",
    "            end_measure = not refocus_poi(poi)\n",
    "#             pulsedmasterlogic.toggle_pulse_generator(True)\n",
    "            if not end_measure:\n",
    "                break\n",
    "        if end_measure:\n",
    "            break\n",
    "        end_measure = do_T1('T1_refocus', 'T1_refocus')\n",
    "        T1_runtime += T1['refocus_interval']\n",
    "        if end_measure:\n",
    "            break\n",
    "    T1['measurement_time'] = T1_total_time\n",
    "    # save measurement\n",
    "    pulsedmasterlogic.save_measurement_data('s','T1'+'_'+setup['NV_name'],True)\n",
    "    write_to_logfile('T1_log', str(datetime.datetime.now()),name= setup['NV_name'], runtime=T1_runtime)\n",
    "    time.sleep(2)\n",
    "    return end_measure"
   ]
  },
  {
   "cell_type": "code",
   "execution_count": 44,
   "metadata": {
    "collapsed": false
   },
   "outputs": [
    {
     "data": {
      "text/plain": [
       "False"
      ]
     },
     "execution_count": 44,
     "metadata": {},
     "output_type": "execute_result"
    }
   ],
   "source": [
    "do_hahn_echo(False, 'hahn_echo_refocus', 'hahn_echo_refocus')"
   ]
  },
  {
   "cell_type": "code",
   "execution_count": 12,
   "metadata": {
    "collapsed": false,
    "scrolled": true
   },
   "outputs": [
    {
     "name": "stderr",
     "output_type": "stream",
     "text": [
      "Traceback (most recent call last):\n",
      "  File \"C:\\Users\\pi3\\Documents\\GitHub\\qudi\\logic\\jupyterkernel\\qzmqkernel.py\", line 795, in run_code\n",
      "    exec(code_obj, self.user_global_ns, self.user_ns)\n",
      "  File \"<ipython-input-12-d2073d982b51>\", line 1, in <module>\n",
      "    do_T1()\n",
      "  File \"<ipython-input-6-c4f6a43fb6e5>\", line 120, in do_T1\n",
      "    tau_arr = T1['tau_start']+T1['tau_step']*np.arange(T1['number_of_taus'])\n",
      "NameError: name 'T1' is not defined\n"
     ]
    }
   ],
   "source": [
    "do_T1()"
   ]
  },
  {
   "cell_type": "code",
   "execution_count": 9,
   "metadata": {
    "collapsed": false
   },
   "outputs": [
    {
     "data": {
      "text/plain": [
       "<class 'float'>"
      ]
     },
     "execution_count": 9,
     "metadata": {},
     "output_type": "execute_result"
    }
   ],
   "source": [
    "type(T1['rabi_period'])"
   ]
  },
  {
   "cell_type": "code",
   "execution_count": null,
   "metadata": {
    "collapsed": true
   },
   "outputs": [],
   "source": []
  }
 ],
 "metadata": {
  "kernelspec": {
   "display_name": "Qudi",
   "language": "python",
   "name": "qudi"
  },
  "language_info": {
   "codemirror_mode": {
    "name": "ipython",
    "version": "3.6.0"
   },
   "file_extension": ".py",
   "mimetype": "text/x-python",
   "name": "python",
   "nbconvert_exporter": "python",
   "pygments_lexer": "ipython3",
   "version": "3.6.0"
  }
 },
 "nbformat": 4,
 "nbformat_minor": 2
}
