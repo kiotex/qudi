{
 "cells": [
  {
   "cell_type": "code",
   "execution_count": 1,
   "metadata": {
    "collapsed": true
   },
   "outputs": [],
   "source": [
    "import os\n",
    "\n",
    "def cls():\n",
    "    os.system(['clear','cls'][os.name == 'nt'])\n",
    "\n",
    "import numpy as np\n",
    "from mpl_toolkits.mplot3d import Axes3D\n",
    "import matplotlib.pyplot as plt\n",
    "import time\n",
    "import random\n",
    "\n",
    "from matplotlib import cm\n",
    "from matplotlib.ticker import LinearLocator, FormatStrFormatter"
   ]
  },
  {
   "cell_type": "code",
   "execution_count": 2,
   "metadata": {
    "collapsed": true
   },
   "outputs": [],
   "source": [
    "def square(list):\n",
    "    return [i ** 2 for i in list]\n",
    "\n",
    "def distr(N, r):\n",
    "    x=0\n",
    "    y=0\n",
    "    z=0\n",
    "    G=[]\n",
    "    M=[]\n",
    "    for i in range(int(N)):\n",
    "        x=random.uniform(-r/2, r/2)\n",
    "        y=random.uniform(-r/2, r/2)\n",
    "        z=random.uniform(0, r)\n",
    "        G.append([x, y, z])\n",
    "    a=[]\n",
    "    for j in range(len(G)):  \n",
    "        a.append(np.sqrt(G[j][0]**2+G[j][1]**2+G[j][2]**2))\n",
    "    \n",
    "    for k in range(int(N)):  \n",
    "            \n",
    "        val, idx = min((val, idx) for (idx, val) in enumerate(a))\n",
    "        M.append(G[idx])\n",
    "        G.remove(G[idx])\n",
    "        a.remove(a[idx])\n",
    "       \n",
    "    return M"
   ]
  },
  {
   "cell_type": "code",
   "execution_count": 20,
   "metadata": {},
   "outputs": [
    {
     "name": "stdout",
     "output_type": "stream",
     "text": [
      "2209.91671701\n"
     ]
    },
    {
     "data": {
      "image/png": "[encoded data removed]"
     },
     "metadata": {
      "image/png": {
       "height": 413,
       "width": 636
      }
     },
     "output_type": "display_data"
    }
   ],
   "source": [
    "d=2.0*1e-9\n",
    "r=4*1e-9 \n",
    "\n",
    "g_H1=42.576*1e+6 \n",
    "mu_0=np.pi*4e-7 \n",
    "plank_constant=1.05457180013e-34 \n",
    "mu_p = 1.41060674333*1e-26 \n",
    "\n",
    "C=mu_0*mu_p/(4*np.pi)\n",
    "\n",
    "ex=np.array([1, 0, 0])/np.sqrt(3)\n",
    "ey=np.array([0, 1, 0])/np.sqrt(3)\n",
    "ez=np.array([0, 0, 1])/np.sqrt(3)\n",
    "\n",
    "rho=5*1e+28 \n",
    "\n",
    "Brms_H1=[]\n",
    "N=rho*r**3\n",
    "Brms=[]\n",
    "X=[]\n",
    "Y=[]\n",
    "Z=[]\n",
    "RR=[]\n",
    "\n",
    "H=distr(N, r)\n",
    "\n",
    "gamma=54.7*np.pi/180\n",
    "q=np.array([0, np.sin(gamma), np.cos(gamma)])\n",
    "\n",
    "for k in range(int(N)):\n",
    "\n",
    "    x=H[k][0]\n",
    "    y=H[k][1]\n",
    "    z=H[k][2]+d\n",
    "\n",
    "    X.append(x)\n",
    "    Y.append(y)\n",
    "    Z.append(z)\n",
    "\n",
    "    R=np.sqrt(x**2+y**2+z**2)\n",
    "    RR.append(R)\n",
    "\n",
    "    n=np.array([x, y, z])/R\n",
    "\n",
    "    G=3*(np.dot(n, q)**2)-1\n",
    "\n",
    "    Brms.append(C/(R**3))\n",
    "\n",
    "    M=np.sqrt(np.sum(square(Brms)))*1e+9\n",
    "    Brms_H1.append(M)\n",
    "\n",
    "Brms=(1/(8*np.sqrt(2*np.pi)))*mu_0*mu_p*np.sqrt(rho)/d**1.5\n",
    "\n",
    "fig = plt.figure()\n",
    "ax = fig.add_subplot(111)\n",
    "ax.grid(True)\n",
    "\n",
    "ax.plot(range(int(N)), Brms_H1, 'g-', linewidth=4., markersize=1.)\n",
    "\n",
    "ax.set_ylabel('Brms [nT]')\n",
    "ax.set_xlabel('N')\n",
    "\n",
    "for item in ([ax.title, ax.xaxis.label, ax.yaxis.label] + ax.get_yticklabels()+ ax.get_xticklabels()):\n",
    "    item.set_fontsize(30) \n",
    "plt.show()\n",
    "\n",
    "print(Brms*1e+9)"
   ]
  },
  {
   "cell_type": "code",
   "execution_count": 1,
   "metadata": {},
   "outputs": [
    {
     "name": "stdout",
     "output_type": "stream",
     "text": [
      "1.23764678351e-08\n"
     ]
    }
   ],
   "source": [
    "N=40000\n",
    "\n",
    "g_H1=42.576*1e+6*2*np.pi \n",
    "mu_0=np.pi*4e-7 \n",
    "plank_constant=1.05457180013e-34 \n",
    "mu_p = 1.41060674333*1e-26 \n",
    "gammaNV = 2.8*10**10*2*np.pi\n",
    "\n",
    "r=(mu_0*gammaNV*g_H1*plank_constant*np.sqrt(N)*120*1e-6/(8*np.pi**2))**(1/3)\n",
    "print(r)"
   ]
  },
  {
   "cell_type": "code",
   "execution_count": 59,
   "metadata": {},
   "outputs": [
    {
     "name": "stdout",
     "output_type": "stream",
     "text": [
      "52359.87755982989\n"
     ]
    }
   ],
   "source": [
    "A=2*np.pi/(120*1e-6)\n",
    "print(A)"
   ]
  },
  {
   "cell_type": "code",
   "execution_count": 60,
   "metadata": {},
   "outputs": [
    {
     "name": "stdout",
     "output_type": "stream",
     "text": [
      "4.80209133228e-26\n"
     ]
    }
   ],
   "source": [
    "r3 = mu_0*gammaNV*g_H1*plank_constant*np.sqrt(N)/(4*np.pi*A)\n",
    "print(r3)"
   ]
  },
  {
   "cell_type": "code",
   "execution_count": 61,
   "metadata": {},
   "outputs": [
    {
     "data": {
      "text/plain": [
       "3.6347689149933574e-09"
      ]
     },
     "execution_count": 61,
     "metadata": {},
     "output_type": "execute_result"
    }
   ],
   "source": [
    "r3**(1/3)"
   ]
  },
  {
   "cell_type": "code",
   "execution_count": 64,
   "metadata": {},
   "outputs": [
    {
     "name": "stdout",
     "output_type": "stream",
     "text": [
      "200.0\n"
     ]
    }
   ],
   "source": [
    "print(np.sqrt(N))"
   ]
  },
  {
   "cell_type": "code",
   "execution_count": null,
   "metadata": {
    "collapsed": true
   },
   "outputs": [],
   "source": []
  }
 ],
 "metadata": {
  "kernelspec": {
   "display_name": "Qudi",
   "language": "python",
   "name": "qudi"
  },
  "language_info": {
   "codemirror_mode": {
    "name": "ipython",
    "version": "3.6.5"
   },
   "file_extension": ".py",
   "mimetype": "text/x-python",
   "name": "python",
   "nbconvert_exporter": "python",
   "pygments_lexer": "ipython3",
   "version": "3.6.5"
  }
 },
 "nbformat": 4,
 "nbformat_minor": 2
}
