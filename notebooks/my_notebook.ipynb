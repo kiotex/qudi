{
 "cells": [
  {
   "cell_type": "markdown",
   "metadata": {},
   "source": [
    "# Import"
   ]
  },
  {
   "cell_type": "code",
   "execution_count": null,
   "metadata": {
    "collapsed": false
   },
   "outputs": [],
   "source": [
    "from collections import OrderedDict\n",
    "import datetime\n",
    "import numpy as np\n",
    "import time\n",
    "import os"
   ]
  },
  {
   "cell_type": "markdown",
   "metadata": {},
   "source": [
    "# Load modules"
   ]
  },
  {
   "cell_type": "code",
   "execution_count": null,
   "metadata": {
    "collapsed": false
   },
   "outputs": [],
   "source": [
    "try: \n",
    "    pulsedmaster\n",
    "except NameError:\n",
    "    manager.startModule('logic', 'pulsedmasterlogic')\n",
    "try: \n",
    "    scanner\n",
    "except NameError:\n",
    "    manager.startModule('logic', 'scannerlogic')\n",
    "try: \n",
    "    optimizer\n",
    "except NameError:\n",
    "    manager.startModule('logic', 'optimizerlogic')\n",
    "    \n",
    "try:\n",
    "    sequencegenerator\n",
    "except NameError:\n",
    "    manager.startModule('logic', 'sequencegeneratorlogic')\n",
    "    \n",
    "sequencegenerator = sequencegeneratorlogic\n",
    "pulsedmaster = pulsedmasterlogic\n",
    "pulsedmeasurement = pulsedmeasurementlogic"
   ]
  },
  {
   "cell_type": "markdown",
   "metadata": {},
   "source": [
    "# Method definitions"
   ]
  },
  {
   "cell_type": "markdown",
   "metadata": {},
   "source": [
    "### Utility methods:"
   ]
  },
  {
   "cell_type": "code",
   "execution_count": null,
   "metadata": {
    "collapsed": true
   },
   "outputs": [],
   "source": [
    "def write_to_logfile(nametag, timestamp,name, **kwargs):\n",
    "    \"\"\" Write parameters to custom logfile with name nametag \"\"\"\n",
    "    if type(timestamp) is not str:\n",
    "        timestamp = str(timestamp)\n",
    "    parameters = list(kwargs)\n",
    "    if len(parameters) == 1 and type(kwargs[parameters[0]]) is OrderedDict:\n",
    "        param_dict = kwargs[parameters[0]]\n",
    "        parameters = list(param_dict)\n",
    "        kwargs = param_dict\n",
    "    log_dir = pulsedmeasurement._save_logic.get_path_for_module('CustomLogfiles')\n",
    "    log_path = os.path.join(log_dir, nametag + '.txt')\n",
    "    if not os.path.isfile(log_path):\n",
    "        with open(log_path, 'w') as logfile:\n",
    "            logfile.write('# timestamp\\t')\n",
    "            logfile.write('# Name\\t')\n",
    "            for param in parameters:\n",
    "                logfile.write(param + '\\t')\n",
    "            logfile.write('\\n#\\n')\n",
    "    with open(log_path, 'a') as logfile:\n",
    "        logfile.write(timestamp + '\\t')\n",
    "        logfile.write(name + '\\t')\n",
    "        for param in parameters:\n",
    "            logfile.write('{0:3.6e}\\t'.format(kwargs[param]))\n",
    "        logfile.write('\\n')\n",
    "    return"
   ]
  },
  {
   "cell_type": "markdown",
   "metadata": {},
   "source": [
    "# Input parameters"
   ]
  },
  {
   "cell_type": "code",
   "execution_count": null,
   "metadata": {
    "collapsed": false
   },
   "outputs": [],
   "source": [
    "# static hardware parameters:\n",
    "setup = OrderedDict()\n",
    "setup['sampling_freq'] = pulsedmeasurementlogic.sample_rate\n",
    "setup['fc_binwidth'] = pulsedmeasurementlogic.fast_counter_binwidth\n",
    "setup['wait_length'] = 1.5e-6\n",
    "setup['aom_delay'] = 500e-9\n",
    "#setup['channel_config_name'] = pulsedmeasurement.current_channel_config_name\n",
    "setup['seq_trig']=''\n",
    "setup['gate']='d_ch2'\n",
    "setup['NV_name']='NV1'\n",
    "setup['poi']='poi_20170908_1920_43_092302'\n",
    "setup['laser_length'] = 3.0e-6\n",
    "setup[\"min_counts\"] = 40000 # if after a refocus only 40kcounts are measured the refocus is repeated up to max 3 times\n",
    "# Set amplitude in logic and pulser hardware:\n",
    "amp_dict = OrderedDict()\n",
    "amp_dict['a_ch1'] = 0.25\n",
    "amp_dict['a_ch2'] = 0.0\n",
    "AWG5014C.amplitude_dict = amp_dict\n",
    "#pulsedmaster.pulse_generator_settings_changed(setup['sampling_freq'], setup['channel_config_name'], amp_dict, False)\n",
    "\n",
    "# measurement start input parameters\n",
    "\n",
    "# for Rabi:\n",
    "rabi = OrderedDict()\n",
    "rabi['mw_amp'] = 0.25\n",
    "rabi['mw_freq'] = 100.0e6 \n",
    "rabi['tau_start'] = 300e-9\n",
    "rabi['tau_step'] = 10e-9\n",
    "rabi['number_of_taus'] = 60\n",
    "rabi['measurement_time'] = 30\n",
    "\n",
    "\n",
    "# for single frequency XY8-N:\n",
    "xy8 = OrderedDict()\n",
    "xy8['mw_amp'] = 1.0\n",
    "xy8['mw_freq'] = 3980.34e6\n",
    "xy8['rabi_period'] = 32.743942*1e-9\n",
    "xy8['order'] = 4\n",
    "xy8['tau_start'] = 5154e-9\n",
    "xy8['tau_incr'] = 210e-9\n",
    "xy8['points'] = 8\n",
    "xy8['measurement_time'] = 7200\n",
    "xy8['refocus_interval'] = 600\n",
    "xy8['alternating']=True\n",
    "\n",
    "\n",
    "# for pulsed ODMR:\n",
    "odmr = OrderedDict()\n",
    "odmr['mw_amp'] = 0.05\n",
    "odmr['pi_length'] = 1./7.164e6/2.\n",
    "odmr['resonance_freq'] = 2002.5e6+2.15e6\n",
    "odmr['freq_res'] = 1e6\n",
    "odmr['points'] = 100\n",
    "odmr['measurement_time'] = 30\n",
    "#odmr['fit_function']='15N'\n",
    "odmr['fit_function']='Lorentian'\n",
    "#odmr['fit_function']='14N'"
   ]
  },
  {
   "cell_type": "markdown",
   "metadata": {},
   "source": [
    "### Measurement methods:"
   ]
  },
  {
   "cell_type": "code",
   "execution_count": null,
   "metadata": {
    "collapsed": false
   },
   "outputs": [],
   "source": [
    "def refocus_position():\n",
    "    # switch on laser\n",
    "    pulsedmaster.load_asset_into_channels('Laser_On')\n",
    "    while pulsedmaster.status_dict['loading_busy']:\n",
    "        time.sleep(0.5)\n",
    "    pulsedmaster.toggle_pulse_generator(True)\n",
    "    # perform refocus\n",
    "    scanner.stop_scanning()\n",
    "    crosshair_pos = scanner.get_position()\n",
    "    optimizer.start_refocus(initial_pos=crosshair_pos)\n",
    "    while optimizer.getState() == 'idle':\n",
    "        time.sleep(0.2)\n",
    "    while optimizer.getState() != 'idle':\n",
    "        time.sleep(0.2)\n",
    "    scanner.set_position('optimizer', x=optimizer.optim_pos_x, y=optimizer.optim_pos_y, z=optimizer.optim_pos_z, a=0.0)\n",
    "    time.sleep(1)\n",
    "    # switch off laser\n",
    "    pulsedmaster.toggle_pulse_generator(False)\n",
    "    \n",
    "    # write new position to log file return\n",
    "    timestamp = str(datetime.datetime.now())\n",
    "    new_x = optimizer.optim_pos_x\n",
    "    new_y = optimizer.optim_pos_y\n",
    "    new_z = optimizer.optim_pos_z\n",
    "#    drift = np.sqrt((new_x-position['x'])**2 + (new_y-position['y'])**2 + (new_z-position['z'])**2)\n",
    "    write_to_logfile('PositionRefocus_log', str(datetime.datetime.now()),name= setup['NV_name'], \n",
    "                     x_pos=new_x, y_pos=new_y, z_pos=new_z)\n",
    "    return new_x, new_y, new_z\n",
    "\n",
    "def refocus_poi(poi=None, max_drift=0.3,min_counts=setup[\"min_counts\"]):\n",
    "    if poi==None:\n",
    "        return False\n",
    "    pulsedmaster.load_asset_into_channels('Laser_On')\n",
    "    while pulsedmaster.status_dict['loading_busy']:\n",
    "        time.sleep(0.5)\n",
    "    pulsedmaster.toggle_pulse_generator(True)\n",
    "    # perform refocus\n",
    "    scanner.stop_scanning()\n",
    "    poimanager.go_to_poi(poi)\n",
    "    pos_start = scanner.get_position()\n",
    "    setup['NV_name']=poimanager.poi_list[poi]._name\n",
    "    poimanager.optimise_poi(poi)\n",
    "    while optimizer.getState() == 'idle':\n",
    "        time.sleep(0.2)\n",
    "    while optimizer.getState() != 'idle':\n",
    "        time.sleep(0.2)\n",
    "    time.sleep(5)\n",
    "    pos_end=scanner.get_position()\n",
    "    print(counter.countdata.mean(),abs(pos_end[0]-pos_start[0]))\n",
    "    if (abs(pos_end[0]-pos_start[0])>max_drift or abs(pos_end[1]-pos_start[1])>max_drift or \n",
    "       abs(pos_end[2]-pos_start[2])>max_drift or counter.countdata.mean()<min_counts):\n",
    "        scanner.set_position('',x=pos_start[0],y=pos_start[1],z=pos_start[2])\n",
    "        poimanager.set_new_position(poi,pos_start)\n",
    "        print(abs(pos_end[0]-pos_start[0])>max_drift or abs(pos_end[1]-pos_start[1])>max_drift or \n",
    "       abs(pos_end[2]-pos_start[2])>max_drift or counter.countdata.mean()<min_counts)\n",
    "        return False\n",
    "        write_to_logfile('PositionRefocus_log', str(datetime.datetime.now()),name= setup['NV_name'], \n",
    "                     x_pos=pos_start[0], y_pos=pos_start[1], z_pos=pos_start[2],sucess=0)\n",
    "    write_to_logfile('PositionRefocus_log', str(datetime.datetime.now()),name= setup['NV_name'], \n",
    "                     x_pos=pos_end[0], y_pos=pos_end[1], z_pos=pos_end[2],sucess=1)\n",
    "    return True\n",
    "\n",
    "def do_rabi(generate_new=True, save_tag=None):\n",
    "    \n",
    "    length = rabi['number_of_taus'] * rabi['tau_step']\n",
    "            \n",
    "    # sanity check for long sequences:\n",
    "    if length > 3e-3:\n",
    "        print(\"Rabi exceeds 3 ms too long for AWG5014C\")\n",
    "        return True,0,0,0,0\n",
    "    # generate ensemble object\n",
    "#     rabi['tau_res'] = rabi['length'] / (rabi['points'] - 1)\n",
    "    tau_arr = np.arange(rabi['number_of_taus']) * rabi['tau_step']+rabi['tau_start']\n",
    "    if generate_new:\n",
    "        sequencegenerator.delete_ensemble('Rabi')\n",
    "        sequencegenerator.generate_rabi('Rabi', rabi['tau_start'], rabi['tau_step'], rabi['number_of_taus'], rabi['mw_freq'], \n",
    "                                        rabi['mw_amp'], 'a_ch1',setup['laser_length'] , 1.0, setup['aom_delay'], \n",
    "                                        setup['wait_length'], setup['seq_trig'], setup['gate'])\n",
    "        if 'Rabi' not in sequencegenerator.saved_pulse_block_ensembles:\n",
    "            sequencegenerator.log.error('Ensemble generation of Rabi in notebook timed out.')\n",
    "            return\n",
    "        pulsedmaster.sample('Rabi', True)\n",
    "    else:\n",
    "        pulsedmaster.load_asset_into_channels('Rabi')\n",
    "    while pulsedmaster.status_dict['sauplo_ensemble_busy'] or pulsedmaster.status_dict['loading_busy']:\n",
    "        time.sleep(0.2)\n",
    "    pulsedmaster.do_fit('No Fit')\n",
    "    # set parameters in analysis tab\n",
    "    pulsedmaster.measurement_sequence_settings_changed(tau_arr, rabi['number_of_taus'], 100e-6, [], False)\n",
    "    pulsedmaster.fast_counter_settings_changed(setup['fc_binwidth'], setup['laser_length'])\n",
    "    pulsedmaster.analysis_interval_changed(1)\n",
    "    # perform measurement\n",
    "    pulsedmaster.start_measurement()\n",
    "    while not pulsedmaster.status_dict['measurement_running']:\n",
    "        time.sleep(0.2)\n",
    "    user_terminated = False\n",
    "    start_time = time.time()\n",
    "    while time.time() - start_time < rabi['measurement_time']:\n",
    "        if not pulsedmaster.status_dict['measurement_running']:\n",
    "            user_terminated = True\n",
    "            break\n",
    "        time.sleep(0.5)\n",
    "    pulsedmaster.manually_pull_data() \n",
    "    time.sleep(1)\n",
    "    pulsedmaster.stop_measurement()\n",
    "    while pulsedmaster.status_dict['measurement_running']:\n",
    "        time.sleep(0.2)\n",
    "    if save_tag is None:\n",
    "        pulsedmaster.save_measurement_data('s','Rabi_'+setup['NV_name']+'_'+str(rabi['mw_amp'])+'V',True)\n",
    "    else:\n",
    "        pulsedmaster.save_measurement_data('s',save_tag,True)\n",
    "    time.sleep(2)\n",
    "    # do fit\n",
    "    x, y, param_dict = pulsedmeasurement.do_fit('Rabi')\n",
    "    new_freq = param_dict.params['frequency'].value\n",
    "    contrast = 2.*param_dict.params['amplitude'].value\n",
    "    offset = param_dict.params['offset'].value\n",
    "    period = 1./new_freq\n",
    "    \n",
    "    # write logfile\n",
    "    write_to_logfile('Rabi_log', str(datetime.datetime.now()),name= setup['NV_name'],amplitude=rabi['mw_amp'], period=period,\n",
    "                     frequency=new_freq, contrast=contrast, offset= offset)\n",
    "    return user_terminated, period, contrast, new_freq, offset\n",
    "\n",
    "def do_odmr(generate_new=True,save_data=False):\n",
    "    # generate ensemble object\n",
    "    if odmr['pi_length']>3e-3:\n",
    "        print(\"Pulsed ODMR exceeds length of 3ms\")\n",
    "        return\n",
    "        \n",
    "    start_freq = odmr['resonance_freq']-(odmr['points']//2)*odmr['freq_res']\n",
    "    freq_arr = start_freq + np.arange(odmr['points']) * odmr['freq_res']\n",
    "    if generate_new:\n",
    "        sequencegenerator.delete_ensemble('PulsedODMR')\n",
    "        sequencegenerator.generate_pulsedodmr('PulsedODMR', odmr['pi_length'], start_freq, odmr['freq_res'], \n",
    "                                              odmr['points'], odmr['mw_amp'], 'a_ch1', setup['laser_length'] , \n",
    "                                              0.0, setup['aom_delay'], setup['wait_length'], setup['seq_trig'], setup['gate'])\n",
    "        if 'PulsedODMR' not in sequencegenerator.saved_pulse_block_ensembles:\n",
    "            sequencegenerator.log.error('Ensemble generation of PulsedODMR from notebook did not work.')\n",
    "            return\n",
    "        pulsedmaster.sample_block_ensemble('PulsedODMR', True)\n",
    "    else:\n",
    "        pulsedmaster.load_asset_into_channels('PulsedODMR')\n",
    "    while pulsedmaster.status_dict['sauplo_ensemble_busy'] or pulsedmaster.status_dict['loading_busy']:\n",
    "        time.sleep(0.5)\n",
    "    # delete old fit\n",
    "    pulsedmaster.do_fit('No Fit')\n",
    "    # set parameters in analysis tab\n",
    "    pulsedmaster.measurement_sequence_settings_changed(freq_arr, odmr['points'], 100e-6, [], False)\n",
    "    pulsedmaster.fast_counter_settings_changed(setup['fc_binwidth'], sequencegenerator.get_saved_asset(\"PulsedODMR\").length_s)\n",
    "    pulsedmaster.analysis_interval_changed(1)\n",
    "    # perform measurement\n",
    "    pulsedmaster.start_measurement()\n",
    "    while not pulsedmaster.status_dict['measurement_running']:\n",
    "        time.sleep(0.5)\n",
    "    user_terminated = False\n",
    "    start_time = time.time()\n",
    "    while time.time() - start_time < odmr['measurement_time']:\n",
    "        if not pulsedmaster.status_dict['measurement_running']:\n",
    "            user_terminated = True\n",
    "            break\n",
    "        time.sleep(1)\n",
    "    pulsedmaster.manually_pull_data() \n",
    "    time.sleep(1)\n",
    "    pulsedmaster.stop_measurement()\n",
    "    while pulsedmaster.status_dict['measurement_running']:\n",
    "        time.sleep(0.5)\n",
    "#    pulsedmaster.save_measurement_data('Hz','PulsedODMR'+setup['NV_name'])\n",
    "    time.sleep(2)\n",
    "    if odmr['fit_function']=='Lorentian':\n",
    "        x, y, param_dict= pulsedmeasurement.do_fit('Lorentian')\n",
    "        new_freq = param_dict.params['center'].value\n",
    "        contrast = param_dict.params['contrast'].value\n",
    "        linewidth = param_dict.params['fwhm'].value\n",
    "    if odmr['fit_function']=='15N':\n",
    "        x, y, param_dict = pulsedmeasurement.do_fit('15N')\n",
    "        maximal_contrast = param_dict.params['l0_amplitude'].value\n",
    "        new_freq = param_dict.params['l0_center'].value\n",
    "        contrast = maximal_contrast\n",
    "        linewidth = param_dict.params['l0_fwhm'].value\n",
    "        \n",
    "    freq_shift = new_freq - odmr['resonance_freq']\n",
    "    if save_data:\n",
    "        pulsedmaster.save_measurement_data('Hz','ODMR_'+setup['NV_name'],True)\n",
    "    # write logfile\n",
    "    write_to_logfile('PulsedODMR_log', str(datetime.datetime.now()),name= setup['NV_name'], frequency=new_freq,\n",
    "                     contrast=contrast,linewidth=linewidth, shift=freq_shift)\n",
    "    return user_terminated, new_freq, contrast, freq_shift, linewidth\n",
    "\n",
    "\n",
    "\n",
    "def do_xy8(generate_new=True, save_tag='',load_tag=''):\n",
    "    # sanity check for long sequences:\n",
    "    if xy8['tau_start']+xy8['tau_incr']*xy8['points'] > 50e-3 :\n",
    "        print(\"Waveform exceeds 3 ms too long for AWG7112\")\n",
    "        return True,0,0,0,0\n",
    "    # generate ensemble object\n",
    "    tau_arr = xy8['tau_start'] + np.arange(xy8['points']) * xy8['tau_incr']\n",
    "    if generate_new:\n",
    "        sequencegenerator.delete_ensemble('XY8')\n",
    "        sequencegenerator.generate_xy8_tau('XY8', xy8['rabi_period'], xy8['mw_freq'], xy8['mw_amp'],\n",
    "                                            xy8['tau_start'], xy8['tau_incr'], xy8['points'], \n",
    "                                            xy8['order'], 'a_ch1', setup['laser_length'], 0.0, \n",
    "                                            setup['aom_delay'], setup['wait_length'], setup['seq_trig'], \n",
    "                                            setup['gate'],xy8['alternating'])\n",
    "        # sample, upload and load waveform\n",
    "        if 'XY8' not in sequencegenerator.saved_pulse_block_ensembles:\n",
    "            sequencegenerator.log.error('Ensemble generation of XY8 in notebook timed out.')\n",
    "            return\n",
    "        pulsedmaster.sample_block_ensemble('XY8', True)\n",
    "        \n",
    "    else:\n",
    "        pulsedmaster.load_asset_into_channels('XY8')\n",
    "    while pulsedmaster.status_dict['sauplo_ensemble_busy'] or pulsedmaster.status_dict['loading_busy']:\n",
    "        time.sleep(0.5)\n",
    "    pulsedmaster.do_fit('No Fit')\n",
    "    # set parameters in analysis tab\n",
    "    if xy8['alternating']:\n",
    "        pulsedmaster.measurement_sequence_settings_changed(tau_arr, 2*xy8['points'], 100e-6, [],xy8['alternating'])\n",
    "    else:\n",
    "        pulsedmaster.measurement_sequence_settings_changed(tau_arr, xy8['points'], 100e-6, [],xy8['alternating'])\n",
    "    pulsedmaster.fast_counter_settings_changed(setup['fc_binwidth'], sequencegenerator.get_saved_asset(\"XY8\").length_s)\n",
    "    pulsedmaster.analysis_interval_changed(1)\n",
    "    pulsedmeasurement.measurement_tag = save_tag\n",
    "    # perform measurement\n",
    "    pulsedmaster.start_measurement(load_tag)\n",
    "    while not pulsedmaster.status_dict['measurement_running']:\n",
    "        time.sleep(0.5)\n",
    "    user_terminated = False\n",
    "    start_time = time.time()\n",
    "    while time.time() - start_time < xy8['measurement_time']:\n",
    "        if not pulsedmaster.status_dict['measurement_running']:\n",
    "            user_terminated = True\n",
    "            break\n",
    "        time.sleep(0.5)\n",
    "    pulsedmaster.stop_measurement(save_tag)\n",
    "    while pulsedmaster.status_dict['measurement_running']:\n",
    "        time.sleep(0.5)\n",
    "    if save_tag=='':\n",
    "        pulsedmaster.save_measurement_data('s','XY8-'+str(xy8['order'])+'_'+setup['NV_name'],True)\n",
    "    \n",
    "    time.sleep(2)\n",
    "    return user_terminated\n",
    "\n",
    "def do_multi_measurement(poi_list,measurement_list):\n",
    "    for poi in poi_list:\n",
    "        if poi != 'crosshair' and poi !='sample':\n",
    "            setup['NV_name']=poimanager.poi_list[poi]._name\n",
    "            #checking stop condition\n",
    "            user_terminated = False\n",
    "            #Refocus current POI and calculate sample shift(all POI are shifted)    \n",
    "            if 'odmr' in measurement_list:\n",
    "                for i in range(3):\n",
    "                    if refocus_poi(poi,min_counts=setup[\"min_counts\"]):\n",
    "                        result=do_odmr()\n",
    "                        user_terminated=result[0]\n",
    "                        rabi['mw_freq']=xy8['mw_freq']=result[1]\n",
    "                        break\n",
    "            if user_terminated:\n",
    "                return True\n",
    "            if 'rabi' in measurement_list:   \n",
    "                for i in range(3):\n",
    "                    if refocus_poi(poi,min_counts=setup[\"min_counts\"]):\n",
    "                        result=do_rabi()\n",
    "                        user_terminated=result[0]\n",
    "                        #set mw_amp\n",
    "                        xy8['mw_amp']=rabi['mw_amp']\n",
    "                        #set rabi_period                        \n",
    "                        xy8['rabi_period']=result[1]  \n",
    "                        break\n",
    "            if user_terminated:\n",
    "                return True\n",
    "            if 'xy8' in measurement_list:   \n",
    "                for i in range(3):\n",
    "                    if refocus_poi(poi,min_counts=setup[\"min_counts\"]):\n",
    "                        if do_xy8_refocus(poi):\n",
    "                            return True\n",
    "                        break\n",
    "            if user_terminated:\n",
    "                return True                        \n",
    "    return False"
   ]
  },
  {
   "cell_type": "markdown",
   "metadata": {},
   "source": [
    "### refocus methods:"
   ]
  },
  {
   "cell_type": "code",
   "execution_count": null,
   "metadata": {
    "collapsed": false
   },
   "outputs": [],
   "source": [
    "def do_xy8_refocus(poi):\n",
    "    end_measure=False\n",
    "    #refocus_poi(poi)\n",
    "    xy8_total_time = xy8['measurement_time']\n",
    "    xy8_runtime = 0.0\n",
    "    xy8['measurement_time'] = xy8['refocus_interval']\n",
    "    end_measure = do_xy8(True, 'xy8_refocus','')\n",
    "    xy8_runtime += xy8['refocus_interval']\n",
    "    while xy8_total_time > xy8_runtime:\n",
    "        for i in range(3):\n",
    "            end_measure= not refocus_poi(poi)\n",
    "            if not end_measure:\n",
    "                break\n",
    "        if end_measure:\n",
    "            break\n",
    "        end_measure = do_xy8(False,'xy8_refocus', 'xy8_refocus')\n",
    "        xy8_runtime += xy8['refocus_interval']\n",
    "        if end_measure:\n",
    "            break\n",
    "    xy8['measurement_time'] = xy8_total_time\n",
    "    # save measurement\n",
    "    pulsedmaster.save_measurement_data('s','XY8-'+str(xy8['order'])+'_'+setup['NV_name'],True)\n",
    "    write_to_logfile('xy8_log', str(datetime.datetime.now()),name= setup['NV_name'],runtime=xy8_runtime)\n",
    "    time.sleep(2)\n",
    "    return end_measure"
   ]
  },
  {
   "cell_type": "markdown",
   "metadata": {},
   "source": [
    "# Laser On"
   ]
  },
  {
   "cell_type": "code",
   "execution_count": null,
   "metadata": {
    "collapsed": false,
    "scrolled": true
   },
   "outputs": [],
   "source": [
    "sequencegenerator.delete_ensemble('Laser_On')\n",
    "sequencegenerator.generate_laser_on()\n",
    "pulsedmaster.sample_block_ensemble('Laser_On', True)\n",
    "while pulsedmaster.status_dict['sauplo_ensemble_busy'] or pulsedmaster.status_dict['loading_busy']:\n",
    "    time.sleep(0.5)\n",
    "pulsedmeasurement.pulse_generator_on()"
   ]
  },
  {
   "cell_type": "markdown",
   "metadata": {},
   "source": [
    "# NV Parameters"
   ]
  },
  {
   "cell_type": "code",
   "execution_count": null,
   "metadata": {
    "collapsed": true
   },
   "outputs": [],
   "source": [
    "#NV20\n",
    "standard_frequency = 1303.05e6\n",
    "standard_drive_V = 0.25\n",
    "standard_drive_Rabi = 21.31e6"
   ]
  },
  {
   "cell_type": "markdown",
   "metadata": {},
   "source": [
    "# Rabi"
   ]
  },
  {
   "cell_type": "code",
   "execution_count": null,
   "metadata": {
    "collapsed": false
   },
   "outputs": [],
   "source": [
    "# for Rabi:\n",
    "rabi = OrderedDict()\n",
    "rabi['mw_amp'] = standard_drive_V\n",
    "rabi['mw_freq'] =  standard_frequency\n",
    "rabi['length'] = 200e-9\n",
    "rabi['points'] = 50\n",
    "rabi['measurement_time'] = 60\n"
   ]
  },
  {
   "cell_type": "markdown",
   "metadata": {},
   "source": [
    "### There are several ways how to start the measurement\n",
    "\n",
    "First one can just execute the rabi mehtod and do a rabi measurement "
   ]
  },
  {
   "cell_type": "code",
   "execution_count": null,
   "metadata": {
    "collapsed": false,
    "scrolled": true
   },
   "outputs": [],
   "source": [
    "do_rabi()"
   ]
  },
  {
   "cell_type": "markdown",
   "metadata": {},
   "source": [
    "One can also perform an experiment with multiple NVs and multiple measurements. Therefore the poi manager is used.\n",
    "Here the poi is set to the active one in the poi manager."
   ]
  },
  {
   "cell_type": "code",
   "execution_count": null,
   "metadata": {
    "collapsed": false
   },
   "outputs": [],
   "source": [
    "setup['poi'] = poimanager.active_poi.get_key()"
   ]
  },
  {
   "cell_type": "markdown",
   "metadata": {},
   "source": [
    "here multiple measurements can be set, here only one poi is chosen in the list and also only one measurement: Rabi "
   ]
  },
  {
   "cell_type": "code",
   "execution_count": null,
   "metadata": {
    "collapsed": false
   },
   "outputs": [],
   "source": [
    "do_multi_measurement([setup['poi']],['rabi'])"
   ]
  },
  {
   "cell_type": "markdown",
   "metadata": {},
   "source": [
    "# ODMR"
   ]
  },
  {
   "cell_type": "code",
   "execution_count": null,
   "metadata": {
    "collapsed": false
   },
   "outputs": [],
   "source": [
    "# for pulsed ODMR:\n",
    "odmr = OrderedDict()\n",
    "factor = 10\n",
    "odmr['mw_amp'] = standard_drive_V/factor\n",
    "period = 1/standard_drive_Rabi\n",
    "odmr['pi_length'] = period/2*factor\n",
    "odmr['resonance_freq'] = standard_frequency\n",
    "odmr['freq_res'] = 0.1e6\n",
    "odmr['points'] = 100\n",
    "odmr['measurement_time'] = 30\n",
    "#odmr['fit_function']='15N'\n",
    "odmr['fit_function']='Lorentian'\n",
    "#odmr['fit_function']='14N'"
   ]
  },
  {
   "cell_type": "markdown",
   "metadata": {},
   "source": [
    "There are also return values which can be read out"
   ]
  },
  {
   "cell_type": "code",
   "execution_count": null,
   "metadata": {
    "collapsed": false
   },
   "outputs": [],
   "source": [
    "end_measure, odmr_freq, odmr_contrast, odmr_shift, odmr_linewidth =  do_odmr()\n",
    "print('ODMR frequency (MHz): ',odmr_freq/1e6)"
   ]
  },
  {
   "cell_type": "code",
   "execution_count": null,
   "metadata": {
    "collapsed": false
   },
   "outputs": [],
   "source": [
    "do_multi_measurement([setup['poi']],['odmr'])"
   ]
  },
  {
   "cell_type": "markdown",
   "metadata": {},
   "source": [
    "# Example for multiple measurements with refocus"
   ]
  },
  {
   "cell_type": "markdown",
   "metadata": {},
   "source": [
    "Here first an ODMR measurement is performed and based on the result a rabi measurement is done. The measured odmr frequency and rabi frequency are then used to perform the xy8 measuremnt. this measurement is stopped every 5min for a \n",
    "optical optimization. If one wants to use such a refocus it has to be implemented like in do_xy8_refocus(), in the same way a ODMR refocus can be done."
   ]
  },
  {
   "cell_type": "markdown",
   "metadata": {},
   "source": [
    "# XY8"
   ]
  },
  {
   "cell_type": "code",
   "execution_count": null,
   "metadata": {
    "collapsed": false
   },
   "outputs": [],
   "source": [
    "xy8 = OrderedDict()\n",
    "xy8['mw_amp'] = standard_drive_V\n",
    "xy8['mw_freq'] = standard_frequency\n",
    "xy8['rabi_period']=1/standard_drive_Rabi\n",
    "xy8['order'] = 8\n",
    "frequency=2.203515e6\n",
    "condition=1/2.\n",
    "tau=condition/frequency\n",
    "xy8['tau_incr'] =1e-9\n",
    "xy8['points'] = 30\n",
    "xy8['tau_start'] = tau-xy8['points']/2*xy8['tau_incr']\n",
    "xy8['measurement_time'] = 30000\n",
    "xy8['refocus_interval'] = 600\n",
    "xy8['alternating']=True\n",
    "print('tau center',tau)\n",
    "print('start',xy8['tau_start'])\n",
    "print('stop',xy8['tau_start']+xy8['points']*xy8['tau_incr'])\n",
    "print('length start',xy8['tau_start']*8*xy8['order']*1e3)\n",
    "print('length stop',(xy8['tau_start']+xy8['points']*xy8['tau_incr'])*8*xy8['order']*1e3)"
   ]
  },
  {
   "cell_type": "code",
   "execution_count": null,
   "metadata": {
    "collapsed": false
   },
   "outputs": [],
   "source": [
    "do_multi_measurement([setup['poi']],['odmr','rabi','xy8'])"
   ]
  }
 ],
 "metadata": {
  "celltoolbar": "Raw Cell Format",
  "kernelspec": {
   "display_name": "Qudi",
   "language": "python",
   "name": "qudi"
  },
  "language_info": {
   "codemirror_mode": {
    "name": "ipython",
    "version": "3.6.0"
   },
   "file_extension": ".py",
   "mimetype": "text/x-python",
   "name": "python",
   "nbconvert_exporter": "python",
   "pygments_lexer": "ipython3",
   "version": "3.6.0"
  }
 },
 "nbformat": 4,
 "nbformat_minor": 0
}
