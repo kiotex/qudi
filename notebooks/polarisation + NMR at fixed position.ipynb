{
 "cells": [
  {
   "cell_type": "markdown",
   "metadata": {},
   "source": [
    "# (Hartmann-Hahn)^Ntimes-XY16-M at fixed tau"
   ]
  },
  {
   "cell_type": "code",
   "execution_count": 7,
   "metadata": {
    "collapsed": true
   },
   "outputs": [],
   "source": [
    "from collections import OrderedDict\n",
    "import datetime\n",
    "import numpy as np\n",
    "import time\n",
    "import os"
   ]
  },
  {
   "cell_type": "code",
   "execution_count": 8,
   "metadata": {
    "collapsed": false
   },
   "outputs": [],
   "source": [
    "try: \n",
    "    pulsedmasterlogic\n",
    "except NameError:\n",
    "    manager.startModule('logic', 'pulsedmasterlogic')\n",
    "try: \n",
    "    scannerlogic\n",
    "except NameError:\n",
    "    manager.startModule('logic', 'scannerlogic')\n",
    "try: \n",
    "    optimizerlogic\n",
    "except NameError:\n",
    "    manager.startModule('logic', 'optimizerlogic')\n",
    "try:\n",
    "    sequencegeneratorlogic\n",
    "except NameError:\n",
    "    manager.startModule('logic', 'sequencegeneratorlogic')\n",
    "try:\n",
    "    pulsedmeasurement\n",
    "except NameError:\n",
    "    manager.startModule('gui', 'pulsedmeasurement')   \n",
    "try:\n",
    "    poimanagerlogic\n",
    "except NameError:\n",
    "    manager.startModule('logic', 'poimaganerlogic')    "
   ]
  },
  {
   "cell_type": "code",
   "execution_count": 9,
   "metadata": {
    "collapsed": true
   },
   "outputs": [],
   "source": [
    "def write_to_logfile(nametag, timestamp, name, **kwargs):\n",
    "    \"\"\" Write parameters to custom logfile with name nametag \"\"\"\n",
    "    if type(timestamp) is not str:\n",
    "        timestamp = str(timestamp)\n",
    "    parameters = list(kwargs)\n",
    "    if len(parameters) == 1 and type(kwargs[parameters[0]]) is OrderedDict:\n",
    "        param_dict = kwargs[parameters[0]]\n",
    "        parameters = list(param_dict)\n",
    "        kwargs = param_dict\n",
    "    log_dir = pulsedmeasurement._save_logic.get_path_for_module('CustomLogfiles')\n",
    "    log_path = os.path.join(log_dir, nametag + '.txt')\n",
    "    if not os.path.isfile(log_path):\n",
    "        with open(log_path, 'w') as logfile:\n",
    "            logfile.write('# timestamp\\t')\n",
    "            logfile.write('# Name\\t')\n",
    "            for param in parameters:\n",
    "                logfile.write(param + '\\t')\n",
    "            logfile.write('\\n#\\n')\n",
    "    with open(log_path, 'a') as logfile:\n",
    "        logfile.write(timestamp + '\\t')\n",
    "        logfile.write(name + '\\t')\n",
    "        for param in parameters:\n",
    "            logfile.write('{0:3.6e}\\t'.format(kwargs[param]))\n",
    "        logfile.write('\\n')\n",
    "    return"
   ]
  },
  {
   "cell_type": "code",
   "execution_count": 10,
   "metadata": {
    "collapsed": false
   },
   "outputs": [],
   "source": [
    "# static hardware parameters:\n",
    "setup = OrderedDict()\n",
    "setup['sampling_freq'] = pulsedmeasurementlogic.sample_rate\n",
    "setup['fc_binwidth'] = pulsedmeasurementlogic.fast_counter_binwidth\n",
    "setup['wait_length'] = 1.5e-6\n",
    "setup['aom_delay'] = 500e-9\n",
    "#setup['channel_config_name'] = pulsedmeasurement.current_channel_config_name\n",
    "setup['seq_trig']=''\n",
    "setup['gate']='d_ch2'\n",
    "setup['NV_name']='NV1'\n",
    "setup['poi'] = poimanagerlogic.active_poi.get_key()\n",
    "setup['laser_length'] = 3.0e-6\n",
    "setup[\"min_counts\"] = 10000 # if after a refocus only 40kcounts are measured the refocus is repeated up to max 3 times\n",
    "# Set amplitude in logic and pulser hardware:\n",
    "amp_dict = OrderedDict()\n",
    "amp_dict['a_ch1'] = 0.25\n",
    "amp_dict['a_ch2'] = 0.0\n",
    "AWG5014C.amplitude_dict = amp_dict\n",
    "#pulsedmaster.pulse_generator_settings_changed(setup['sampling_freq'], setup['channel_config_name'], amp_dict, False)"
   ]
  },
  {
   "cell_type": "code",
   "execution_count": 32,
   "metadata": {
    "collapsed": true
   },
   "outputs": [],
   "source": [
    "# for single frequency XY16-N:\n",
    "hh_xy16_dip = OrderedDict()\n",
    "hh_xy16_dip['mw_amp'] = 0.25\n",
    "hh_xy16_dip['spinlock_amp'] = 0.1127\n",
    "hh_xy16_dip['pol_transfer_time'] = 65.0*1e-6\n",
    "hh_xy16_dip['num_of_pol_cycles'] = 50000\n",
    "hh_xy16_dip['mw_freq'] = 100e6\n",
    "hh_xy16_dip['order'] = 4\n",
    "hh_xy16_dip['num_of_readouts'] = 10000\n",
    "hh_xy16_dip['n_points'] = 5\n",
    "hh_xy16_dip['nmr_position'] = 277.0e-9\n",
    "hh_xy16_dip['measurement_time'] = 120*60\n",
    "hh_xy16_dip['refocus_interval'] = 3*60\n",
    "hh_xy16_dip['alternating']=True\n",
    "hh_xy16_dip['rabi_period']=198.1*1e-9"
   ]
  },
  {
   "cell_type": "code",
   "execution_count": 38,
   "metadata": {
    "collapsed": false
   },
   "outputs": [
    {
     "name": "stdout",
     "output_type": "stream",
     "text": [
      "<logic.pulse_objects.PulseSequence object at 0x000002B811179F98>\n"
     ]
    }
   ],
   "source": [
    "# generate new Hartmann-Hahn + XY16 sequence at fixed position\n",
    "sequencegeneratorlogic.delete_sequence('HH_XY16_dip')    \n",
    "sequencegeneratorlogic.generate_HH_XY16_dip('HH_XY16_dip', hh_xy16_dip['rabi_period'], hh_xy16_dip['spinlock_amp'], 100e+6,\n",
    "                                            0.25, hh_xy16_dip['pol_transfer_time'], hh_xy16_dip['num_of_pol_cycles'], \n",
    "                                            hh_xy16_dip['nmr_position'], hh_xy16_dip['order'], hh_xy16_dip['num_of_readouts'],\n",
    "                                            hh_xy16_dip['n_points'], 'a_ch1', 3.0e-6,\n",
    "                                            2.0, 0.7e-6, 1.0e-6, '', 'd_ch2', hh_xy16_dip['alternating'])\n",
    "# sample, upload and load waveform\n",
    "if 'HH_XY16_dip' not in sequencegeneratorlogic.saved_pulse_sequences:\n",
    "    sequencegeneratorlogic.log.error('Sequence generation of HH_XY16_dip in notebook timed out.')\n",
    "pulsedmasterlogic.sample_sequence('HH_XY16_dip', True)\n",
    "\n",
    "while pulsedmasterlogic.status_dict['sauplo_sequence_busy'] or pulsedmasterlogic.status_dict['loading_busy']:\n",
    "        time.sleep(5)\n",
    "\n",
    "import winsound\n",
    "frequency = 300  # Set Frequency To 2500 Hertz\n",
    "duration = 1000  # Set Duration To 1000 ms == 1 second\n",
    "winsound.Beep(frequency, duration)"
   ]
  },
  {
   "cell_type": "code",
   "execution_count": 34,
   "metadata": {
    "collapsed": false,
    "scrolled": false
   },
   "outputs": [],
   "source": [
    "setup['poi'] = poimanagerlogic.active_poi.get_key()"
   ]
  },
  {
   "cell_type": "code",
   "execution_count": 35,
   "metadata": {
    "collapsed": false,
    "scrolled": false
   },
   "outputs": [
    {
     "name": "stdout",
     "output_type": "stream",
     "text": [
      "126819.666667 2.5934672187256566e-08\n"
     ]
    },
    {
     "data": {
      "text/plain": [
       "True"
      ]
     },
     "execution_count": 35,
     "metadata": {},
     "output_type": "execute_result"
    }
   ],
   "source": [
    "refocus_poi(setup['poi'])"
   ]
  },
  {
   "cell_type": "code",
   "execution_count": 36,
   "metadata": {
    "collapsed": false,
    "scrolled": true
   },
   "outputs": [
    {
     "name": "stdout",
     "output_type": "stream",
     "text": [
      "126819.666667 2.6853512479486333e-08\n",
      "126819.666667 9.828332727820856e-09\n",
      "126819.666667 2.1296296050214041e-10\n",
      "126819.666667 9.508049726830026e-09\n",
      "126819.666667 7.839276862066846e-10\n",
      "126819.666667 1.62927836247655e-09\n",
      "126819.666667 2.0402002643795975e-09\n",
      "126819.666667 5.504517304236834e-09\n"
     ]
    },
    {
     "data": {
      "text/plain": [
       "True"
      ]
     },
     "execution_count": 36,
     "metadata": {},
     "output_type": "execute_result"
    }
   ],
   "source": [
    "do_hh_xy16_dip_refocus(setup['poi'])"
   ]
  },
  {
   "cell_type": "code",
   "execution_count": 37,
   "metadata": {
    "collapsed": false
   },
   "outputs": [
    {
     "data": {
      "text/plain": [
       "'G:\\\\\\\\data\\\\\\\\QudiData\\\\2018\\\\06\\\\20180608\\\\PulsedMeasurement'"
      ]
     },
     "execution_count": 37,
     "metadata": {},
     "output_type": "execute_result"
    }
   ],
   "source": [
    "# save measurement\n",
    "pulsedmasterlogic.save_measurement_data('s', 'HH-'+str(hh_xy16_dip['num_of_pol_cycles'])+'_'\n",
    "                                                +'XY16-'+str(hh_xy16_dip['order'])+'_'+setup['NV_name'], True, False)"
   ]
  },
  {
   "cell_type": "code",
   "execution_count": 11,
   "metadata": {
    "collapsed": false
   },
   "outputs": [],
   "source": [
    "def refocus_poi(poi=None, max_drift=0.5,min_counts=setup[\"min_counts\"]):\n",
    "    if poi==None:\n",
    "        return False\n",
    "    scannerlogic.stop_scanning()\n",
    "    poimanagerlogic.go_to_poi(poi)\n",
    "    pos_start = scannerlogic.get_position()\n",
    "    setup['NV_name']=poimanagerlogic.poi_list[poi]._name\n",
    "    poimanagerlogic.optimise_poi(poi)\n",
    "    while optimizerlogic.module_state() == 'idle':\n",
    "        time.sleep(0.2)\n",
    "    while optimizerlogic.module_state() != 'idle':\n",
    "        time.sleep(0.2)\n",
    "    time.sleep(5)\n",
    "    pos_end=scannerlogic.get_position()\n",
    "    print(counterlogic.countdata.mean(),abs(pos_end[0]-pos_start[0]))\n",
    "    if (abs(pos_end[0]-pos_start[0])>max_drift or abs(pos_end[1]-pos_start[1])>max_drift or \n",
    "       abs(pos_end[2]-pos_start[2])>max_drift or counterlogic.countdata.mean()<min_counts):\n",
    "        scannerlogic.set_position('',x=pos_start[0],y=pos_start[1],z=pos_start[2])\n",
    "        poimanagerlogic.set_new_position(poi,pos_start)\n",
    "        print(abs(pos_end[0]-pos_start[0])>max_drift or abs(pos_end[1]-pos_start[1])>max_drift or \n",
    "       abs(pos_end[2]-pos_start[2])>max_drift or counterlogic.countdata.mean()<min_counts)\n",
    "        return False\n",
    "        write_to_logfile('PositionRefocus_log', str(datetime.datetime.now()),name= setup['NV_name'], \n",
    "                     x_pos=pos_start[0], y_pos=pos_start[1], z_pos=pos_start[2],sucess=0)\n",
    "    write_to_logfile('PositionRefocus_log', str(datetime.datetime.now()),name= setup['NV_name'], \n",
    "                     x_pos=pos_end[0], y_pos=pos_end[1], z_pos=pos_end[2],sucess=1)\n",
    "    return True\n",
    "\n",
    "def do_hh_xy16_dip(save_tag='',load_tag=''):\n",
    "    \n",
    "    pulsedmasterlogic.do_fit('No Fit')\n",
    "    num_arr = np.linspace(1, hh_xy16_dip['num_of_pol_cycles'], hh_xy16_dip['n_points'])\n",
    "    # set parameters in analysis tab\n",
    "    if hh_xy16_dip['alternating']:\n",
    "        pulsedmasterlogic.measurement_sequence_settings_changed(num_arr, hh_xy16_dip['n_points']*2, 100e-6, [],\n",
    "                                                                hh_xy16_dip['alternating'])\n",
    "    else:\n",
    "        pulsedmasterlogic.measurement_sequence_settings_changed(num_arr, hh_xy16_dip['n_points'], 100e-6, [], \n",
    "                                                                hh_xy16_dip['alternating'])\n",
    "    pulsedmasterlogic.fast_counter_settings_changed(setup['fc_binwidth'], setup['laser_length']+1e-6, hh_xy16_dip['n_points']*2)\n",
    "    pulsedmasterlogic.analysis_interval_changed(3)\n",
    "    pulsedmeasurementlogic.measurement_tag = save_tag\n",
    "    # perform measurement\n",
    "    pulsedmasterlogic.start_measurement(load_tag)\n",
    "    while not pulsedmasterlogic.status_dict['measurement_running']:\n",
    "        time.sleep(0.5)\n",
    "    user_terminated = False\n",
    "    start_time = time.time()\n",
    "    while time.time() - start_time < hh_xy16_dip['measurement_time']:\n",
    "        if not pulsedmasterlogic.status_dict['measurement_running']:\n",
    "            user_terminated = True\n",
    "            break\n",
    "        time.sleep(0.5)\n",
    "    pulsedmasterlogic.stop_measurement(save_tag)\n",
    "    while pulsedmasterlogic.status_dict['measurement_running']:\n",
    "        time.sleep(0.5)\n",
    "    if save_tag=='':\n",
    "        pulsedmasterlogic.save_measurement_data('s', 'HH-'+str(hh_xy16_dip['num_of_pol_cycles'])+'_'\n",
    "                                                +'XY16-'+str(hh_xy16_dip['order'])+'_'+setup['NV_name'],True, False)\n",
    "    \n",
    "    time.sleep(2)\n",
    "    return user_terminated\n",
    "\n",
    "def do_hh_xy16_dip_refocus(poi):\n",
    "    end_measure=False\n",
    "    #refocus_poi(poi)\n",
    "    hh_xy16_dip_total_time = hh_xy16_dip['measurement_time']\n",
    "    hh_xy16_dip_runtime = 0.0\n",
    "    hh_xy16_dip['measurement_time'] = hh_xy16_dip['refocus_interval']\n",
    "    end_measure = do_hh_xy16_dip('hh_xy16_dip_refocus','')\n",
    "    hh_xy16_dip_runtime += hh_xy16_dip['refocus_interval']\n",
    "    while hh_xy16_dip_total_time > hh_xy16_dip_runtime:\n",
    "        for i in range(1):\n",
    "            end_measure = not refocus_poi(poi)\n",
    "            if not end_measure:\n",
    "                break\n",
    "        if end_measure:\n",
    "            break\n",
    "        end_measure = do_hh_xy16_dip('hh_xy16_dip_refocus', 'hh_xy16_dip_refocus')\n",
    "        hh_xy16_dip_runtime += hh_xy16_dip['refocus_interval']\n",
    "        if end_measure:\n",
    "            break\n",
    "    hh_xy16_dip['measurement_time'] = hh_xy16_dip_total_time\n",
    "    write_to_logfile('hh_xy16_dip_log', str(datetime.datetime.now()),name= setup['NV_name'],runtime=hh_xy16_dip_runtime)\n",
    "    time.sleep(2)\n",
    "    return end_measure"
   ]
  },
  {
   "cell_type": "code",
   "execution_count": null,
   "metadata": {
    "collapsed": true
   },
   "outputs": [],
   "source": []
  }
 ],
 "metadata": {
  "kernelspec": {
   "display_name": "Qudi",
   "language": "python",
   "name": "qudi"
  },
  "language_info": {
   "codemirror_mode": {
    "name": "ipython",
    "version": "3.6.0"
   },
   "file_extension": ".py",
   "mimetype": "text/x-python",
   "name": "python",
   "nbconvert_exporter": "python",
   "pygments_lexer": "ipython3",
   "version": "3.6.0"
  }
 },
 "nbformat": 4,
 "nbformat_minor": 2
}
