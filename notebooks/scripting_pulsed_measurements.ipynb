{
 "cells": [
  {
   "cell_type": "code",
   "execution_count": 1,
   "metadata": {
    "collapsed": true
   },
   "outputs": [],
   "source": [
    "import numpy as np\n",
    "import time\n",
    "from collections import OrderedDict\n",
    "\n",
    "try: \n",
    "    pulsedmasterlogic\n",
    "except NameError:\n",
    "    manager.startModule('logic', 'pulsedmasterlogic')"
   ]
  },
  {
   "cell_type": "markdown",
   "metadata": {},
   "source": [
    "# Create a pulse sequence for the measurement"
   ]
  },
  {
   "cell_type": "markdown",
   "metadata": {},
   "source": [
    "### Set desired common parameters for predefined sequence generation"
   ]
  },
  {
   "cell_type": "code",
   "execution_count": 2,
   "metadata": {
    "collapsed": false
   },
   "outputs": [
    {
     "name": "stdout",
     "output_type": "stream",
     "text": [
      "laser_channel: d_ch1\n",
      "sync_channel: \n",
      "gate_channel: d_ch2\n",
      "microwave_channel: a_ch1\n",
      "microwave_frequency: 2870000000.0\n",
      "microwave_amplitude: 0.25\n",
      "rabi_period: 2e-07\n",
      "laser_length: 3e-06\n",
      "laser_delay: 5e-07\n",
      "wait_time: 1e-06\n",
      "analog_trigger_voltage: 0.0\n"
     ]
    }
   ],
   "source": [
    "# To change some parameters you need to use \"pulsedmasterlogic.set_generation_parameters()\"\n",
    "# You can either set each parameter by passing it as keyword argument or give the method a dictionary containing the \n",
    "# parameters to change or a combination of both where the first argument must be the dictionary followed by a number \n",
    "# of keyword arguments.\n",
    "pulsedmasterlogic.set_generation_parameters(sync_channel='', microwave_amplitude=0.25, rabi_period=200e-9)\n",
    "# pulsedmasterlogic.set_generation_parameters({'sync_channel': 'd_ch4', 'microwave_amplitude': 0.25}, rabi_period=200e-9)\n",
    "\n",
    "# Read-only access to all available and currently set global generation parameters as dictionary via property\n",
    "for param, value in pulsedmasterlogic.generation_parameters.items():\n",
    "    print('{0}: {1}'.format(param, value))"
   ]
  },
  {
   "cell_type": "markdown",
   "metadata": {},
   "source": [
    "### Call the desired predefined generation method with additional sequence specific parameters"
   ]
  },
  {
   "cell_type": "code",
   "execution_count": 3,
   "metadata": {
    "collapsed": false
   },
   "outputs": [
    {
     "name": "stdout",
     "output_type": "stream",
     "text": [
      "HHamp:\n",
      "  {'name': 'hh_amp', 'spinlock_length': 2e-05, 'amp_start': 0.05, 'amp_step': 0.01, 'num_of_points': 50}\n",
      "HHpol:\n",
      "  {'name': 'hh_pol', 'spinlock_length': 2e-05, 'spinlock_amp': 0.1, 'polarization_steps': 50}\n",
      "HHtau:\n",
      "  {'name': 'hh_tau', 'spinlock_amp': 0.1, 'tau_start': 1e-06, 'tau_step': 1e-06, 'num_of_points': 50}\n",
      "hahnecho:\n",
      "  {'name': 'hahn_echo', 'tau_start': 1e-06, 'tau_step': 1e-06, 'num_of_points': 50, 'alternating': True}\n",
      "idle:\n",
      "  {'name': 'idle', 'length': 3e-06}\n",
      "laser_mw_on:\n",
      "  {'name': 'laser_mw_on', 'length': 3e-06}\n",
      "laser_on:\n",
      "  {'name': 'laser_on', 'length': 3e-06}\n",
      "pulsedodmr:\n",
      "  {'name': 'pulsedODMR', 'freq_start': 2870000000.0, 'freq_step': 200000.0, 'num_of_points': 50}\n",
      "rabi:\n",
      "  {'name': 'rabi', 'tau_start': 1e-08, 'tau_step': 1e-08, 'number_of_taus': 50}\n",
      "ramsey:\n",
      "  {'name': 'ramsey', 'tau_start': 1e-06, 'tau_step': 1e-06, 'num_of_points': 50, 'alternating': True}\n",
      "xy8_freq:\n",
      "  {'name': 'xy8_freq', 'freq_start': 100000.0, 'freq_step': 10000.0, 'num_of_points': 50, 'xy8_order': 4, 'alternating': True}\n",
      "xy8_tau:\n",
      "  {'name': 'xy8_tau', 'tau_start': 5e-07, 'tau_step': 1e-08, 'num_of_points': 50, 'xy8_order': 4, 'alternating': True}\n",
      "XY16_seq:\n",
      "  {'name': 'XY16_seq', 'tau_start': 2.5e-07, 'tau_step': 1e-09, 'num_of_points': 5, 'xy16_order': 2, 'alternating': True}\n",
      "Hartmann_Hahn_tau_sequence:\n",
      "  {'name': 'HHtauseq', 'spinlock_amp': 0.2, 'start_tau': 2.9999999999999997e-05, 'incr_tau': 2e-06, 'num_of_points': 5, 'alternating': True}\n"
     ]
    }
   ],
   "source": [
    "# This property contains all available predefined generate method names together with the respective set \n",
    "# of parameters with default values.\n",
    "for method, params in pulsedmasterlogic.generate_method_params.items():\n",
    "    print('{0}:\\n  {1}'.format(method, params))"
   ]
  },
  {
   "cell_type": "code",
   "execution_count": 4,
   "metadata": {
    "collapsed": false
   },
   "outputs": [
    {
     "name": "stdout",
     "output_type": "stream",
     "text": [
      "my_rabi\n"
     ]
    }
   ],
   "source": [
    "# Get the dictionary containing the default parameters for the desired sequence and alter the values as needed.\n",
    "# generate_params = pulsedmasterlogic.generate_method_params['rabi']\n",
    "generate_params=OrderedDict()\n",
    "generate_params['name'] = 'my_rabi'\n",
    "generate_params['number_of_taus'] = 50\n",
    "generate_params['tau_start'] = 10.0e-9\n",
    "generate_params['tau_step'] = 10.0e-9\n",
    "\n",
    "# Call the actual generation method using a wrapper method and pass the parameter set\n",
    "pulsedmasterlogic.generate_predefined_sequence('rabi', generate_params)\n",
    "# Give it a moment to generate\n",
    "time.sleep(0.5)\n",
    "\n",
    "# The created object is a PulseBlockEnsemble instance, a recipe to create a waveform.\n",
    "# You can get all created PulseBlockEnsembles using this property (keys are ensemble names, values are the object instances):\n",
    "for ensemble_name in pulsedmasterlogic.saved_pulse_block_ensembles.keys():\n",
    "    print(ensemble_name)"
   ]
  },
  {
   "cell_type": "markdown",
   "metadata": {},
   "source": [
    "### Sample the created PulseBlockEnsemble and write a waveform to the pulse generator (AWG)"
   ]
  },
  {
   "cell_type": "code",
   "execution_count": 5,
   "metadata": {
    "collapsed": false
   },
   "outputs": [
    {
     "name": "stdout",
     "output_type": "stream",
     "text": [
      "{1: 'my_rabi_ch1', 2: 'my_rabi_ch2'}\n"
     ]
    }
   ],
   "source": [
    "# The \"with_load\" flag can be used to also load the waveform into the channels after creating it\n",
    "pulsedmasterlogic.sample_ensemble('my_rabi', with_load=True)\n",
    "# Wait for the sampling to finish. There is a status dictionary that can be used to check for process status.\n",
    "while pulsedmasterlogic.status_dict['sampload_busy']:\n",
    "    time.sleep(0.1)"
   ]
  },
  {
   "cell_type": "code",
   "execution_count": 14,
   "metadata": {
    "collapsed": false
   },
   "outputs": [
    {
     "name": "stdout",
     "output_type": "stream",
     "text": [
      "currently loaded asset: ('', '')\n",
      "Available waveforms on device: ['HHtauseq_000_ch1', 'HHtauseq_000_ch2', 'HHtauseq_001_ch1', 'HHtauseq_001_ch2', 'HHtauseq_002_ch1', 'HHtauseq_002_ch2', 'HHtauseq_003_ch1', 'HHtauseq_003_ch2', 'HHtauseq_004_ch1', 'HHtauseq_004_ch2', 'HHtauseq_005_ch1', 'HHtauseq_005_ch2', 'HHtauseq_006_ch1', 'HHtauseq_006_ch2', 'HHtauseq_007_ch1', 'HHtauseq_007_ch2', 'HHtauseq_008_ch1', 'HHtauseq_008_ch2', 'HHtauseq_009_ch1', 'HHtauseq_009_ch2', 'HHtauseq_010_ch1', 'HHtauseq_010_ch2', 'HHtauseq_011_ch1', 'HHtauseq_011_ch2', 'HHtauseq_012_ch1', 'HHtauseq_012_ch2', 'HHtauseq_013_ch1', 'HHtauseq_013_ch2', 'HHtauseq_014_ch1', 'HHtauseq_014_ch2', 'HHtauseq_015_ch1', 'HHtauseq_015_ch2', 'HHtauseq_016_ch1', 'HHtauseq_016_ch2', 'HHtauseq_017_ch1', 'HHtauseq_017_ch2', 'HHtauseq_018_ch1', 'HHtauseq_018_ch2', 'HHtauseq_019_ch1', 'HHtauseq_019_ch2', 'HHtauseq_020_ch1', 'HHtauseq_020_ch2', 'HHtauseq_021_ch1', 'HHtauseq_021_ch2', 'HHtauseq_022_ch1', 'HHtauseq_022_ch2', 'HHtauseq_023_ch1', 'HHtauseq_023_ch2', 'HHtauseq_024_ch1', 'HHtauseq_024_ch2', 'HHtauseq_025_ch1', 'HHtauseq_025_ch2', 'HHtauseq_026_ch1', 'HHtauseq_026_ch2', 'HHtauseq_027_ch1', 'HHtauseq_027_ch2', 'HHtauseq_028_ch1', 'HHtauseq_028_ch2', 'HHtauseq_029_ch1', 'HHtauseq_029_ch2', 'HHtauseq_030_ch1', 'HHtauseq_030_ch2', 'HHtauseq_031_ch1', 'HHtauseq_031_ch2', 'HHtauseq_032_ch1', 'HHtauseq_032_ch2', 'HHtauseq_033_ch1', 'HHtauseq_033_ch2', 'HHtauseq_034_ch1', 'HHtauseq_034_ch2', 'HHtauseq_035_ch1', 'HHtauseq_035_ch2', 'HHtauseq_036_ch1', 'HHtauseq_036_ch2', 'HHtauseq_037_ch1', 'HHtauseq_037_ch2', 'HHtauseq_038_ch1', 'HHtauseq_038_ch2', 'HHtauseq_039_ch1', 'HHtauseq_039_ch2', 'HHtauseq_040_ch1', 'HHtauseq_040_ch2', 'HHtauseq_041_ch1', 'HHtauseq_041_ch2', 'HHtauseq_042_ch1', 'HHtauseq_042_ch2', 'HHtauseq_043_ch1', 'HHtauseq_043_ch2', 'HHtauseq_044_ch1', 'HHtauseq_044_ch2', 'HHtauseq_045_ch1', 'HHtauseq_045_ch2', 'HHtauseq_046_ch1', 'HHtauseq_046_ch2', 'HHtauseq_047_ch1', 'HHtauseq_047_ch2', 'HHtauseq_048_ch1', 'HHtauseq_048_ch2', 'HHtauseq_049_ch1', 'HHtauseq_049_ch2', 'HHtauseq_050_ch1', 'HHtauseq_050_ch2', 'HHtauseq_051_ch1', 'HHtauseq_051_ch2', 'HHtauseq_052_ch1', 'HHtauseq_052_ch2', 'HHtauseq_053_ch1', 'HHtauseq_053_ch2', 'HHtauseq_054_ch1', 'HHtauseq_054_ch2', 'HHtauseq_055_ch1', 'HHtauseq_055_ch2', 'HHtauseq_056_ch1', 'HHtauseq_056_ch2', 'HHtauseq_057_ch1', 'HHtauseq_057_ch2', 'HHtauseq_058_ch1', 'HHtauseq_058_ch2', 'HHtauseq_059_ch1', 'HHtauseq_059_ch2', 'HHtauseq_060_ch1', 'HHtauseq_060_ch2', 'HHtauseq_061_ch1', 'HHtauseq_061_ch2', 'HHtauseq_062_ch1', 'HHtauseq_062_ch2', 'HHtauseq_063_ch1', 'HHtauseq_063_ch2', 'HHtauseq_064_ch1', 'HHtauseq_064_ch2', 'HHtauseq_065_ch1', 'HHtauseq_065_ch2', 'HHtauseq_066_ch1', 'HHtauseq_066_ch2', 'HHtauseq_067_ch1', 'HHtauseq_067_ch2', 'HHtauseq_068_ch1', 'HHtauseq_068_ch2', 'HHtauseq_069_ch1', 'HHtauseq_069_ch2', 'HHtauseq_070_ch1', 'HHtauseq_070_ch2', 'HHtauseq_071_ch1', 'HHtauseq_071_ch2', 'HHtauseq_072_ch1', 'HHtauseq_072_ch2', 'HHtauseq_073_ch1', 'HHtauseq_073_ch2', 'HHtauseq_074_ch1', 'HHtauseq_074_ch2', 'HHtauseq_075_ch1', 'HHtauseq_075_ch2', 'HHtauseq_076_ch1', 'HHtauseq_076_ch2', 'HHtauseq_077_ch1', 'HHtauseq_077_ch2', 'HHtauseq_078_ch1', 'HHtauseq_078_ch2', 'HHtauseq_079_ch1', 'HHtauseq_079_ch2', 'HHtauseq_080_ch1', 'HHtauseq_080_ch2', 'HHtauseq_081_ch1', 'HHtauseq_081_ch2', 'HHtauseq_082_ch1', 'HHtauseq_082_ch2', 'HHtauseq_083_ch1', 'HHtauseq_083_ch2', 'HHtauseq_084_ch1', 'HHtauseq_084_ch2', 'HHtauseq_085_ch1', 'HHtauseq_085_ch2', 'HHtauseq_086_ch1', 'HHtauseq_086_ch2', 'HHtauseq_087_ch1', 'HHtauseq_087_ch2', 'HHtauseq_088_ch1', 'HHtauseq_088_ch2', 'HHtauseq_089_ch1', 'HHtauseq_089_ch2', 'HHtauseq_090_ch1', 'HHtauseq_090_ch2', 'HHtauseq_091_ch1', 'HHtauseq_091_ch2', 'HHtauseq_092_ch1', 'HHtauseq_092_ch2', 'HHtauseq_093_ch1', 'HHtauseq_093_ch2', 'HHtauseq_094_ch1', 'HHtauseq_094_ch2', 'HHtauseq_095_ch1', 'HHtauseq_095_ch2', 'HHtauseq_096_ch1', 'HHtauseq_096_ch2', 'HHtauseq_097_ch1', 'HHtauseq_097_ch2', 'HHtauseq_098_ch1', 'HHtauseq_098_ch2', 'HHtauseq_099_ch1', 'HHtauseq_099_ch2', 'LOCK2_00_ch1', 'LOCK2_00_ch2', 'LOCK2_01_ch1', 'LOCK2_01_ch2', 'LOCK2_02_ch1', 'LOCK2_02_ch2', 'LOCK2_03_ch1', 'LOCK2_03_ch2', 'LOCK2_04_ch1', 'LOCK2_04_ch2', 'LOCK_00_ch1', 'LOCK_00_ch2', 'LOCK_01_ch1', 'LOCK_01_ch2', 'LOCK_02_ch1', 'LOCK_02_ch2', 'LOCK_03_ch1', 'LOCK_03_ch2', 'LOCK_04_ch1', 'LOCK_04_ch2', 'XY16d_00_ch1', 'XY16d_00_ch2', 'XY16d_01_ch1', 'XY16d_01_ch2', 'XY16d_02_ch1', 'XY16d_02_ch2', 'XY16d_03_ch1', 'XY16d_03_ch2', 'XY16d_04_ch1', 'XY16d_04_ch2', 'XY16d_05_ch1', 'XY16d_05_ch2', 'XY16d_06_ch1', 'XY16d_06_ch2', 'XY16d_07_ch1', 'XY16d_07_ch2', 'XY16d_08_ch1', 'XY16d_08_ch2', 'XY16d_09_ch1', 'XY16d_09_ch2', 'XY16d_10_ch1', 'XY16d_10_ch2', 'XY16d_11_ch1', 'XY16d_11_ch2', 'XY16d_12_ch1', 'XY16d_12_ch2', 'XY16d_13_ch1', 'XY16d_13_ch2', 'XY16d_14_ch1', 'XY16d_14_ch2', 'XY16d_15_ch1', 'XY16d_15_ch2', 'XY16d_16_ch1', 'XY16d_16_ch2', 'XY16d_17_ch1', 'XY16d_17_ch2', 'XY16d_18_ch1', 'XY16d_18_ch2', 'XY16d_19_ch1', 'XY16d_19_ch2', 'XY16u_00_ch1', 'XY16u_00_ch2', 'XY16u_01_ch1', 'XY16u_01_ch2', 'XY16u_02_ch1', 'XY16u_02_ch2', 'XY16u_03_ch1', 'XY16u_03_ch2', 'XY16u_04_ch1', 'XY16u_04_ch2', 'XY16u_05_ch1', 'XY16u_05_ch2', 'XY16u_06_ch1', 'XY16u_06_ch2', 'XY16u_07_ch1', 'XY16u_07_ch2', 'XY16u_08_ch1', 'XY16u_08_ch2', 'XY16u_09_ch1', 'XY16u_09_ch2', 'XY16u_10_ch1', 'XY16u_10_ch2', 'XY16u_11_ch1', 'XY16u_11_ch2', 'XY16u_12_ch1', 'XY16u_12_ch2', 'XY16u_13_ch1', 'XY16u_13_ch2', 'XY16u_14_ch1', 'XY16u_14_ch2', 'XY16u_15_ch1', 'XY16u_15_ch2', 'XY16u_16_ch1', 'XY16u_16_ch2', 'XY16u_17_ch1', 'XY16u_17_ch2', 'XY16u_18_ch1', 'XY16u_18_ch2', 'XY16u_19_ch1', 'XY16u_19_ch2', 'my_rabi_ch1', 'my_rabi_ch2', 'rabi_ch1', 'rabi_ch2']\n"
     ]
    }
   ],
   "source": [
    "# You can check on the currently loaded asset on the pulse generator by using the following property:\n",
    "print('currently loaded asset:', pulsedmasterlogic.loaded_asset)\n",
    "# You can check on all created waveforms on the pulse generator by using the following property:\n",
    "print('Available waveforms on device:', pulsedmasterlogic.sampled_waveforms)"
   ]
  },
  {
   "cell_type": "markdown",
   "metadata": {},
   "source": [
    "# Set up the actual measurement"
   ]
  },
  {
   "cell_type": "markdown",
   "metadata": {},
   "source": [
    "### Set the measurement settings"
   ]
  },
  {
   "cell_type": "code",
   "execution_count": 6,
   "metadata": {
    "collapsed": false
   },
   "outputs": [
    {
     "name": "stdout",
     "output_type": "stream",
     "text": [
      "{'number_of_gates': 50}\n"
     ]
    },
    {
     "name": "stderr",
     "output_type": "stream",
     "text": [
      "Traceback (most recent call last):\n",
      "  File \"C:\\Users\\pi3\\Documents\\GitHub\\qudi\\logic\\pulsed\\pulsed_measurement_logic.py\", line 702, in set_measurement_settings\n",
      "    self._measurement_settings_sanity_check()\n",
      "  File \"C:\\Users\\pi3\\Documents\\GitHub\\qudi\\logic\\pulsed\\pulsed_measurement_logic.py\", line 1029, in _measurement_settings_sanity_check\n",
      "    if len(self._controlled_variable) < 1:\n",
      "TypeError: len() of unsized object\n"
     ]
    }
   ],
   "source": [
    "# If the pulse sequence has been generated not using predefined methods (e.g. using the graphical table editor) the \n",
    "# measurement settings have to be given manually.\n",
    "# In the same way as setting the generation parameters you can either pass a settings dictionary or single keyword \n",
    "# arguments or a combination of both:\n",
    "pulsedmasterlogic.set_measurement_settings(invoke_settings=False, \n",
    "                                           controlled_variable=1e-8 + generate_params['number_of_taus'] * 1e-8,\n",
    "                                           number_of_lasers=generate_params['number_of_taus'], \n",
    "                                           laser_ignore_list=[], \n",
    "                                           alternating=False, \n",
    "                                           units=('s', 'arb. u.'))\n",
    "time.sleep(0.5)\n",
    "\n",
    "# If the pulse sequence to run has been generated using predefined methods, the measurement settings can be invoked \n",
    "# from the PulseBlockEnsemble attribute \"measurement_information\". In that case it is enough to execute the following:\n",
    "# pulsedmasterlogic.set_measurement_settings(invoke_settings=True)\n",
    "# time.sleep(0.5)"
   ]
  },
  {
   "cell_type": "code",
   "execution_count": 3,
   "metadata": {
    "collapsed": false
   },
   "outputs": [
    {
     "name": "stdout",
     "output_type": "stream",
     "text": [
      "invoke_settings:\n",
      "  False\n",
      "controlled_variable:\n",
      "  1.0099999999999999e-06\n",
      "number_of_lasers:\n",
      "  100\n",
      "laser_ignore_list:\n",
      "  []\n",
      "alternating:\n",
      "  False\n",
      "units:\n",
      "  ('s', 'arb. u.')\n"
     ]
    }
   ],
   "source": [
    "# You can get a read-only view of the current measurement settings by using this property:\n",
    "for setting, value in pulsedmasterlogic.measurement_settings.items():\n",
    "    print('{0}:\\n  {1}'.format(setting, value))"
   ]
  },
  {
   "cell_type": "markdown",
   "metadata": {},
   "source": [
    "### Set the fast counter settings (when NOT using \"invoke_settings\")"
   ]
  },
  {
   "cell_type": "code",
   "execution_count": null,
   "metadata": {
    "collapsed": true
   },
   "outputs": [],
   "source": [
    "# In case you used \"invoke_Settings\" this part is not necessary\n",
    "# The number_of_gates is only used in case of a hardware gated fast counter. It will always be set to 0 otherwise.\n",
    "# The record length should be the length of the pulse sequence for an ungated counter and the length of the longest \n",
    "# gate for a gated counter.\n",
    "pulsedmasterlogic.set_fast_counter_settings(record_length=237.8e-6, number_of_gates=50)\n",
    "time.sleep(0.5)"
   ]
  },
  {
   "cell_type": "code",
   "execution_count": 17,
   "metadata": {
    "collapsed": false
   },
   "outputs": [
    {
     "name": "stdout",
     "output_type": "stream",
     "text": [
      "bin_width: 1e-09\n",
      "record_length: 3e-06\n",
      "number_of_gates: 0\n",
      "is_gated: True\n"
     ]
    }
   ],
   "source": [
    "# You can see the current fast counter settings with the this property:\n",
    "for setting, value in pulsedmasterlogic.fast_counter_settings.items():\n",
    "    print('{0}: {1}'.format(setting, value))"
   ]
  },
  {
   "cell_type": "markdown",
   "metadata": {},
   "source": [
    "### Set extraction settings"
   ]
  },
  {
   "cell_type": "code",
   "execution_count": 28,
   "metadata": {
    "collapsed": false
   },
   "outputs": [
    {
     "name": "stdout",
     "output_type": "stream",
     "text": [
      "['conv_deriv']\n"
     ]
    }
   ],
   "source": [
    "# You can also change how qudi will extract laser pulses from the raw fast counter timetrace.\n",
    "# You can get all available extraction methods with the following property:\n",
    "print(list(pulsedmasterlogic.extraction_methods))"
   ]
  },
  {
   "cell_type": "code",
   "execution_count": 29,
   "metadata": {
    "collapsed": false
   },
   "outputs": [
    {
     "name": "stdout",
     "output_type": "stream",
     "text": [
      "conv_std_dev: 20.0\n",
      "method: conv_deriv\n"
     ]
    }
   ],
   "source": [
    "# To change the current extraction method:\n",
    "pulsedmasterlogic.set_extraction_settings(method='threshold')\n",
    "time.sleep(0.2)\n",
    "\n",
    "# You can get the current extraction method along with all needed settings with the read-only property:\n",
    "for setting, value in pulsedmasterlogic.extraction_settings.items():\n",
    "    print('{0}: {1}'.format(setting, value))"
   ]
  },
  {
   "cell_type": "code",
   "execution_count": 30,
   "metadata": {
    "collapsed": true
   },
   "outputs": [],
   "source": [
    "# Set the extraction settings in the same way as you set other settings\n",
    "pulsedmasterlogic.set_extraction_settings(count_threshold=20, min_laser_length=100e-9, threshold_tolerance=10e-9)\n",
    "time.sleep(0.2)"
   ]
  },
  {
   "cell_type": "markdown",
   "metadata": {},
   "source": [
    "### Set analysis settings"
   ]
  },
  {
   "cell_type": "code",
   "execution_count": 31,
   "metadata": {
    "collapsed": false
   },
   "outputs": [
    {
     "name": "stdout",
     "output_type": "stream",
     "text": [
      "['mean', 'mean_norm']\n"
     ]
    }
   ],
   "source": [
    "# Completely analogous to the extraction method\n",
    "print(list(pulsedmasterlogic.analysis_methods))"
   ]
  },
  {
   "cell_type": "code",
   "execution_count": 32,
   "metadata": {
    "collapsed": false
   },
   "outputs": [
    {
     "name": "stdout",
     "output_type": "stream",
     "text": [
      "signal_start: 0.0\n",
      "signal_end: 2e-07\n",
      "norm_start: 3e-07\n",
      "norm_end: 5e-07\n",
      "method: mean_norm\n"
     ]
    }
   ],
   "source": [
    "# To change the current analysis method:\n",
    "pulsedmasterlogic.set_analysis_settings(method='mean_norm')\n",
    "time.sleep(0.2)\n",
    "\n",
    "# You can get the current analysis method along with all needed settings with the read-only property:\n",
    "for setting, value in pulsedmasterlogic.analysis_settings.items():\n",
    "    print('{0}: {1}'.format(setting, value))"
   ]
  },
  {
   "cell_type": "code",
   "execution_count": 33,
   "metadata": {
    "collapsed": true
   },
   "outputs": [],
   "source": [
    "# Set the analysis settings in the same way as you set other settings\n",
    "pulsedmasterlogic.set_analysis_settings(signal_start=0.0, signal_end=2e-7, norm_start=4e-7, norm_end=7e-7)\n",
    "time.sleep(0.2)"
   ]
  },
  {
   "cell_type": "markdown",
   "metadata": {},
   "source": [
    "### When using an additional external CW microwave, set microwave settings"
   ]
  },
  {
   "cell_type": "code",
   "execution_count": null,
   "metadata": {
    "collapsed": true
   },
   "outputs": [],
   "source": [
    "# Set new values\n",
    "pulsedmasterlogic.set_ext_microwave_settings(power=-20, frequency=2.5e9, use_ext_microwave=True)\n",
    "time.sleep(0.5)\n",
    "\n",
    "# get the current settings with the following property:\n",
    "for setting, value in pulsedmasterlogic.ext_microwave_settings.items():\n",
    "    print('{0}: {1}'.format(setting, value))"
   ]
  },
  {
   "cell_type": "markdown",
   "metadata": {},
   "source": [
    "### You can set if a second plot should be shown with a certain data transformation"
   ]
  },
  {
   "cell_type": "code",
   "execution_count": null,
   "metadata": {
    "collapsed": true
   },
   "outputs": [],
   "source": [
    "pulsedmasterlogic.set_alternative_data_type('FFT')\n",
    "time.sleep(0.5)\n",
    "print(pulsedmasterlogic.alternative_data_type)"
   ]
  },
  {
   "cell_type": "markdown",
   "metadata": {},
   "source": [
    "### Set the refresh rate for the measurement data"
   ]
  },
  {
   "cell_type": "code",
   "execution_count": 12,
   "metadata": {
    "collapsed": false
   },
   "outputs": [
    {
     "name": "stdout",
     "output_type": "stream",
     "text": [
      "3.0\n"
     ]
    }
   ],
   "source": [
    "# This will set the time interval for reading the raw data from the fast counter and analyzing it. \n",
    "# Don't set this interval too small since it can lead to heavy CPU load and crashes.\n",
    "# If you want to update the data on demand you can always click the \"pull and analyze data\" button in the GUI.\n",
    "pulsedmasterlogic.set_timer_interval(3)\n",
    "time.sleep(0.2)\n",
    "print(pulsedmasterlogic.timer_interval)"
   ]
  },
  {
   "cell_type": "markdown",
   "metadata": {},
   "source": [
    "# Start the pulsed measurement"
   ]
  },
  {
   "cell_type": "code",
   "execution_count": 10,
   "metadata": {
    "collapsed": true
   },
   "outputs": [],
   "source": [
    "# If everything is properly set, we can start a measurement simply by calling:\n",
    "pulsedmasterlogic.toggle_pulsed_measurement(True)\n",
    "# Wait until the pulsedmeasurementlogic is actually busy and the measurement is running\n",
    "while pulsedmeasurementlogic.module_state() != 'locked':\n",
    "    time.sleep(0.2)"
   ]
  },
  {
   "cell_type": "markdown",
   "metadata": {},
   "source": [
    "# Stop the pulsed measurement"
   ]
  },
  {
   "cell_type": "code",
   "execution_count": 11,
   "metadata": {
    "collapsed": false
   },
   "outputs": [],
   "source": [
    "pulsedmasterlogic.toggle_pulsed_measurement(False)\n",
    "# Wait until the pulsedmeasurementlogic is actually idle and the measurement is stopped\n",
    "while pulsedmeasurementlogic.module_state() == 'locked':\n",
    "    time.sleep(0.2)"
   ]
  },
  {
   "cell_type": "markdown",
   "metadata": {},
   "source": [
    "# Save the measurement data"
   ]
  },
  {
   "cell_type": "code",
   "execution_count": null,
   "metadata": {
    "collapsed": true
   },
   "outputs": [],
   "source": [
    "pulsedmasterlogic.save_measurement_data(tag='my_dummy_measurement', with_error=True)"
   ]
  }
 ],
 "metadata": {
  "kernelspec": {
   "display_name": "Qudi",
   "language": "python",
   "name": "qudi"
  },
  "language_info": {
   "codemirror_mode": {
    "name": "ipython",
    "version": "3.6.0"
   },
   "file_extension": ".py",
   "mimetype": "text/x-python",
   "name": "python",
   "nbconvert_exporter": "python",
   "pygments_lexer": "ipython3",
   "version": "3.6.0"
  }
 },
 "nbformat": 4,
 "nbformat_minor": 2
}
