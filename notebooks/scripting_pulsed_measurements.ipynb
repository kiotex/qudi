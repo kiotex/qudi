{
 "cells": [
  {
   "cell_type": "code",
   "execution_count": 28,
   "metadata": {},
   "outputs": [],
   "source": [
    "import numpy as np\n",
    "import time"
   ]
  },
  {
   "cell_type": "markdown",
   "metadata": {},
   "source": [
    "# Create a pulse sequence for the measurement"
   ]
  },
  {
   "cell_type": "markdown",
   "metadata": {},
   "source": [
    "### Set desired common parameters for predefined sequence generation"
   ]
  },
  {
   "cell_type": "code",
   "execution_count": 29,
   "metadata": {},
   "outputs": [
    {
     "name": "stdout",
     "output_type": "stream",
     "text": [
      "laser_channel: d_ch1\n",
      "sync_channel: d_ch4\n",
      "gate_channel: \n",
      "microwave_channel: a_ch1\n",
      "microwave_frequency: 2870000000.0\n",
      "microwave_amplitude: 0.25\n",
      "rabi_period: 2e-07\n",
      "laser_length: 3e-06\n",
      "laser_delay: 5e-07\n",
      "wait_time: 1e-06\n",
      "analog_trigger_voltage: 0.0\n"
     ]
    }
   ],
   "source": [
    "# To change some parameters you need to use \"pulsedmasterlogic.set_generation_parameters()\"\n",
    "# You can either set each parameter by passing it as keyword argument or give the method a dictionary containing the \n",
    "# parameters to change or a combination of both where the first argument must be the dictionary followed by a number \n",
    "# of keyword arguments.\n",
    "pulsedmasterlogic.set_generation_parameters(sync_channel='d_ch4', microwave_amplitude=0.25, rabi_period=200e-9)\n",
    "pulsedmasterlogic.set_generation_parameters({'sync_channel': 'd_ch4', 'microwave_amplitude': 0.25, 'rabi_period': 200e-9})\n",
    "pulsedmasterlogic.set_generation_parameters({'sync_channel': 'd_ch4', 'microwave_amplitude': 0.25}, rabi_period=200e-9)\n",
    "\n",
    "# Read-only access to all available and currently set global generation parameters as dictionary via property\n",
    "for param, value in pulsedmasterlogic.generation_parameters.items():\n",
    "    print('{0}: {1}'.format(param, value))"
   ]
  },
  {
   "cell_type": "markdown",
   "metadata": {},
   "source": [
    "### Call the desired predefined generation method with additional sequence specific parameters"
   ]
  },
  {
   "cell_type": "code",
   "execution_count": 50,
   "metadata": {},
   "outputs": [
    {
     "name": "stdout",
     "output_type": "stream",
     "text": [
      "AEchirpedodmr:\n",
      "  {'name': 'AllenEberlyChirpODMR', 'mw_freq_center': 2870000000.0, 'freq_range': 500000000.0, 'freq_overlap': 20000000.0, 'num_of_points': 50, 'pulse_length': 5e-07, 'truncation_ratio': 0.1, 'expected_rabi_frequency': 30000000.0, 'expected_t2': 5e-06, 'peak_mw_amplitude': 0.25}\n",
      "HHamp:\n",
      "  {'name': 'hh_amp', 'spinlock_length': 2e-05, 'amp_start': 0.05, 'amp_step': 0.01, 'num_of_points': 50}\n",
      "HHpol:\n",
      "  {'name': 'hh_pol', 'spinlock_length': 2e-05, 'spinlock_amp': 0.1, 'polarization_steps': 50}\n",
      "HHtau:\n",
      "  {'name': 'hh_tau', 'spinlock_amp': 0.1, 'tau_start': 1e-06, 'tau_step': 1e-06, 'num_of_points': 50}\n",
      "chirpedodmr:\n",
      "  {'name': 'LinearChirpedODMR', 'mw_freq_center': 2870000000.0, 'freq_range': 500000000.0, 'freq_overlap': 20000000.0, 'num_of_points': 50, 'pulse_length': 5e-07, 'expected_rabi_frequency': 30000000.0, 'expected_t2': 5e-06}\n",
      "hahnecho:\n",
      "  {'name': 'hahn_echo', 'tau_start': 0.0, 'tau_step': 1e-06, 'num_of_points': 50, 'alternating': True}\n",
      "hahnecho_exp:\n",
      "  {'name': 'hahn_echo', 'tau_start': 1e-06, 'tau_end': 1e-06, 'num_of_points': 50, 'alternating': True}\n",
      "idle:\n",
      "  {'name': 'idle', 'length': 3e-06}\n",
      "laser_mw_on:\n",
      "  {'name': 'laser_mw_on', 'length': 3e-06}\n",
      "laser_on:\n",
      "  {'name': 'laser_on', 'length': 3e-06}\n",
      "pulsedodmr:\n",
      "  {'name': 'pulsedODMR', 'freq_start': 2870000000.0, 'freq_step': 200000.0, 'num_of_points': 50}\n",
      "rabi:\n",
      "  {'name': 'my_rabi', 'tau_start': 1e-08, 'tau_step': 1e-08, 'num_of_points': 50}\n",
      "ramsey:\n",
      "  {'name': 'ramsey', 'tau_start': 1e-06, 'tau_step': 1e-06, 'num_of_points': 50, 'alternating': True}\n",
      "ramsey_from_list:\n",
      "  {'name': 'ramsey', 'tau_list': '[1e-6, 2e-6]', 'alternating': True}\n",
      "t1:\n",
      "  {'name': 'T1', 'tau_start': 1e-06, 'tau_step': 1e-06, 'num_of_points': 50, 'alternating': False}\n",
      "t1_exponential:\n",
      "  {'name': 'T1_exp', 'tau_start': 1e-06, 'tau_end': 1e-06, 'num_of_points': 50, 'alternating': False}\n",
      "t1_sequencing:\n",
      "  {'name': 't1_seq', 'tau_start': 1e-06, 'tau_max': 0.001, 'num_of_points': 10}\n",
      "two_digital_high:\n",
      "  {'name': 'digital_high', 'length': 3e-06, 'digital_channel1': 'd_ch1', 'digital_channel2': 'd_ch1'}\n",
      "xy8_freq:\n",
      "  {'name': 'xy8_freq', 'freq_start': 100000.0, 'freq_step': 10000.0, 'num_of_points': 50, 'xy8_order': 4, 'alternating': True}\n",
      "xy8_tau:\n",
      "  {'name': 'xy8_tau', 'tau_start': 5e-07, 'tau_step': 1e-08, 'num_of_points': 50, 'xy8_order': 4, 'alternating': True}\n"
     ]
    }
   ],
   "source": [
    "# This property contains all available predefined generate method names together with the respective set \n",
    "# of parameters with default values.\n",
    "for method, params in pulsedmasterlogic.generate_method_params.items():\n",
    "    print('{0}:\\n  {1}'.format(method, params))"
   ]
  },
  {
   "cell_type": "code",
   "execution_count": 31,
   "metadata": {},
   "outputs": [
    {
     "name": "stdout",
     "output_type": "stream",
     "text": [
      "laser_on\n",
      "rabi\n",
      "rabi2\n",
      "xy8_tau\n",
      "my_rabi\n"
     ]
    }
   ],
   "source": [
    "# Get the dictionary containing the default parameters for the desired sequence and alter the values as needed.\n",
    "generate_params = pulsedmasterlogic.generate_method_params['rabi']\n",
    "generate_params['name'] = 'my_rabi'\n",
    "generate_params['num_of_points'] = 50\n",
    "\n",
    "# Call the actual generation method using a wrapper method and pass the parameter set\n",
    "pulsedmasterlogic.generate_predefined_sequence('rabi', generate_params)\n",
    "# Give it a moment to generate\n",
    "time.sleep(0.5)\n",
    "\n",
    "# The created object is a PulseBlockEnsemble instance, a recipe to create a waveform.\n",
    "# You can get all created PulseBlockEnsembles using this property (keys are ensemble names, values are the object instances):\n",
    "for ensemble_name in pulsedmasterlogic.saved_pulse_block_ensembles.keys():\n",
    "    print(ensemble_name)"
   ]
  },
  {
   "cell_type": "markdown",
   "metadata": {},
   "source": [
    "### Sample the created PulseBlockEnsemble and write a waveform to the pulse generator (AWG)"
   ]
  },
  {
   "cell_type": "code",
   "execution_count": 32,
   "metadata": {},
   "outputs": [],
   "source": [
    "# The \"with_load\" flag can be used to also load the waveform into the channels after creating it\n",
    "pulsedmasterlogic.sample_ensemble('my_rabi', with_load=True)\n",
    "# Wait for the sampling to finish. There is a status dictionary that can be used to check for process status.\n",
    "while pulsedmasterlogic.status_dict['sampload_busy']:\n",
    "    time.sleep(0.1)"
   ]
  },
  {
   "cell_type": "code",
   "execution_count": 33,
   "metadata": {},
   "outputs": [
    {
     "name": "stdout",
     "output_type": "stream",
     "text": [
      "currently loaded asset: ('my_rabi', 'PulseBlockEnsemble')\n",
      "Available waveforms on device: ['my_rabi_ch2', 'my_rabi_ch1']\n"
     ]
    }
   ],
   "source": [
    "# You can check on the currently loaded asset on the pulse generator by using the following property:\n",
    "print('currently loaded asset:', pulsedmasterlogic.loaded_asset)\n",
    "# You can check on all created waveforms on the pulse generator by using the following property:\n",
    "print('Available waveforms on device:', pulsedmasterlogic.sampled_waveforms)"
   ]
  },
  {
   "cell_type": "markdown",
   "metadata": {},
   "source": [
    "# Set up the actual measurement"
   ]
  },
  {
   "cell_type": "markdown",
   "metadata": {},
   "source": [
    "### Set the measurement settings"
   ]
  },
  {
   "cell_type": "code",
   "execution_count": 34,
   "metadata": {},
   "outputs": [],
   "source": [
    "# If the pulse sequence has been generated not using predefined methods (e.g. using the graphical table editor) the \n",
    "# measurement settings have to be given manually.\n",
    "# In the same way as setting the generation parameters you can either pass a settings dictionary or single keyword \n",
    "# arguments or a combination of both:\n",
    "pulsedmasterlogic.set_measurement_settings(invoke_settings=False, \n",
    "                                           controlled_variable=1e-8 + np.arange(50) * 1e-8,\n",
    "                                           number_of_lasers=50, \n",
    "                                           laser_ignore_list=[], \n",
    "                                           alternating=False, \n",
    "                                           units=('s', 'arb. u.'))\n",
    "time.sleep(0.5)\n",
    "\n",
    "# If the pulse sequence to run has been generated using predefined methods, the measurement settings can be invoked \n",
    "# from the PulseBlockEnsemble attribute \"measurement_information\". In that case it is enough to execute the following:\n",
    "pulsedmasterlogic.set_measurement_settings(invoke_settings=True)\n",
    "time.sleep(0.5)"
   ]
  },
  {
   "cell_type": "code",
   "execution_count": 35,
   "metadata": {},
   "outputs": [
    {
     "name": "stdout",
     "output_type": "stream",
     "text": [
      "invoke_settings:\n",
      "  True\n",
      "controlled_variable:\n",
      "  [1.0e-08 2.0e-08 3.0e-08 4.0e-08 5.0e-08 6.0e-08 7.0e-08 8.0e-08 9.0e-08\n",
      " 1.0e-07 1.1e-07 1.2e-07 1.3e-07 1.4e-07 1.5e-07 1.6e-07 1.7e-07 1.8e-07\n",
      " 1.9e-07 2.0e-07 2.1e-07 2.2e-07 2.3e-07 2.4e-07 2.5e-07 2.6e-07 2.7e-07\n",
      " 2.8e-07 2.9e-07 3.0e-07 3.1e-07 3.2e-07 3.3e-07 3.4e-07 3.5e-07 3.6e-07\n",
      " 3.7e-07 3.8e-07 3.9e-07 4.0e-07 4.1e-07 4.2e-07 4.3e-07 4.4e-07 4.5e-07\n",
      " 4.6e-07 4.7e-07 4.8e-07 4.9e-07 5.0e-07]\n",
      "number_of_lasers:\n",
      "  50\n",
      "laser_ignore_list:\n",
      "  []\n",
      "alternating:\n",
      "  False\n",
      "units:\n",
      "  ('s', '')\n",
      "labels:\n",
      "  ['Tau', 'Signal']\n"
     ]
    }
   ],
   "source": [
    "# You can get a read-only view of the current measurement settings by using this property:\n",
    "for setting, value in pulsedmasterlogic.measurement_settings.items():\n",
    "    print('{0}:\\n  {1}'.format(setting, value))"
   ]
  },
  {
   "cell_type": "markdown",
   "metadata": {},
   "source": [
    "### Set the fast counter settings (when NOT using \"invoke_settings\")"
   ]
  },
  {
   "cell_type": "code",
   "execution_count": 36,
   "metadata": {},
   "outputs": [],
   "source": [
    "# In case you used \"invoke_Settings\" this part is not necessary\n",
    "# The number_of_gates is only used in case of a hardware gated fast counter. It will always be set to 0 otherwise.\n",
    "# The record length should be the length of the pulse sequence for an ungated counter and the length of the longest \n",
    "# gate for a gated counter.\n",
    "pulsedmasterlogic.set_fast_counter_settings(record_length=237.8e-6, number_of_gates=50)\n",
    "time.sleep(0.5)"
   ]
  },
  {
   "cell_type": "code",
   "execution_count": 37,
   "metadata": {},
   "outputs": [
    {
     "name": "stdout",
     "output_type": "stream",
     "text": [
      "bin_width: 1.0526315789473683e-09\n",
      "record_length: 0.00023779999999999998\n",
      "number_of_gates: 0\n",
      "is_gated: False\n"
     ]
    }
   ],
   "source": [
    "# You can see the current fast counter settings with the this property:\n",
    "for setting, value in pulsedmasterlogic.fast_counter_settings.items():\n",
    "    print('{0}: {1}'.format(setting, value))"
   ]
  },
  {
   "cell_type": "markdown",
   "metadata": {},
   "source": [
    "### Set extraction settings"
   ]
  },
  {
   "cell_type": "code",
   "execution_count": 38,
   "metadata": {},
   "outputs": [
    {
     "name": "stdout",
     "output_type": "stream",
     "text": [
      "['conv_deriv', 'gated_conv_deriv', 'pass_through', 'threshold']\n"
     ]
    }
   ],
   "source": [
    "# You can also change how qudi will extract laser pulses from the raw fast counter timetrace.\n",
    "# You can get all available extraction methods with the following property:\n",
    "print(list(pulsedmasterlogic.extraction_methods))"
   ]
  },
  {
   "cell_type": "code",
   "execution_count": 39,
   "metadata": {},
   "outputs": [
    {
     "name": "stdout",
     "output_type": "stream",
     "text": [
      "count_threshold: 20\n",
      "min_laser_length: 1e-07\n",
      "threshold_tolerance: 1e-08\n",
      "method: threshold\n"
     ]
    }
   ],
   "source": [
    "# To change the current extraction method:\n",
    "pulsedmasterlogic.set_extraction_settings(method='threshold')\n",
    "time.sleep(0.2)\n",
    "\n",
    "# You can get the current extraction method along with all needed settings with the read-only property:\n",
    "for setting, value in pulsedmasterlogic.extraction_settings.items():\n",
    "    print('{0}: {1}'.format(setting, value))"
   ]
  },
  {
   "cell_type": "code",
   "execution_count": 40,
   "metadata": {},
   "outputs": [],
   "source": [
    "# Set the extraction settings in the same way as you set other settings\n",
    "pulsedmasterlogic.set_extraction_settings(count_threshold=20, min_laser_length=100e-9, threshold_tolerance=10e-9)\n",
    "time.sleep(0.2)"
   ]
  },
  {
   "cell_type": "markdown",
   "metadata": {},
   "source": [
    "### Set analysis settings"
   ]
  },
  {
   "cell_type": "code",
   "execution_count": 41,
   "metadata": {},
   "outputs": [
    {
     "name": "stdout",
     "output_type": "stream",
     "text": [
      "['mean', 'mean_norm', 'mean_reference', 'pass_through', 'sum']\n"
     ]
    }
   ],
   "source": [
    "# Completely analogous to the extraction method\n",
    "print(list(pulsedmasterlogic.analysis_methods))"
   ]
  },
  {
   "cell_type": "code",
   "execution_count": 42,
   "metadata": {},
   "outputs": [
    {
     "name": "stdout",
     "output_type": "stream",
     "text": [
      "signal_start: 0.0\n",
      "signal_end: 2e-07\n",
      "norm_start: 4e-07\n",
      "norm_end: 7e-07\n",
      "method: mean_norm\n"
     ]
    }
   ],
   "source": [
    "# To change the current analysis method:\n",
    "pulsedmasterlogic.set_analysis_settings(method='mean_norm')\n",
    "time.sleep(0.2)\n",
    "\n",
    "# You can get the current analysis method along with all needed settings with the read-only property:\n",
    "for setting, value in pulsedmasterlogic.analysis_settings.items():\n",
    "    print('{0}: {1}'.format(setting, value))"
   ]
  },
  {
   "cell_type": "code",
   "execution_count": 43,
   "metadata": {},
   "outputs": [],
   "source": [
    "# Set the analysis settings in the same way as you set other settings\n",
    "pulsedmasterlogic.set_analysis_settings(signal_start=0.0, signal_end=2e-7, norm_start=4e-7, norm_end=7e-7)\n",
    "time.sleep(0.2)"
   ]
  },
  {
   "cell_type": "markdown",
   "metadata": {},
   "source": [
    "### When using an additional external CW microwave, set microwave settings"
   ]
  },
  {
   "cell_type": "code",
   "execution_count": 44,
   "metadata": {},
   "outputs": [
    {
     "name": "stdout",
     "output_type": "stream",
     "text": [
      "power: -20.0\n",
      "frequency: 2500000000.0\n",
      "use_ext_microwave: True\n"
     ]
    }
   ],
   "source": [
    "# Set new values\n",
    "pulsedmasterlogic.set_ext_microwave_settings(power=-20, frequency=2.5e9, use_ext_microwave=True)\n",
    "time.sleep(0.5)\n",
    "\n",
    "# get the current settings with the following property:\n",
    "for setting, value in pulsedmasterlogic.ext_microwave_settings.items():\n",
    "    print('{0}: {1}'.format(setting, value))"
   ]
  },
  {
   "cell_type": "markdown",
   "metadata": {},
   "source": [
    "### You can set if a second plot should be shown with a certain data transformation"
   ]
  },
  {
   "cell_type": "code",
   "execution_count": 45,
   "metadata": {},
   "outputs": [
    {
     "name": "stdout",
     "output_type": "stream",
     "text": [
      "FFT\n"
     ]
    }
   ],
   "source": [
    "pulsedmasterlogic.set_alternative_data_type('FFT')\n",
    "time.sleep(0.5)\n",
    "print(pulsedmasterlogic.alternative_data_type)"
   ]
  },
  {
   "cell_type": "markdown",
   "metadata": {},
   "source": [
    "### Set the refresh rate for the measurement data"
   ]
  },
  {
   "cell_type": "code",
   "execution_count": 46,
   "metadata": {},
   "outputs": [
    {
     "name": "stdout",
     "output_type": "stream",
     "text": [
      "5.0\n"
     ]
    }
   ],
   "source": [
    "# This will set the time interval for reading the raw data from the fast counter and analyzing it. \n",
    "# Don't set this interval too small since it can lead to heavy CPU load and crashes.\n",
    "# If you want to update the data on demand you can always click the \"pull and analyze data\" button in the GUI.\n",
    "pulsedmasterlogic.set_timer_interval(5)\n",
    "time.sleep(0.2)\n",
    "print(pulsedmasterlogic.timer_interval)"
   ]
  },
  {
   "cell_type": "markdown",
   "metadata": {},
   "source": [
    "# Start the pulsed measurement"
   ]
  },
  {
   "cell_type": "code",
   "execution_count": 47,
   "metadata": {},
   "outputs": [],
   "source": [
    "# If everything is properly set, we can start a measurement simply by calling:\n",
    "pulsedmasterlogic.toggle_pulsed_measurement(True)\n",
    "# Wait until the pulsedmeasurementlogic is actually busy and the measurement is running\n",
    "while pulsedmeasurementlogic.module_state() != 'locked':\n",
    "    time.sleep(0.2)"
   ]
  },
  {
   "cell_type": "markdown",
   "metadata": {},
   "source": [
    "# Stop the pulsed measurement"
   ]
  },
  {
   "cell_type": "code",
   "execution_count": 48,
   "metadata": {},
   "outputs": [],
   "source": [
    "pulsedmasterlogic.toggle_pulsed_measurement(False)\n",
    "# Wait until the pulsedmeasurementlogic is actually idle and the measurement is stopped\n",
    "while pulsedmeasurementlogic.module_state() == 'locked':\n",
    "    time.sleep(0.2)"
   ]
  },
  {
   "cell_type": "markdown",
   "metadata": {},
   "source": [
    "# Save the measurement data"
   ]
  },
  {
   "cell_type": "code",
   "execution_count": 49,
   "metadata": {},
   "outputs": [],
   "source": [
    "pulsedmasterlogic.save_measurement_data(tag='my_dummy_measurement', with_error=True)"
   ]
  },
  {
   "cell_type": "code",
   "execution_count": null,
   "metadata": {},
   "outputs": [],
   "source": []
  }
 ],
 "metadata": {
  "kernelspec": {
   "display_name": "Qudi",
   "language": "python",
   "name": "qudi"
  },
  "language_info": {
   "codemirror_mode": {
    "name": "ipython",
    "version": "3.6.5"
   },
   "file_extension": ".py",
   "mimetype": "text/x-python",
   "name": "python",
   "nbconvert_exporter": "python",
   "pygments_lexer": "ipython3",
   "version": "3.6.5"
  }
 },
 "nbformat": 4,
 "nbformat_minor": 4
}
